{
 "cells": [
  {
   "cell_type": "markdown",
   "metadata": {},
   "source": []
  },
  {
   "cell_type": "markdown",
   "metadata": {},
   "source": [
    "# Navigation\n",
    "\n",
    "---\n",
    "\n",
    "In this notebook, you will learn how to use the Unity ML-Agents environment for the first project of the [Deep Reinforcement Learning Nanodegree](https://www.udacity.com/course/deep-reinforcement-learning-nanodegree--nd893).\n",
    "\n",
    "### 1. Start the Environment\n",
    "\n",
    "We begin by importing some necessary packages.  If the code cell below returns an error, please revisit the project instructions to double-check that you have installed [Unity ML-Agents](https://github.com/Unity-Technologies/ml-agents/blob/master/docs/Installation.md) and [NumPy](http://www.numpy.org/)."
   ]
  },
  {
   "cell_type": "code",
   "execution_count": 1,
   "metadata": {
    "scrolled": true
   },
   "outputs": [
    {
     "name": "stdout",
     "output_type": "stream",
     "text": [
      "Using GPU\n"
     ]
    }
   ],
   "source": [
    "from unityagents import UnityEnvironment\n",
    "import numpy as np\n",
    "import matplotlib.pyplot as plt\n",
    "import pickle\n",
    "\n",
    "from dqn_agent import Agent\n",
    "from collections import namedtuple, deque\n",
    "\n",
    "import torch\n",
    "import torchvision \n",
    "\n",
    "#Defining parameters for better plots\n",
    "%matplotlib inline\n",
    "%config InlineBackend.figure_format = 'svg'\n",
    "params = {'figure.figsize': [10, 5],\n",
    "          'axes.labelsize': 15,\n",
    "          'axes.titlesize':18,\n",
    "          'font.size': 15,\n",
    "          'legend.fontsize': 15,\n",
    "          'xtick.labelsize': 13,\n",
    "          'ytick.labelsize': 13\n",
    "         }\n",
    "plt.rcParams.update(params)\n",
    "\n",
    "if torch.cuda.is_available():\n",
    "    print(\"Using GPU\")\n",
    "else:\n",
    "    print(\"Using CPU\")\n"
   ]
  },
  {
   "cell_type": "markdown",
   "metadata": {},
   "source": [
    "Next, we will start the environment!  **_Before running the code cell below_**, change the `file_name` parameter to match the location of the Unity environment that you downloaded.\n",
    "\n",
    "- **Mac**: `\"path/to/Banana.app\"`\n",
    "- **Windows** (x86): `\"path/to/Banana_Windows_x86/Banana.exe\"`\n",
    "- **Windows** (x86_64): `\"path/to/Banana_Windows_x86_64/Banana.exe\"`\n",
    "- **Linux** (x86): `\"path/to/Banana_Linux/Banana.x86\"`\n",
    "- **Linux** (x86_64): `\"path/to/Banana_Linux/Banana.x86_64\"`\n",
    "- **Linux** (x86, headless): `\"path/to/Banana_Linux_NoVis/Banana.x86\"`\n",
    "- **Linux** (x86_64, headless): `\"path/to/Banana_Linux_NoVis/Banana.x86_64\"`\n",
    "\n",
    "For instance, if you are using a Mac, then you downloaded `Banana.app`.  If this file is in the same folder as the notebook, then the line below should appear as follows:\n",
    "```\n",
    "env = UnityEnvironment(file_name=\"Banana.app\")\n",
    "```"
   ]
  },
  {
   "cell_type": "code",
   "execution_count": 2,
   "metadata": {
    "scrolled": false
   },
   "outputs": [
    {
     "name": "stderr",
     "output_type": "stream",
     "text": [
      "INFO:unityagents:\n",
      "'Academy' started successfully!\n",
      "Unity Academy name: Academy\n",
      "        Number of Brains: 1\n",
      "        Number of External Brains : 1\n",
      "        Lesson number : 0\n",
      "        Reset Parameters :\n",
      "\t\t\n",
      "Unity brain name: BananaBrain\n",
      "        Number of Visual Observations (per agent): 0\n",
      "        Vector Observation space type: continuous\n",
      "        Vector Observation space size (per agent): 37\n",
      "        Number of stacked Vector Observation: 1\n",
      "        Vector Action space type: discrete\n",
      "        Vector Action space size (per agent): 4\n",
      "        Vector Action descriptions: , , , \n"
     ]
    }
   ],
   "source": [
    "env = UnityEnvironment(file_name=\"Banana_Windows_x86_64/Banana.exe\")"
   ]
  },
  {
   "cell_type": "markdown",
   "metadata": {},
   "source": [
    "Environments contain **_brains_** which are responsible for deciding the actions of their associated agents. Here we check for the first brain available, and set it as the default brain we will be controlling from Python."
   ]
  },
  {
   "cell_type": "code",
   "execution_count": 3,
   "metadata": {},
   "outputs": [],
   "source": [
    "# get the default brain\n",
    "brain_name = env.brain_names[0]\n",
    "brain = env.brains[brain_name]"
   ]
  },
  {
   "cell_type": "markdown",
   "metadata": {},
   "source": [
    "### 2. Examine the State and Action Spaces\n",
    "\n",
    "The simulation contains a single agent that navigates a large environment.  At each time step, it has four actions at its disposal:\n",
    "- `0` - walk forward \n",
    "- `1` - walk backward\n",
    "- `2` - turn left\n",
    "- `3` - turn right\n",
    "\n",
    "The state space has `37` dimensions and contains the agent's velocity, along with ray-based perception of objects around agent's forward direction.  A reward of `+1` is provided for collecting a yellow banana, and a reward of `-1` is provided for collecting a blue banana. \n",
    "\n",
    "Run the code cell below to print some information about the environment."
   ]
  },
  {
   "cell_type": "code",
   "execution_count": 4,
   "metadata": {},
   "outputs": [
    {
     "name": "stdout",
     "output_type": "stream",
     "text": [
      "Number of agents: 1\n",
      "Number of actions: 4\n",
      "States look like: [1.         0.         0.         0.         0.84408134 0.\n",
      " 0.         1.         0.         0.0748472  0.         1.\n",
      " 0.         0.         0.25755    1.         0.         0.\n",
      " 0.         0.74177343 0.         1.         0.         0.\n",
      " 0.25854847 0.         0.         1.         0.         0.09355672\n",
      " 0.         1.         0.         0.         0.31969345 0.\n",
      " 0.        ]\n",
      "States have length: 37\n"
     ]
    }
   ],
   "source": [
    "# reset the environment\n",
    "env_info = env.reset(train_mode=False)[brain_name]\n",
    "\n",
    "# number of agents in the environment\n",
    "print('Number of agents:', len(env_info.agents))\n",
    "\n",
    "# number of actions\n",
    "action_size = brain.vector_action_space_size\n",
    "print('Number of actions:', action_size)\n",
    "\n",
    "# examine the state space \n",
    "state = env_info.vector_observations[0]\n",
    "print('States look like:', state)\n",
    "state_size = len(state)\n",
    "print('States have length:', state_size)"
   ]
  },
  {
   "cell_type": "markdown",
   "metadata": {},
   "source": [
    "### 3. Take Random Actions in the Environment\n",
    "\n",
    "In the next code cell, you will learn how to use the Python API to control the agent and receive feedback from the environment.\n",
    "\n",
    "Once this cell is executed, you will watch the agent's performance, if it selects an action (uniformly) at random with each time step.  A window should pop up that allows you to observe the agent, as it moves through the environment.  \n",
    "\n",
    "Of course, as part of the project, you'll have to change the code so that the agent is able to use its experience to gradually choose better actions when interacting with the environment!"
   ]
  },
  {
   "cell_type": "code",
   "execution_count": 5,
   "metadata": {},
   "outputs": [],
   "source": [
    "# env_info = env.reset(train_mode=False)[brain_name] # reset the environment\n",
    "# state = env_info.vector_observations[0]            # get the current state\n",
    "# score = 0                                          # initialize the score\n",
    "# while True:\n",
    "#     action = np.random.randint(action_size)        # select an action\n",
    "#     env_info = env.step(action)[brain_name]        # send the action to the environment\n",
    "#     next_state = env_info.vector_observations[0]   # get the next state\n",
    "#     reward = env_info.rewards[0]                   # get the reward\n",
    "#     done = env_info.local_done[0]                  # see if episode has finished\n",
    "    \n",
    "    \n",
    "#     score += reward                                # update the score\n",
    "#     state = next_state                             # roll over the state to next time step\n",
    "#     if done:                                       # exit loop if episode finished\n",
    "#         break\n",
    "    \n",
    "# print(\"Score: {}\".format(score))\n",
    "\n",
    "# env_info = env.reset(train_mode=True)[brain_name]\n"
   ]
  },
  {
   "attachments": {},
   "cell_type": "markdown",
   "metadata": {},
   "source": [
    "Now it's your turn to train your own agent to solve the environment!  When training the environment, set `train_mode=True`, so that the line for resetting the environment looks like the following:\n",
    "```python\n",
    "env_info = env.reset(train_mode=True)[brain_name]\n",
    "```"
   ]
  },
  {
   "cell_type": "code",
   "execution_count": 6,
   "metadata": {},
   "outputs": [],
   "source": [
    "agent = Agent(state_size, action_size, seed=0)"
   ]
  },
  {
   "attachments": {},
   "cell_type": "markdown",
   "metadata": {},
   "source": [
    "## Training the Agent\n"
   ]
  },
  {
   "cell_type": "code",
   "execution_count": 7,
   "metadata": {},
   "outputs": [],
   "source": [
    "eps_start = 1.0\n",
    "eps_end = 0.01\n",
    "eps_decay=0.995\n",
    "n_episodes = 900\n",
    "t_max = 300                        #  a limitation of the environment\n",
    "SCORE_STOP_CONDITION = 13\n",
    "WINDOW_SIZE = 100\n",
    "def agent_learning(env, agent, score_stop_condition):\n",
    "    scores = []                        # list containing scores from each episode\n",
    "    scores_window = deque(maxlen=WINDOW_SIZE)  # last 100 scores\n",
    "\n",
    "    eps = eps_start                    # initialize epsilon\n",
    "    for i_episode in range(1,n_episodes+1):\n",
    "        # action = np.random.randint(action_size)          # select an action\n",
    "        score = 0                                          # initialize the score\n",
    "        env_info = env.reset(train_mode=True)[brain_name]\n",
    "        state = env_info.vector_observations[0]            # get the current state\n",
    "        # reset environment\n",
    "        for t in range(t_max):\n",
    "            action = agent.act(state).astype(int)          # select an action\n",
    "            # print(f\"action selection:{action}\")\n",
    "            env_info = env.step(action)[brain_name]        # send the action to the environment\n",
    "            next_state = env_info.vector_observations[0]   # get the next state\n",
    "            reward = int(env_info.rewards[0])              # get the reward\n",
    "            # if reward != 0.0:\n",
    "                # print(reward, flush = True)\n",
    "            done = env_info.local_done[0]                  # see if episode has finished\n",
    "            agent.step(state, action, reward, next_state, done)\n",
    "\n",
    "            score += reward                                # update the score\n",
    "            state = next_state                             # roll over the state to next time step\n",
    "            if done:                                       # exit loop if episode finished\n",
    "                break\n",
    "\n",
    "        scores_window.append(score)\n",
    "        scores.append(score)                              # save most recent score\n",
    "        eps = max(eps_end, eps_decay*eps)                 # decrease epsilon\n",
    "\n",
    "        # print('\\rEpisode {}\\tAverage Score: {:.1f}'.format(i_episode, np.mean(scores_window)), end=\"\", flush=True)\n",
    "        if i_episode % 100 == 0:\n",
    "            print('\\rEpisode {}\\tAverage Score: {:.2f}'.format(i_episode, np.mean(scores_window)))\n",
    "        if np.mean(scores_window)>score_stop_condition:\n",
    "            print('\\nEnvironment solved in {:d} episodes!\\tAverage Score: {:.2f}'.format(i_episode-100, np.mean(scores_window)))\n",
    "            print(f\"Last scores batch:\\n{scores_window}\")\n",
    "            break\n",
    "\n",
    "        elif(i_episode == n_episodes):\n",
    "            print('\\Episodes horizon exceeded!\\tAverage Score: {:.2f}'.format(np.mean(scores_window)))\n",
    "            print(f\"Last scores batch:\\n{scores_window}\")            \n",
    "\n",
    "    return scores, agent.qnetwork_local.state_dict()"
   ]
  },
  {
   "cell_type": "code",
   "execution_count": 8,
   "metadata": {},
   "outputs": [
    {
     "name": "stdout",
     "output_type": "stream",
     "text": [
      "Episode 100\tAverage Score: 0.74\n",
      "Episode 200\tAverage Score: 6.01\n",
      "Episode 300\tAverage Score: 7.54\n",
      "Episode 400\tAverage Score: 8.74\n",
      "Episode 500\tAverage Score: 12.34\n",
      "Episode 600\tAverage Score: 12.71\n",
      "Episode 700\tAverage Score: 12.60\n",
      "\n",
      "Environment solved in 665 episodes!\tAverage Score: 13.03\n",
      "Last scores batch:\n",
      "deque([5, 9, 12, 16, 5, 17, 15, 15, 16, 10, 19, 9, 13, 12, 11, 13, 10, 19, 10, 14, 18, 11, 3, 14, 10, 19, 15, 12, 16, 18, 10, 8, 16, 11, 16, 16, 6, 10, 9, 13, 15, 7, 15, 13, 9, 17, 11, 11, 13, 17, 8, 15, 14, 16, 14, 15, 8, 16, 15, 14, 14, 16, 14, 11, 10, 10, 11, 13, 18, 12, 11, 13, 13, 7, 18, 15, 18, 9, 11, 14, 10, 16, 15, 10, 14, 13, 12, 14, 15, 11, 17, 14, 11, 11, 10, 17, 15, 15, 20, 21], maxlen=100)\n"
     ]
    }
   ],
   "source": [
    "learning_curve, agent_weights = agent_learning(env, agent, SCORE_STOP_CONDITION)\n",
    "torch.save(agent_weights, 'checkpoint.pth')"
   ]
  },
  {
   "cell_type": "code",
   "execution_count": 9,
   "metadata": {},
   "outputs": [],
   "source": [
    "# algoritmo: rodar learning_process\n",
    "# retornar de cada learning process o histórico;\n",
    "# deixar como está esse, mas definir como uma função a parte de learning\n",
    "# retornar scores\n",
    "\n",
    "# para cada iteração, dar append do scores\n",
    "# fazer alguma função para entrar uma lista de listas e sair uma média de listas\n",
    "\n",
    "#plotar a \"lista média\""
   ]
  },
  {
   "cell_type": "code",
   "execution_count": 10,
   "metadata": {},
   "outputs": [
    {
     "name": "stdout",
     "output_type": "stream",
     "text": [
      "Using GPU\n"
     ]
    },
    {
     "data": {
      "text/plain": [
       "<All keys matched successfully>"
      ]
     },
     "execution_count": 10,
     "metadata": {},
     "output_type": "execute_result"
    }
   ],
   "source": [
    "\n",
    "if torch.cuda.is_available():\n",
    "    map_location=lambda storage, loc: storage.cuda()\n",
    "    print(\"Using GPU\")\n",
    "else:\n",
    "    map_location='cpu'\n",
    "    print(\"Using CPU\")\n",
    "\n",
    "checkpoint = torch.load('checkpoint.pth', map_location=map_location)\n",
    "agent.qnetwork_local.load_state_dict(checkpoint)\n",
    "\n"
   ]
  },
  {
   "attachments": {},
   "cell_type": "markdown",
   "metadata": {
    "slideshow": {
     "slide_type": "slide"
    }
   },
   "source": [
    "##  Evaluation of the learned policy"
   ]
  },
  {
   "cell_type": "code",
   "execution_count": 11,
   "metadata": {},
   "outputs": [
    {
     "name": "stdout",
     "output_type": "stream",
     "text": [
      "number of steps until finish the episode: 300\n",
      "Score: 14.0\n"
     ]
    }
   ],
   "source": [
    "# env_info = env.reset(train_mode=False)[brain_name] # reset the environment\n",
    "env_info = env.reset(train_mode=False)[brain_name]\n",
    "state = env_info.vector_observations[0]            # get the current state\n",
    "score = 0                                          # initialize the score\n",
    "i = 0\n",
    "while True:\n",
    "\n",
    "    action = agent.act(state).astype(int)          # select an action\n",
    "    env_info = env.step(action)[brain_name]        # send the action to the environment\n",
    "    next_state = env_info.vector_observations[0]   # get the next state\n",
    "    reward = env_info.rewards[0]                   # get the reward\n",
    "    done = env_info.local_done[0]                  # see if episode has finished\n",
    "\n",
    "    score += reward                                # update the score\n",
    "    state = next_state                             # roll over the state to next time step\n",
    "    i+=1\n",
    "    if done:                                       # exit loop if episode finished\n",
    "        break\n",
    "print(f\"number of steps until finish the episode: {i}\")\n",
    "print(\"Score: {}\".format(score))"
   ]
  },
  {
   "cell_type": "code",
   "execution_count": 13,
   "metadata": {},
   "outputs": [
    {
     "name": "stdout",
     "output_type": "stream",
     "text": [
      "Using GPU\n"
     ]
    }
   ],
   "source": [
    "from unityagents import UnityEnvironment\n",
    "import numpy as np\n",
    "import matplotlib.pyplot as plt\n",
    "import pickle\n",
    "\n",
    "from dqn_agent import Agent\n",
    "from collections import namedtuple, deque\n",
    "\n",
    "import torch\n",
    "import torchvision \n",
    "\n",
    "#DEFININDO ALGUNS PARÂMETROS PARA PLOTAR GRÁFICOS\n",
    "%matplotlib inline\n",
    "%config InlineBackend.figure_format = 'svg'\n",
    "params = {'figure.figsize': [10, 5],\n",
    "          'axes.labelsize': 15,\n",
    "          'axes.titlesize':18,\n",
    "          'font.size': 15,\n",
    "          'legend.fontsize': 15,\n",
    "          'xtick.labelsize': 13,\n",
    "          'ytick.labelsize': 13\n",
    "         }\n",
    "plt.rcParams.update(params)\n",
    "\n",
    "if torch.cuda.is_available():\n",
    "    print(\"Using GPU\")\n",
    "else:\n",
    "    print(\"Using CPU\")\n"
   ]
  },
  {
   "cell_type": "code",
   "execution_count": 14,
   "metadata": {},
   "outputs": [
    {
     "name": "stdout",
     "output_type": "stream",
     "text": [
      "Episode 100\tAverage Score: 0.00\n",
      "Episode 200\tAverage Score: 0.04\n",
      "Episode 300\tAverage Score: -0.04\n",
      "Episode 400\tAverage Score: -0.03\n",
      "Episode 500\tAverage Score: -0.01\n",
      "Episode 600\tAverage Score: 0.03\n",
      "Episode 700\tAverage Score: -0.03\n",
      "Episode 800\tAverage Score: -0.01\n",
      "\\Episodes horizon exceeded!\tAverage Score: -0.01\n",
      "Last scores batch:\n",
      "deque([0, -1, 0, 0, 0, 0, -1, 0, 0, 0, 1, 0, 0, 0, 0, 0, 0, 0, 1, 0, -1, 0, 0, 0, 0, -1, 0, 1, 0, 0, 0, 1, 0, 0, 0, 0, 0, 0, 0, 0, -1, 0, 0, 1, -1, 0, 0, 0, 0, 0, 0, 0, 0, -1, 0, 0, 0, 0, 0, 0, 1, -1, 0, 0, 0, 0, 0, 0, 0, -1, 1, 1, 0, 0, 0, 0, 0, 0, 0, 0, 0, 0, 0, 0, -1, 0, 0, 0, 0, 1, 0, 0, 0, 0, 0, 0, 0, 0, 0, 0], maxlen=100)\n",
      "Episode 100\tAverage Score: 4.27\n",
      "Episode 200\tAverage Score: 9.88\n",
      "Episode 300\tAverage Score: 12.33\n",
      "\n",
      "Environment solved in 225 episodes!\tAverage Score: 13.04\n",
      "Last scores batch:\n",
      "deque([9, 7, 20, 15, 16, 13, 11, 17, 13, 6, 12, 8, 12, 14, 16, 5, 17, 12, 15, 9, 14, 17, 13, 14, 13, 10, 17, 12, 0, 10, 7, 14, 8, 15, 12, 18, 18, 11, 11, 16, 10, 14, 14, 13, 10, 16, 12, 14, 7, 12, 13, 17, 17, 9, 19, 9, 16, 15, 13, 13, 13, 12, 12, 7, 10, 18, 3, 10, 12, 14, 10, 15, 15, 14, 12, 21, 10, 17, 19, 15, 14, 13, 15, 11, 12, 18, 14, 8, 12, 18, 14, 12, 14, 18, 16, 18, 19, 14, 13, 12], maxlen=100)\n",
      "Episode 100\tAverage Score: 2.30\n",
      "Episode 200\tAverage Score: 7.09\n",
      "Episode 300\tAverage Score: 9.80\n",
      "Episode 400\tAverage Score: 11.33\n",
      "Episode 500\tAverage Score: 12.68\n",
      "Episode 600\tAverage Score: 12.01\n",
      "Episode 700\tAverage Score: 12.24\n",
      "\n",
      "Environment solved in 636 episodes!\tAverage Score: 13.02\n",
      "Last scores batch:\n",
      "deque([11, 9, 16, 12, 10, 15, 11, 16, 15, 12, 11, 11, 13, 19, 11, 13, 10, 11, 11, 3, 11, 13, 14, 17, 18, 6, 13, 13, 16, 11, 13, 13, 12, 11, 12, 15, 15, 10, 15, 8, 13, 13, 8, 17, 14, 18, 11, 15, 19, 11, 14, 12, 15, 15, 5, 18, 10, 12, 11, 13, 14, 19, 15, 7, 10, 15, 19, 20, 12, 15, 12, 12, 16, 13, 15, 9, 11, 13, 10, 15, 14, 14, 16, 14, 10, 15, 12, 15, 18, 10, 11, 7, 17, 15, 17, 14, 12, 11, 12, 16], maxlen=100)\n",
      "Episode 100\tAverage Score: 0.21\n",
      "Episode 200\tAverage Score: 1.00\n",
      "Episode 300\tAverage Score: 3.61\n",
      "Episode 400\tAverage Score: 5.52\n",
      "Episode 500\tAverage Score: 9.35\n",
      "Episode 600\tAverage Score: 11.59\n",
      "Episode 700\tAverage Score: 12.33\n",
      "\n",
      "Environment solved in 691 episodes!\tAverage Score: 13.09\n",
      "Last scores batch:\n",
      "deque([12, 7, 17, 13, 15, 11, 9, 11, 7, 18, 12, 16, 12, 9, 11, 9, 13, 2, 13, 12, 17, 11, 13, 12, 10, 15, 7, 8, 15, 9, 15, 18, 15, 21, 15, 14, 10, 18, 9, 15, 15, 17, 14, 5, 12, 6, 18, 8, 14, 5, 11, 9, 14, 19, 11, 7, 10, 13, 17, 6, 20, 8, 17, 17, 9, 9, 13, 17, 17, 3, 15, 20, 19, 16, 21, 14, 13, 16, 13, 0, 18, 15, 16, 12, 17, 20, 6, 14, 12, 14, 16, 16, 21, 20, 11, 17, 16, 4, 23, 17], maxlen=100)\n",
      "Episode 100\tAverage Score: 0.11\n",
      "Episode 200\tAverage Score: -0.09\n",
      "Episode 300\tAverage Score: 0.03\n",
      "Episode 400\tAverage Score: 0.14\n",
      "Episode 500\tAverage Score: -0.04\n",
      "Episode 600\tAverage Score: -0.03\n",
      "Episode 700\tAverage Score: -0.17\n",
      "Episode 800\tAverage Score: 3.29\n",
      "\\Episodes horizon exceeded!\tAverage Score: 3.29\n",
      "Last scores batch:\n",
      "deque([0, 0, -2, 0, -1, 0, -1, -1, -1, 1, 1, -1, 1, 0, 0, -1, 1, 0, 1, 0, 1, -1, 2, 0, 1, 0, -1, 1, 0, 0, 0, -1, 0, 0, 2, 2, -1, 0, 1, -1, 1, 0, 1, -1, 0, -1, 1, 0, 1, 0, 0, 3, 1, 1, 1, 0, 0, 2, 1, 0, 3, 1, -1, 0, 2, 2, 8, -1, 1, 0, 5, 2, 5, 7, 6, 16, 13, 12, 13, 13, 11, 11, 13, 15, 11, 13, 3, 14, 7, 11, 10, 12, 12, 7, 11, 12, 8, 7, 12, 9], maxlen=100)\n",
      "Episode 100\tAverage Score: 3.78\n",
      "Episode 200\tAverage Score: 7.30\n",
      "Episode 300\tAverage Score: 11.93\n",
      "\n",
      "Environment solved in 257 episodes!\tAverage Score: 13.15\n",
      "Last scores batch:\n",
      "deque([20, 17, 15, 4, 12, 13, 4, 19, 6, 15, 15, 15, 0, 19, 13, 13, 20, 19, 12, 0, 14, 19, 14, 21, 11, 7, 11, 17, 17, 6, 13, 7, 10, 16, 14, 10, 16, 19, 6, 10, 19, 15, 10, 12, 9, 15, 17, 10, 12, 17, 15, 13, 7, 15, 14, 16, 17, 17, 8, 13, 16, 8, 10, 10, 13, 19, 14, 21, 20, 6, 18, 17, 13, 2, 2, 19, 9, 15, 13, 13, 8, 16, 4, 13, 24, 17, 14, 13, 23, 0, 20, 18, 13, 17, 17, 0, 13, 15, 15, 17], maxlen=100)\n",
      "Episode 100\tAverage Score: -0.03\n",
      "Episode 200\tAverage Score: -0.03\n",
      "Episode 300\tAverage Score: -0.04\n",
      "Episode 400\tAverage Score: 0.05\n",
      "Episode 500\tAverage Score: -0.01\n",
      "Episode 600\tAverage Score: 0.02\n",
      "Episode 700\tAverage Score: 0.04\n",
      "Episode 800\tAverage Score: -0.04\n",
      "\\Episodes horizon exceeded!\tAverage Score: -0.04\n",
      "Last scores batch:\n",
      "deque([0, 0, 0, 0, 0, -1, 1, 0, 0, 0, 0, 0, 0, -1, 0, 0, 0, 0, 0, 0, 0, 0, 0, 0, 0, 0, 0, 0, 0, 0, 0, -1, 0, 0, -1, 0, 0, 0, 0, 0, 0, 0, 0, 0, 0, 0, 0, 0, 0, 0, 0, 0, 0, 0, 0, 0, 1, 0, 0, 0, 0, 0, 0, 0, 0, 0, -1, 0, 0, 0, 0, 0, 1, 0, 1, 0, 0, 0, 0, 0, 0, 0, 0, 0, 0, 0, -1, 0, 0, -1, 0, 0, 0, 0, -1, 0, 0, 0, 0, 0], maxlen=100)\n",
      "Episode 100\tAverage Score: -0.17\n",
      "Episode 200\tAverage Score: 1.96\n",
      "Episode 300\tAverage Score: 5.52\n",
      "Episode 400\tAverage Score: 8.84\n",
      "Episode 500\tAverage Score: 9.49\n",
      "Episode 600\tAverage Score: 11.11\n",
      "Episode 700\tAverage Score: 11.61\n",
      "Episode 800\tAverage Score: 12.59\n",
      "\\Episodes horizon exceeded!\tAverage Score: 12.59\n",
      "Last scores batch:\n",
      "deque([21, 11, 15, 15, 10, 11, 9, 9, 11, 3, 9, 18, 3, 10, 18, 14, 10, 12, 21, 14, 9, 12, 18, 16, 14, 6, 18, 13, 14, 14, 12, 12, 17, 0, 14, 9, 13, 15, 12, 17, 18, 17, 15, 12, 15, 17, 14, 8, 13, 2, 8, 1, 13, 17, 4, 7, 15, 14, 14, 17, 20, 16, 11, 10, 5, 20, 9, 17, 16, 11, 6, 11, 4, 11, 15, 13, 16, 6, 18, 19, 9, 11, 12, 18, 18, 16, 17, 13, 18, 12, 11, 11, 12, 8, 6, 16, 16, 17, 11, 13], maxlen=100)\n",
      "Episode 100\tAverage Score: 0.01\n",
      "Episode 200\tAverage Score: 0.03\n",
      "Episode 300\tAverage Score: 0.01\n",
      "Episode 400\tAverage Score: -0.05\n",
      "Episode 500\tAverage Score: -0.03\n",
      "Episode 600\tAverage Score: -0.01\n",
      "Episode 700\tAverage Score: -0.04\n",
      "Episode 800\tAverage Score: 0.01\n",
      "\\Episodes horizon exceeded!\tAverage Score: 0.01\n",
      "Last scores batch:\n",
      "deque([1, 0, -1, 0, 0, 0, 0, 0, 0, 0, 0, 0, 0, 0, 1, 0, 0, 0, 0, 0, 1, 0, 0, 0, 0, 0, 0, 0, -1, 0, 0, 1, 1, 0, 0, 0, 0, 0, -1, 0, 0, 0, 0, 0, 0, 1, 0, 0, 0, 0, 0, 0, 0, 0, 0, 0, 0, 0, 0, 0, 0, 0, 0, 0, 0, 0, 0, 0, 0, 0, 0, 0, 0, 0, 0, 0, 1, 0, -1, 0, 0, 0, 0, 0, 0, 0, 0, 0, 0, 0, 0, 0, 0, 0, -1, 0, -1, 0, 0, 0], maxlen=100)\n",
      "Episode 100\tAverage Score: 0.06\n",
      "Episode 200\tAverage Score: 0.04\n",
      "Episode 300\tAverage Score: 0.16\n",
      "Episode 400\tAverage Score: -0.03\n",
      "Episode 500\tAverage Score: 0.22\n",
      "Episode 600\tAverage Score: 0.68\n",
      "Episode 700\tAverage Score: 3.72\n",
      "Episode 800\tAverage Score: 4.16\n",
      "\\Episodes horizon exceeded!\tAverage Score: 4.16\n",
      "Last scores batch:\n",
      "deque([7, 11, 1, 2, 5, 13, 14, 1, 8, 6, 8, 1, 1, 0, 7, 1, 13, 8, 8, 6, 7, 2, 9, 3, 2, 3, 1, 0, 1, 2, 2, 1, 2, 2, 1, 6, 1, 2, 8, 1, 1, 11, 2, 5, 3, 3, 8, 5, 15, 3, 2, 4, 7, 3, 1, 4, 0, 2, 4, -1, 0, 4, 4, 1, 7, 4, 3, 0, 3, 0, 0, 0, 2, 10, 2, 0, 2, 9, 8, 7, 3, 5, 7, 6, 3, 0, 3, 3, 0, 11, -1, 12, -1, 5, 7, 8, 10, 4, 5, 1], maxlen=100)\n"
     ]
    }
   ],
   "source": [
    "# Evaluating the learning Curve:\n",
    "n_learning_process = 10\n",
    "learning_data = []\n",
    "\n",
    "# env = UnityEnvironment(file_name=\"Banana_Windows_x86_64/Banana.exe\")\n",
    "\n",
    "for i in range(n_learning_process):\n",
    "    brain_name = env.brain_names[0]\n",
    "    brain = env.brains[brain_name]\n",
    "\n",
    "    env_info = env.reset(train_mode=True)[brain_name]\n",
    "    action_size = brain.vector_action_space_size\n",
    "    state_size = len(env_info.vector_observations[0])\n",
    "\n",
    "    agent = Agent(state_size, action_size, seed=2*i)\n",
    "    learning_curve, _ = agent_learning(env, agent, 999)\n",
    "    learning_data.append(learning_curve)\n",
    "\n",
    "env.close()"
   ]
  },
  {
   "cell_type": "code",
   "execution_count": 15,
   "metadata": {},
   "outputs": [],
   "source": [
    "with open('learning_dynamics.txt', 'wb') as f:\n",
    "    pickle.dump(learning_data,f)"
   ]
  },
  {
   "cell_type": "code",
   "execution_count": 16,
   "metadata": {},
   "outputs": [],
   "source": [
    "# É com os dados carregados que devo trabalhar, pra evitar perda de tempo se quebrar o kernel novamente\n",
    "\n",
    "with open(\"learning_dynamics.txt\", \"rb\") as f:\n",
    "    loaded_data = pickle.load(f)\n"
   ]
  },
  {
   "cell_type": "code",
   "execution_count": 27,
   "metadata": {},
   "outputs": [
    {
     "data": {
      "text/plain": [
       "Text(0.5, 1.0, 'Learning curve: Double DQN with a limit of 325 episodes')"
      ]
     },
     "execution_count": 27,
     "metadata": {},
     "output_type": "execute_result"
    },
    {
     "data": {
      "image/svg+xml": "<?xml version=\"1.0\" encoding=\"utf-8\" standalone=\"no\"?>\r\n<!DOCTYPE svg PUBLIC \"-//W3C//DTD SVG 1.1//EN\"\r\n  \"http://www.w3.org/Graphics/SVG/1.1/DTD/svg11.dtd\">\r\n<!-- Created with matplotlib (https://matplotlib.org/) -->\r\n<svg height=\"343.975937pt\" version=\"1.1\" viewBox=\"0 0 606.188437 343.975937\" width=\"606.188437pt\" xmlns=\"http://www.w3.org/2000/svg\" xmlns:xlink=\"http://www.w3.org/1999/xlink\">\r\n <metadata>\r\n  <rdf:RDF xmlns:cc=\"http://creativecommons.org/ns#\" xmlns:dc=\"http://purl.org/dc/elements/1.1/\" xmlns:rdf=\"http://www.w3.org/1999/02/22-rdf-syntax-ns#\">\r\n   <cc:Work>\r\n    <dc:type rdf:resource=\"http://purl.org/dc/dcmitype/StillImage\"/>\r\n    <dc:date>2023-02-21T19:21:37.977356</dc:date>\r\n    <dc:format>image/svg+xml</dc:format>\r\n    <dc:creator>\r\n     <cc:Agent>\r\n      <dc:title>Matplotlib v3.3.4, https://matplotlib.org/</dc:title>\r\n     </cc:Agent>\r\n    </dc:creator>\r\n   </cc:Work>\r\n  </rdf:RDF>\r\n </metadata>\r\n <defs>\r\n  <style type=\"text/css\">*{stroke-linecap:butt;stroke-linejoin:round;}</style>\r\n </defs>\r\n <g id=\"figure_1\">\r\n  <g id=\"patch_1\">\r\n   <path d=\"M 0 343.975937 \r\nL 606.188437 343.975937 \r\nL 606.188437 0 \r\nL 0 0 \r\nz\r\n\" style=\"fill:none;\"/>\r\n  </g>\r\n  <g id=\"axes_1\">\r\n   <g id=\"patch_2\">\r\n    <path d=\"M 40.988437 298.677188 \r\nL 598.988438 298.677188 \r\nL 598.988438 26.877187 \r\nL 40.988437 26.877187 \r\nz\r\n\" style=\"fill:#ffffff;\"/>\r\n   </g>\r\n   <g id=\"matplotlib.axis_1\">\r\n    <g id=\"xtick_1\">\r\n     <g id=\"line2d_1\">\r\n      <defs>\r\n       <path d=\"M 0 0 \r\nL 0 3.5 \r\n\" id=\"mde1350db74\" style=\"stroke:#000000;stroke-width:0.8;\"/>\r\n      </defs>\r\n      <g>\r\n       <use style=\"stroke:#000000;stroke-width:0.8;\" x=\"66.352074\" xlink:href=\"#mde1350db74\" y=\"298.677188\"/>\r\n      </g>\r\n     </g>\r\n     <g id=\"text_1\">\r\n      <!-- 0 -->\r\n      <g transform=\"translate(62.216449 315.555156)scale(0.13 -0.13)\">\r\n       <defs>\r\n        <path d=\"M 31.78125 66.40625 \r\nQ 24.171875 66.40625 20.328125 58.90625 \r\nQ 16.5 51.421875 16.5 36.375 \r\nQ 16.5 21.390625 20.328125 13.890625 \r\nQ 24.171875 6.390625 31.78125 6.390625 \r\nQ 39.453125 6.390625 43.28125 13.890625 \r\nQ 47.125 21.390625 47.125 36.375 \r\nQ 47.125 51.421875 43.28125 58.90625 \r\nQ 39.453125 66.40625 31.78125 66.40625 \r\nz\r\nM 31.78125 74.21875 \r\nQ 44.046875 74.21875 50.515625 64.515625 \r\nQ 56.984375 54.828125 56.984375 36.375 \r\nQ 56.984375 17.96875 50.515625 8.265625 \r\nQ 44.046875 -1.421875 31.78125 -1.421875 \r\nQ 19.53125 -1.421875 13.0625 8.265625 \r\nQ 6.59375 17.96875 6.59375 36.375 \r\nQ 6.59375 54.828125 13.0625 64.515625 \r\nQ 19.53125 74.21875 31.78125 74.21875 \r\nz\r\n\" id=\"DejaVuSans-48\"/>\r\n       </defs>\r\n       <use xlink:href=\"#DejaVuSans-48\"/>\r\n      </g>\r\n     </g>\r\n    </g>\r\n    <g id=\"xtick_2\">\r\n     <g id=\"line2d_2\">\r\n      <g>\r\n       <use style=\"stroke:#000000;stroke-width:0.8;\" x=\"144.634902\" xlink:href=\"#mde1350db74\" y=\"298.677188\"/>\r\n      </g>\r\n     </g>\r\n     <g id=\"text_2\">\r\n      <!-- 50 -->\r\n      <g transform=\"translate(136.363652 315.555156)scale(0.13 -0.13)\">\r\n       <defs>\r\n        <path d=\"M 10.796875 72.90625 \r\nL 49.515625 72.90625 \r\nL 49.515625 64.59375 \r\nL 19.828125 64.59375 \r\nL 19.828125 46.734375 \r\nQ 21.96875 47.46875 24.109375 47.828125 \r\nQ 26.265625 48.1875 28.421875 48.1875 \r\nQ 40.625 48.1875 47.75 41.5 \r\nQ 54.890625 34.8125 54.890625 23.390625 \r\nQ 54.890625 11.625 47.5625 5.09375 \r\nQ 40.234375 -1.421875 26.90625 -1.421875 \r\nQ 22.3125 -1.421875 17.546875 -0.640625 \r\nQ 12.796875 0.140625 7.71875 1.703125 \r\nL 7.71875 11.625 \r\nQ 12.109375 9.234375 16.796875 8.0625 \r\nQ 21.484375 6.890625 26.703125 6.890625 \r\nQ 35.15625 6.890625 40.078125 11.328125 \r\nQ 45.015625 15.765625 45.015625 23.390625 \r\nQ 45.015625 31 40.078125 35.4375 \r\nQ 35.15625 39.890625 26.703125 39.890625 \r\nQ 22.75 39.890625 18.8125 39.015625 \r\nQ 14.890625 38.140625 10.796875 36.28125 \r\nz\r\n\" id=\"DejaVuSans-53\"/>\r\n       </defs>\r\n       <use xlink:href=\"#DejaVuSans-53\"/>\r\n       <use x=\"63.623047\" xlink:href=\"#DejaVuSans-48\"/>\r\n      </g>\r\n     </g>\r\n    </g>\r\n    <g id=\"xtick_3\">\r\n     <g id=\"line2d_3\">\r\n      <g>\r\n       <use style=\"stroke:#000000;stroke-width:0.8;\" x=\"222.91773\" xlink:href=\"#mde1350db74\" y=\"298.677188\"/>\r\n      </g>\r\n     </g>\r\n     <g id=\"text_3\">\r\n      <!-- 100 -->\r\n      <g transform=\"translate(210.510855 315.555156)scale(0.13 -0.13)\">\r\n       <defs>\r\n        <path d=\"M 12.40625 8.296875 \r\nL 28.515625 8.296875 \r\nL 28.515625 63.921875 \r\nL 10.984375 60.40625 \r\nL 10.984375 69.390625 \r\nL 28.421875 72.90625 \r\nL 38.28125 72.90625 \r\nL 38.28125 8.296875 \r\nL 54.390625 8.296875 \r\nL 54.390625 0 \r\nL 12.40625 0 \r\nz\r\n\" id=\"DejaVuSans-49\"/>\r\n       </defs>\r\n       <use xlink:href=\"#DejaVuSans-49\"/>\r\n       <use x=\"63.623047\" xlink:href=\"#DejaVuSans-48\"/>\r\n       <use x=\"127.246094\" xlink:href=\"#DejaVuSans-48\"/>\r\n      </g>\r\n     </g>\r\n    </g>\r\n    <g id=\"xtick_4\">\r\n     <g id=\"line2d_4\">\r\n      <g>\r\n       <use style=\"stroke:#000000;stroke-width:0.8;\" x=\"301.200559\" xlink:href=\"#mde1350db74\" y=\"298.677188\"/>\r\n      </g>\r\n     </g>\r\n     <g id=\"text_4\">\r\n      <!-- 150 -->\r\n      <g transform=\"translate(288.793684 315.555156)scale(0.13 -0.13)\">\r\n       <use xlink:href=\"#DejaVuSans-49\"/>\r\n       <use x=\"63.623047\" xlink:href=\"#DejaVuSans-53\"/>\r\n       <use x=\"127.246094\" xlink:href=\"#DejaVuSans-48\"/>\r\n      </g>\r\n     </g>\r\n    </g>\r\n    <g id=\"xtick_5\">\r\n     <g id=\"line2d_5\">\r\n      <g>\r\n       <use style=\"stroke:#000000;stroke-width:0.8;\" x=\"379.483387\" xlink:href=\"#mde1350db74\" y=\"298.677188\"/>\r\n      </g>\r\n     </g>\r\n     <g id=\"text_5\">\r\n      <!-- 200 -->\r\n      <g transform=\"translate(367.076512 315.555156)scale(0.13 -0.13)\">\r\n       <defs>\r\n        <path d=\"M 19.1875 8.296875 \r\nL 53.609375 8.296875 \r\nL 53.609375 0 \r\nL 7.328125 0 \r\nL 7.328125 8.296875 \r\nQ 12.9375 14.109375 22.625 23.890625 \r\nQ 32.328125 33.6875 34.8125 36.53125 \r\nQ 39.546875 41.84375 41.421875 45.53125 \r\nQ 43.3125 49.21875 43.3125 52.78125 \r\nQ 43.3125 58.59375 39.234375 62.25 \r\nQ 35.15625 65.921875 28.609375 65.921875 \r\nQ 23.96875 65.921875 18.8125 64.3125 \r\nQ 13.671875 62.703125 7.8125 59.421875 \r\nL 7.8125 69.390625 \r\nQ 13.765625 71.78125 18.9375 73 \r\nQ 24.125 74.21875 28.421875 74.21875 \r\nQ 39.75 74.21875 46.484375 68.546875 \r\nQ 53.21875 62.890625 53.21875 53.421875 \r\nQ 53.21875 48.921875 51.53125 44.890625 \r\nQ 49.859375 40.875 45.40625 35.40625 \r\nQ 44.1875 33.984375 37.640625 27.21875 \r\nQ 31.109375 20.453125 19.1875 8.296875 \r\nz\r\n\" id=\"DejaVuSans-50\"/>\r\n       </defs>\r\n       <use xlink:href=\"#DejaVuSans-50\"/>\r\n       <use x=\"63.623047\" xlink:href=\"#DejaVuSans-48\"/>\r\n       <use x=\"127.246094\" xlink:href=\"#DejaVuSans-48\"/>\r\n      </g>\r\n     </g>\r\n    </g>\r\n    <g id=\"xtick_6\">\r\n     <g id=\"line2d_6\">\r\n      <g>\r\n       <use style=\"stroke:#000000;stroke-width:0.8;\" x=\"457.766215\" xlink:href=\"#mde1350db74\" y=\"298.677188\"/>\r\n      </g>\r\n     </g>\r\n     <g id=\"text_6\">\r\n      <!-- 250 -->\r\n      <g transform=\"translate(445.35934 315.555156)scale(0.13 -0.13)\">\r\n       <use xlink:href=\"#DejaVuSans-50\"/>\r\n       <use x=\"63.623047\" xlink:href=\"#DejaVuSans-53\"/>\r\n       <use x=\"127.246094\" xlink:href=\"#DejaVuSans-48\"/>\r\n      </g>\r\n     </g>\r\n    </g>\r\n    <g id=\"xtick_7\">\r\n     <g id=\"line2d_7\">\r\n      <g>\r\n       <use style=\"stroke:#000000;stroke-width:0.8;\" x=\"536.049044\" xlink:href=\"#mde1350db74\" y=\"298.677188\"/>\r\n      </g>\r\n     </g>\r\n     <g id=\"text_7\">\r\n      <!-- 300 -->\r\n      <g transform=\"translate(523.642169 315.555156)scale(0.13 -0.13)\">\r\n       <defs>\r\n        <path d=\"M 40.578125 39.3125 \r\nQ 47.65625 37.796875 51.625 33 \r\nQ 55.609375 28.21875 55.609375 21.1875 \r\nQ 55.609375 10.40625 48.1875 4.484375 \r\nQ 40.765625 -1.421875 27.09375 -1.421875 \r\nQ 22.515625 -1.421875 17.65625 -0.515625 \r\nQ 12.796875 0.390625 7.625 2.203125 \r\nL 7.625 11.71875 \r\nQ 11.71875 9.328125 16.59375 8.109375 \r\nQ 21.484375 6.890625 26.8125 6.890625 \r\nQ 36.078125 6.890625 40.9375 10.546875 \r\nQ 45.796875 14.203125 45.796875 21.1875 \r\nQ 45.796875 27.640625 41.28125 31.265625 \r\nQ 36.765625 34.90625 28.71875 34.90625 \r\nL 20.21875 34.90625 \r\nL 20.21875 43.015625 \r\nL 29.109375 43.015625 \r\nQ 36.375 43.015625 40.234375 45.921875 \r\nQ 44.09375 48.828125 44.09375 54.296875 \r\nQ 44.09375 59.90625 40.109375 62.90625 \r\nQ 36.140625 65.921875 28.71875 65.921875 \r\nQ 24.65625 65.921875 20.015625 65.03125 \r\nQ 15.375 64.15625 9.8125 62.3125 \r\nL 9.8125 71.09375 \r\nQ 15.4375 72.65625 20.34375 73.4375 \r\nQ 25.25 74.21875 29.59375 74.21875 \r\nQ 40.828125 74.21875 47.359375 69.109375 \r\nQ 53.90625 64.015625 53.90625 55.328125 \r\nQ 53.90625 49.265625 50.4375 45.09375 \r\nQ 46.96875 40.921875 40.578125 39.3125 \r\nz\r\n\" id=\"DejaVuSans-51\"/>\r\n       </defs>\r\n       <use xlink:href=\"#DejaVuSans-51\"/>\r\n       <use x=\"63.623047\" xlink:href=\"#DejaVuSans-48\"/>\r\n       <use x=\"127.246094\" xlink:href=\"#DejaVuSans-48\"/>\r\n      </g>\r\n     </g>\r\n    </g>\r\n    <g id=\"text_8\">\r\n     <!-- Episodes -->\r\n     <g transform=\"translate(286.625156 333.656406)scale(0.15 -0.15)\">\r\n      <defs>\r\n       <path d=\"M 9.8125 72.90625 \r\nL 55.90625 72.90625 \r\nL 55.90625 64.59375 \r\nL 19.671875 64.59375 \r\nL 19.671875 43.015625 \r\nL 54.390625 43.015625 \r\nL 54.390625 34.71875 \r\nL 19.671875 34.71875 \r\nL 19.671875 8.296875 \r\nL 56.78125 8.296875 \r\nL 56.78125 0 \r\nL 9.8125 0 \r\nz\r\n\" id=\"DejaVuSans-69\"/>\r\n       <path d=\"M 18.109375 8.203125 \r\nL 18.109375 -20.796875 \r\nL 9.078125 -20.796875 \r\nL 9.078125 54.6875 \r\nL 18.109375 54.6875 \r\nL 18.109375 46.390625 \r\nQ 20.953125 51.265625 25.265625 53.625 \r\nQ 29.59375 56 35.59375 56 \r\nQ 45.5625 56 51.78125 48.09375 \r\nQ 58.015625 40.1875 58.015625 27.296875 \r\nQ 58.015625 14.40625 51.78125 6.484375 \r\nQ 45.5625 -1.421875 35.59375 -1.421875 \r\nQ 29.59375 -1.421875 25.265625 0.953125 \r\nQ 20.953125 3.328125 18.109375 8.203125 \r\nz\r\nM 48.6875 27.296875 \r\nQ 48.6875 37.203125 44.609375 42.84375 \r\nQ 40.53125 48.484375 33.40625 48.484375 \r\nQ 26.265625 48.484375 22.1875 42.84375 \r\nQ 18.109375 37.203125 18.109375 27.296875 \r\nQ 18.109375 17.390625 22.1875 11.75 \r\nQ 26.265625 6.109375 33.40625 6.109375 \r\nQ 40.53125 6.109375 44.609375 11.75 \r\nQ 48.6875 17.390625 48.6875 27.296875 \r\nz\r\n\" id=\"DejaVuSans-112\"/>\r\n       <path d=\"M 9.421875 54.6875 \r\nL 18.40625 54.6875 \r\nL 18.40625 0 \r\nL 9.421875 0 \r\nz\r\nM 9.421875 75.984375 \r\nL 18.40625 75.984375 \r\nL 18.40625 64.59375 \r\nL 9.421875 64.59375 \r\nz\r\n\" id=\"DejaVuSans-105\"/>\r\n       <path d=\"M 44.28125 53.078125 \r\nL 44.28125 44.578125 \r\nQ 40.484375 46.53125 36.375 47.5 \r\nQ 32.28125 48.484375 27.875 48.484375 \r\nQ 21.1875 48.484375 17.84375 46.4375 \r\nQ 14.5 44.390625 14.5 40.28125 \r\nQ 14.5 37.15625 16.890625 35.375 \r\nQ 19.28125 33.59375 26.515625 31.984375 \r\nL 29.59375 31.296875 \r\nQ 39.15625 29.25 43.1875 25.515625 \r\nQ 47.21875 21.78125 47.21875 15.09375 \r\nQ 47.21875 7.46875 41.1875 3.015625 \r\nQ 35.15625 -1.421875 24.609375 -1.421875 \r\nQ 20.21875 -1.421875 15.453125 -0.5625 \r\nQ 10.6875 0.296875 5.421875 2 \r\nL 5.421875 11.28125 \r\nQ 10.40625 8.6875 15.234375 7.390625 \r\nQ 20.0625 6.109375 24.8125 6.109375 \r\nQ 31.15625 6.109375 34.5625 8.28125 \r\nQ 37.984375 10.453125 37.984375 14.40625 \r\nQ 37.984375 18.0625 35.515625 20.015625 \r\nQ 33.0625 21.96875 24.703125 23.78125 \r\nL 21.578125 24.515625 \r\nQ 13.234375 26.265625 9.515625 29.90625 \r\nQ 5.8125 33.546875 5.8125 39.890625 \r\nQ 5.8125 47.609375 11.28125 51.796875 \r\nQ 16.75 56 26.8125 56 \r\nQ 31.78125 56 36.171875 55.265625 \r\nQ 40.578125 54.546875 44.28125 53.078125 \r\nz\r\n\" id=\"DejaVuSans-115\"/>\r\n       <path d=\"M 30.609375 48.390625 \r\nQ 23.390625 48.390625 19.1875 42.75 \r\nQ 14.984375 37.109375 14.984375 27.296875 \r\nQ 14.984375 17.484375 19.15625 11.84375 \r\nQ 23.34375 6.203125 30.609375 6.203125 \r\nQ 37.796875 6.203125 41.984375 11.859375 \r\nQ 46.1875 17.53125 46.1875 27.296875 \r\nQ 46.1875 37.015625 41.984375 42.703125 \r\nQ 37.796875 48.390625 30.609375 48.390625 \r\nz\r\nM 30.609375 56 \r\nQ 42.328125 56 49.015625 48.375 \r\nQ 55.71875 40.765625 55.71875 27.296875 \r\nQ 55.71875 13.875 49.015625 6.21875 \r\nQ 42.328125 -1.421875 30.609375 -1.421875 \r\nQ 18.84375 -1.421875 12.171875 6.21875 \r\nQ 5.515625 13.875 5.515625 27.296875 \r\nQ 5.515625 40.765625 12.171875 48.375 \r\nQ 18.84375 56 30.609375 56 \r\nz\r\n\" id=\"DejaVuSans-111\"/>\r\n       <path d=\"M 45.40625 46.390625 \r\nL 45.40625 75.984375 \r\nL 54.390625 75.984375 \r\nL 54.390625 0 \r\nL 45.40625 0 \r\nL 45.40625 8.203125 \r\nQ 42.578125 3.328125 38.25 0.953125 \r\nQ 33.9375 -1.421875 27.875 -1.421875 \r\nQ 17.96875 -1.421875 11.734375 6.484375 \r\nQ 5.515625 14.40625 5.515625 27.296875 \r\nQ 5.515625 40.1875 11.734375 48.09375 \r\nQ 17.96875 56 27.875 56 \r\nQ 33.9375 56 38.25 53.625 \r\nQ 42.578125 51.265625 45.40625 46.390625 \r\nz\r\nM 14.796875 27.296875 \r\nQ 14.796875 17.390625 18.875 11.75 \r\nQ 22.953125 6.109375 30.078125 6.109375 \r\nQ 37.203125 6.109375 41.296875 11.75 \r\nQ 45.40625 17.390625 45.40625 27.296875 \r\nQ 45.40625 37.203125 41.296875 42.84375 \r\nQ 37.203125 48.484375 30.078125 48.484375 \r\nQ 22.953125 48.484375 18.875 42.84375 \r\nQ 14.796875 37.203125 14.796875 27.296875 \r\nz\r\n\" id=\"DejaVuSans-100\"/>\r\n       <path d=\"M 56.203125 29.59375 \r\nL 56.203125 25.203125 \r\nL 14.890625 25.203125 \r\nQ 15.484375 15.921875 20.484375 11.0625 \r\nQ 25.484375 6.203125 34.421875 6.203125 \r\nQ 39.59375 6.203125 44.453125 7.46875 \r\nQ 49.3125 8.734375 54.109375 11.28125 \r\nL 54.109375 2.78125 \r\nQ 49.265625 0.734375 44.1875 -0.34375 \r\nQ 39.109375 -1.421875 33.890625 -1.421875 \r\nQ 20.796875 -1.421875 13.15625 6.1875 \r\nQ 5.515625 13.8125 5.515625 26.8125 \r\nQ 5.515625 40.234375 12.765625 48.109375 \r\nQ 20.015625 56 32.328125 56 \r\nQ 43.359375 56 49.78125 48.890625 \r\nQ 56.203125 41.796875 56.203125 29.59375 \r\nz\r\nM 47.21875 32.234375 \r\nQ 47.125 39.59375 43.09375 43.984375 \r\nQ 39.0625 48.390625 32.421875 48.390625 \r\nQ 24.90625 48.390625 20.390625 44.140625 \r\nQ 15.875 39.890625 15.1875 32.171875 \r\nz\r\n\" id=\"DejaVuSans-101\"/>\r\n      </defs>\r\n      <use xlink:href=\"#DejaVuSans-69\"/>\r\n      <use x=\"63.183594\" xlink:href=\"#DejaVuSans-112\"/>\r\n      <use x=\"126.660156\" xlink:href=\"#DejaVuSans-105\"/>\r\n      <use x=\"154.443359\" xlink:href=\"#DejaVuSans-115\"/>\r\n      <use x=\"206.542969\" xlink:href=\"#DejaVuSans-111\"/>\r\n      <use x=\"267.724609\" xlink:href=\"#DejaVuSans-100\"/>\r\n      <use x=\"331.201172\" xlink:href=\"#DejaVuSans-101\"/>\r\n      <use x=\"392.724609\" xlink:href=\"#DejaVuSans-115\"/>\r\n     </g>\r\n    </g>\r\n   </g>\r\n   <g id=\"matplotlib.axis_2\">\r\n    <g id=\"ytick_1\">\r\n     <g id=\"line2d_8\">\r\n      <defs>\r\n       <path d=\"M 0 0 \r\nL -3.5 0 \r\n\" id=\"md1541958ed\" style=\"stroke:#000000;stroke-width:0.8;\"/>\r\n      </defs>\r\n      <g>\r\n       <use style=\"stroke:#000000;stroke-width:0.8;\" x=\"40.988437\" xlink:href=\"#md1541958ed\" y=\"269.163551\"/>\r\n      </g>\r\n     </g>\r\n     <g id=\"text_9\">\r\n      <!-- 0 -->\r\n      <g transform=\"translate(25.717187 274.102536)scale(0.13 -0.13)\">\r\n       <use xlink:href=\"#DejaVuSans-48\"/>\r\n      </g>\r\n     </g>\r\n    </g>\r\n    <g id=\"ytick_2\">\r\n     <g id=\"line2d_9\">\r\n      <g>\r\n       <use style=\"stroke:#000000;stroke-width:0.8;\" x=\"40.988437\" xlink:href=\"#md1541958ed\" y=\"234.845369\"/>\r\n      </g>\r\n     </g>\r\n     <g id=\"text_10\">\r\n      <!-- 1 -->\r\n      <g transform=\"translate(25.717187 239.784354)scale(0.13 -0.13)\">\r\n       <use xlink:href=\"#DejaVuSans-49\"/>\r\n      </g>\r\n     </g>\r\n    </g>\r\n    <g id=\"ytick_3\">\r\n     <g id=\"line2d_10\">\r\n      <g>\r\n       <use style=\"stroke:#000000;stroke-width:0.8;\" x=\"40.988437\" xlink:href=\"#md1541958ed\" y=\"200.527187\"/>\r\n      </g>\r\n     </g>\r\n     <g id=\"text_11\">\r\n      <!-- 2 -->\r\n      <g transform=\"translate(25.717187 205.466172)scale(0.13 -0.13)\">\r\n       <use xlink:href=\"#DejaVuSans-50\"/>\r\n      </g>\r\n     </g>\r\n    </g>\r\n    <g id=\"ytick_4\">\r\n     <g id=\"line2d_11\">\r\n      <g>\r\n       <use style=\"stroke:#000000;stroke-width:0.8;\" x=\"40.988437\" xlink:href=\"#md1541958ed\" y=\"166.209006\"/>\r\n      </g>\r\n     </g>\r\n     <g id=\"text_12\">\r\n      <!-- 3 -->\r\n      <g transform=\"translate(25.717187 171.14799)scale(0.13 -0.13)\">\r\n       <use xlink:href=\"#DejaVuSans-51\"/>\r\n      </g>\r\n     </g>\r\n    </g>\r\n    <g id=\"ytick_5\">\r\n     <g id=\"line2d_12\">\r\n      <g>\r\n       <use style=\"stroke:#000000;stroke-width:0.8;\" x=\"40.988437\" xlink:href=\"#md1541958ed\" y=\"131.890824\"/>\r\n      </g>\r\n     </g>\r\n     <g id=\"text_13\">\r\n      <!-- 4 -->\r\n      <g transform=\"translate(25.717187 136.829808)scale(0.13 -0.13)\">\r\n       <defs>\r\n        <path d=\"M 37.796875 64.3125 \r\nL 12.890625 25.390625 \r\nL 37.796875 25.390625 \r\nz\r\nM 35.203125 72.90625 \r\nL 47.609375 72.90625 \r\nL 47.609375 25.390625 \r\nL 58.015625 25.390625 \r\nL 58.015625 17.1875 \r\nL 47.609375 17.1875 \r\nL 47.609375 0 \r\nL 37.796875 0 \r\nL 37.796875 17.1875 \r\nL 4.890625 17.1875 \r\nL 4.890625 26.703125 \r\nz\r\n\" id=\"DejaVuSans-52\"/>\r\n       </defs>\r\n       <use xlink:href=\"#DejaVuSans-52\"/>\r\n      </g>\r\n     </g>\r\n    </g>\r\n    <g id=\"ytick_6\">\r\n     <g id=\"line2d_13\">\r\n      <g>\r\n       <use style=\"stroke:#000000;stroke-width:0.8;\" x=\"40.988437\" xlink:href=\"#md1541958ed\" y=\"97.572642\"/>\r\n      </g>\r\n     </g>\r\n     <g id=\"text_14\">\r\n      <!-- 5 -->\r\n      <g transform=\"translate(25.717187 102.511626)scale(0.13 -0.13)\">\r\n       <use xlink:href=\"#DejaVuSans-53\"/>\r\n      </g>\r\n     </g>\r\n    </g>\r\n    <g id=\"ytick_7\">\r\n     <g id=\"line2d_14\">\r\n      <g>\r\n       <use style=\"stroke:#000000;stroke-width:0.8;\" x=\"40.988437\" xlink:href=\"#md1541958ed\" y=\"63.25446\"/>\r\n      </g>\r\n     </g>\r\n     <g id=\"text_15\">\r\n      <!-- 6 -->\r\n      <g transform=\"translate(25.717187 68.193445)scale(0.13 -0.13)\">\r\n       <defs>\r\n        <path d=\"M 33.015625 40.375 \r\nQ 26.375 40.375 22.484375 35.828125 \r\nQ 18.609375 31.296875 18.609375 23.390625 \r\nQ 18.609375 15.53125 22.484375 10.953125 \r\nQ 26.375 6.390625 33.015625 6.390625 \r\nQ 39.65625 6.390625 43.53125 10.953125 \r\nQ 47.40625 15.53125 47.40625 23.390625 \r\nQ 47.40625 31.296875 43.53125 35.828125 \r\nQ 39.65625 40.375 33.015625 40.375 \r\nz\r\nM 52.59375 71.296875 \r\nL 52.59375 62.3125 \r\nQ 48.875 64.0625 45.09375 64.984375 \r\nQ 41.3125 65.921875 37.59375 65.921875 \r\nQ 27.828125 65.921875 22.671875 59.328125 \r\nQ 17.53125 52.734375 16.796875 39.40625 \r\nQ 19.671875 43.65625 24.015625 45.921875 \r\nQ 28.375 48.1875 33.59375 48.1875 \r\nQ 44.578125 48.1875 50.953125 41.515625 \r\nQ 57.328125 34.859375 57.328125 23.390625 \r\nQ 57.328125 12.15625 50.6875 5.359375 \r\nQ 44.046875 -1.421875 33.015625 -1.421875 \r\nQ 20.359375 -1.421875 13.671875 8.265625 \r\nQ 6.984375 17.96875 6.984375 36.375 \r\nQ 6.984375 53.65625 15.1875 63.9375 \r\nQ 23.390625 74.21875 37.203125 74.21875 \r\nQ 40.921875 74.21875 44.703125 73.484375 \r\nQ 48.484375 72.75 52.59375 71.296875 \r\nz\r\n\" id=\"DejaVuSans-54\"/>\r\n       </defs>\r\n       <use xlink:href=\"#DejaVuSans-54\"/>\r\n      </g>\r\n     </g>\r\n    </g>\r\n    <g id=\"ytick_8\">\r\n     <g id=\"line2d_15\">\r\n      <g>\r\n       <use style=\"stroke:#000000;stroke-width:0.8;\" x=\"40.988437\" xlink:href=\"#md1541958ed\" y=\"28.936278\"/>\r\n      </g>\r\n     </g>\r\n     <g id=\"text_16\">\r\n      <!-- 7 -->\r\n      <g transform=\"translate(25.717187 33.875263)scale(0.13 -0.13)\">\r\n       <defs>\r\n        <path d=\"M 8.203125 72.90625 \r\nL 55.078125 72.90625 \r\nL 55.078125 68.703125 \r\nL 28.609375 0 \r\nL 18.3125 0 \r\nL 43.21875 64.59375 \r\nL 8.203125 64.59375 \r\nz\r\n\" id=\"DejaVuSans-55\"/>\r\n       </defs>\r\n       <use xlink:href=\"#DejaVuSans-55\"/>\r\n      </g>\r\n     </g>\r\n    </g>\r\n    <g id=\"text_17\">\r\n     <!-- Score -->\r\n     <g transform=\"translate(18.597656 183.780703)rotate(-90)scale(0.15 -0.15)\">\r\n      <defs>\r\n       <path d=\"M 53.515625 70.515625 \r\nL 53.515625 60.890625 \r\nQ 47.90625 63.578125 42.921875 64.890625 \r\nQ 37.9375 66.21875 33.296875 66.21875 \r\nQ 25.25 66.21875 20.875 63.09375 \r\nQ 16.5 59.96875 16.5 54.203125 \r\nQ 16.5 49.359375 19.40625 46.890625 \r\nQ 22.3125 44.4375 30.421875 42.921875 \r\nL 36.375 41.703125 \r\nQ 47.40625 39.59375 52.65625 34.296875 \r\nQ 57.90625 29 57.90625 20.125 \r\nQ 57.90625 9.515625 50.796875 4.046875 \r\nQ 43.703125 -1.421875 29.984375 -1.421875 \r\nQ 24.8125 -1.421875 18.96875 -0.25 \r\nQ 13.140625 0.921875 6.890625 3.21875 \r\nL 6.890625 13.375 \r\nQ 12.890625 10.015625 18.65625 8.296875 \r\nQ 24.421875 6.59375 29.984375 6.59375 \r\nQ 38.421875 6.59375 43.015625 9.90625 \r\nQ 47.609375 13.234375 47.609375 19.390625 \r\nQ 47.609375 24.75 44.3125 27.78125 \r\nQ 41.015625 30.8125 33.5 32.328125 \r\nL 27.484375 33.5 \r\nQ 16.453125 35.6875 11.515625 40.375 \r\nQ 6.59375 45.0625 6.59375 53.421875 \r\nQ 6.59375 63.09375 13.40625 68.65625 \r\nQ 20.21875 74.21875 32.171875 74.21875 \r\nQ 37.3125 74.21875 42.625 73.28125 \r\nQ 47.953125 72.359375 53.515625 70.515625 \r\nz\r\n\" id=\"DejaVuSans-83\"/>\r\n       <path d=\"M 48.78125 52.59375 \r\nL 48.78125 44.1875 \r\nQ 44.96875 46.296875 41.140625 47.34375 \r\nQ 37.3125 48.390625 33.40625 48.390625 \r\nQ 24.65625 48.390625 19.8125 42.84375 \r\nQ 14.984375 37.3125 14.984375 27.296875 \r\nQ 14.984375 17.28125 19.8125 11.734375 \r\nQ 24.65625 6.203125 33.40625 6.203125 \r\nQ 37.3125 6.203125 41.140625 7.25 \r\nQ 44.96875 8.296875 48.78125 10.40625 \r\nL 48.78125 2.09375 \r\nQ 45.015625 0.34375 40.984375 -0.53125 \r\nQ 36.96875 -1.421875 32.421875 -1.421875 \r\nQ 20.0625 -1.421875 12.78125 6.34375 \r\nQ 5.515625 14.109375 5.515625 27.296875 \r\nQ 5.515625 40.671875 12.859375 48.328125 \r\nQ 20.21875 56 33.015625 56 \r\nQ 37.15625 56 41.109375 55.140625 \r\nQ 45.0625 54.296875 48.78125 52.59375 \r\nz\r\n\" id=\"DejaVuSans-99\"/>\r\n       <path d=\"M 41.109375 46.296875 \r\nQ 39.59375 47.171875 37.8125 47.578125 \r\nQ 36.03125 48 33.890625 48 \r\nQ 26.265625 48 22.1875 43.046875 \r\nQ 18.109375 38.09375 18.109375 28.8125 \r\nL 18.109375 0 \r\nL 9.078125 0 \r\nL 9.078125 54.6875 \r\nL 18.109375 54.6875 \r\nL 18.109375 46.1875 \r\nQ 20.953125 51.171875 25.484375 53.578125 \r\nQ 30.03125 56 36.53125 56 \r\nQ 37.453125 56 38.578125 55.875 \r\nQ 39.703125 55.765625 41.0625 55.515625 \r\nz\r\n\" id=\"DejaVuSans-114\"/>\r\n      </defs>\r\n      <use xlink:href=\"#DejaVuSans-83\"/>\r\n      <use x=\"63.476562\" xlink:href=\"#DejaVuSans-99\"/>\r\n      <use x=\"118.457031\" xlink:href=\"#DejaVuSans-111\"/>\r\n      <use x=\"179.638672\" xlink:href=\"#DejaVuSans-114\"/>\r\n      <use x=\"218.501953\" xlink:href=\"#DejaVuSans-101\"/>\r\n     </g>\r\n    </g>\r\n   </g>\r\n   <g id=\"line2d_16\">\r\n    <path clip-path=\"url(#p3b8f3a7fd5)\" d=\"M 66.352074 269.163551 \r\nL 69.483387 262.299915 \r\nL 71.049044 282.890824 \r\nL 72.6147 276.027187 \r\nL 74.180357 262.299915 \r\nL 75.746013 282.890824 \r\nL 77.31167 262.299915 \r\nL 80.442983 269.163551 \r\nL 82.00864 245.140824 \r\nL 83.574296 262.299915 \r\nL 85.139953 248.572642 \r\nL 86.705609 272.595369 \r\nL 88.271266 252.00446 \r\nL 89.836922 252.00446 \r\nL 91.402579 265.731733 \r\nL 92.968235 272.595369 \r\nL 94.533892 282.890824 \r\nL 96.099549 269.163551 \r\nL 97.665205 269.163551 \r\nL 99.230862 238.277187 \r\nL 100.796518 286.322642 \r\nL 102.362175 241.709006 \r\nL 103.927831 279.459006 \r\nL 105.493488 258.868097 \r\nL 108.624801 258.868097 \r\nL 110.190458 262.299915 \r\nL 111.756114 217.686278 \r\nL 113.321771 248.572642 \r\nL 114.887427 252.00446 \r\nL 116.453084 252.00446 \r\nL 118.018741 269.163551 \r\nL 119.584397 265.731733 \r\nL 121.150054 265.731733 \r\nL 124.281367 245.140824 \r\nL 125.847023 262.299915 \r\nL 127.41268 255.436278 \r\nL 128.978336 265.731733 \r\nL 130.543993 238.277187 \r\nL 132.10965 252.00446 \r\nL 133.675306 231.413551 \r\nL 135.240963 248.572642 \r\nL 136.806619 221.118097 \r\nL 138.372276 241.709006 \r\nL 139.937932 258.868097 \r\nL 141.503589 265.731733 \r\nL 143.069246 245.140824 \r\nL 144.634902 255.436278 \r\nL 146.200559 238.277187 \r\nL 147.766215 238.277187 \r\nL 149.331872 241.709006 \r\nL 150.897528 238.277187 \r\nL 152.463185 245.140824 \r\nL 154.028842 248.572642 \r\nL 155.594498 224.549915 \r\nL 157.160155 227.981733 \r\nL 158.725811 238.277187 \r\nL 160.291468 245.140824 \r\nL 161.857124 190.231733 \r\nL 163.422781 214.25446 \r\nL 164.988438 200.527187 \r\nL 166.554094 214.25446 \r\nL 168.119751 217.686278 \r\nL 169.685407 207.390824 \r\nL 171.251064 241.709006 \r\nL 172.81672 238.277187 \r\nL 174.382377 197.095369 \r\nL 175.948033 186.799915 \r\nL 177.51369 214.25446 \r\nL 179.079347 231.413551 \r\nL 180.645003 190.231733 \r\nL 182.21066 186.799915 \r\nL 183.776316 234.845369 \r\nL 185.341973 234.845369 \r\nL 186.907629 210.822642 \r\nL 188.473286 190.231733 \r\nL 190.038943 234.845369 \r\nL 191.604599 193.663551 \r\nL 193.170256 145.618097 \r\nL 194.735912 207.390824 \r\nL 196.301569 193.663551 \r\nL 197.867225 186.799915 \r\nL 199.432882 176.50446 \r\nL 200.998539 207.390824 \r\nL 202.564195 183.368097 \r\nL 204.129852 200.527187 \r\nL 205.695508 155.913551 \r\nL 207.261165 183.368097 \r\nL 210.392478 217.686278 \r\nL 211.958134 214.25446 \r\nL 213.523791 104.436278 \r\nL 215.089448 231.413551 \r\nL 216.655104 224.549915 \r\nL 218.220761 197.095369 \r\nL 219.786417 104.436278 \r\nL 221.352074 159.345369 \r\nL 222.91773 176.50446 \r\nL 224.483387 159.345369 \r\nL 226.049044 197.095369 \r\nL 227.6147 200.527187 \r\nL 229.180357 197.095369 \r\nL 230.746013 190.231733 \r\nL 232.31167 166.209006 \r\nL 233.877326 231.413551 \r\nL 235.442983 221.118097 \r\nL 237.00864 169.640824 \r\nL 238.574296 210.822642 \r\nL 240.139953 155.913551 \r\nL 241.705609 149.049915 \r\nL 243.271266 176.50446 \r\nL 244.836922 176.50446 \r\nL 246.402579 169.640824 \r\nL 247.968235 214.25446 \r\nL 249.533892 145.618097 \r\nL 251.099549 197.095369 \r\nL 252.665205 231.413551 \r\nL 254.230862 176.50446 \r\nL 255.796518 214.25446 \r\nL 257.362175 210.822642 \r\nL 258.927831 224.549915 \r\nL 260.493488 200.527187 \r\nL 262.059145 203.959006 \r\nL 265.190458 190.231733 \r\nL 266.756114 234.845369 \r\nL 268.321771 197.095369 \r\nL 269.887427 190.231733 \r\nL 271.453084 234.845369 \r\nL 273.018741 190.231733 \r\nL 274.584397 234.845369 \r\nL 276.150054 214.25446 \r\nL 277.71571 217.686278 \r\nL 279.281367 190.231733 \r\nL 280.847023 210.822642 \r\nL 282.41268 197.095369 \r\nL 283.978336 159.345369 \r\nL 285.543993 224.549915 \r\nL 287.10965 203.959006 \r\nL 288.675306 162.777187 \r\nL 290.240963 183.368097 \r\nL 291.806619 166.209006 \r\nL 293.372276 138.75446 \r\nL 294.937932 197.095369 \r\nL 296.503589 190.231733 \r\nL 298.069246 186.799915 \r\nL 299.634902 166.209006 \r\nL 301.200559 173.072642 \r\nL 302.766215 118.163551 \r\nL 304.331872 214.25446 \r\nL 305.897528 214.25446 \r\nL 307.463185 179.936278 \r\nL 309.028842 169.640824 \r\nL 310.594498 166.209006 \r\nL 312.160155 166.209006 \r\nL 313.725811 173.072642 \r\nL 315.291468 197.095369 \r\nL 316.857124 142.186278 \r\nL 318.422781 173.072642 \r\nL 319.988438 190.231733 \r\nL 321.554094 131.890824 \r\nL 323.119751 145.618097 \r\nL 324.685407 152.481733 \r\nL 326.251064 197.095369 \r\nL 327.81672 186.799915 \r\nL 329.382377 186.799915 \r\nL 330.948033 152.481733 \r\nL 332.51369 183.368097 \r\nL 334.079347 155.913551 \r\nL 335.645003 145.618097 \r\nL 337.21066 197.095369 \r\nL 338.776316 152.481733 \r\nL 340.341973 190.231733 \r\nL 341.907629 197.095369 \r\nL 343.473286 152.481733 \r\nL 345.038943 125.027187 \r\nL 346.604599 149.049915 \r\nL 348.170256 135.322642 \r\nL 349.735912 162.777187 \r\nL 351.301569 135.322642 \r\nL 352.867225 166.209006 \r\nL 354.432882 118.163551 \r\nL 355.998539 125.027187 \r\nL 357.564195 118.163551 \r\nL 359.129852 162.777187 \r\nL 362.261165 135.322642 \r\nL 363.826821 149.049915 \r\nL 365.392478 114.731733 \r\nL 366.958134 197.095369 \r\nL 368.523791 145.618097 \r\nL 370.089448 155.913551 \r\nL 371.655104 135.322642 \r\nL 373.220761 104.436278 \r\nL 374.786417 179.936278 \r\nL 376.352074 118.163551 \r\nL 377.91773 142.186278 \r\nL 379.483387 138.75446 \r\nL 381.049044 118.163551 \r\nL 382.6147 118.163551 \r\nL 384.180357 101.00446 \r\nL 385.746013 97.572642 \r\nL 387.31167 138.75446 \r\nL 388.877326 135.322642 \r\nL 390.442983 125.027187 \r\nL 392.00864 128.459006 \r\nL 393.574296 162.777187 \r\nL 395.139953 135.322642 \r\nL 396.705609 97.572642 \r\nL 398.271266 138.75446 \r\nL 399.836922 104.436278 \r\nL 401.402579 145.618097 \r\nL 402.968235 90.709006 \r\nL 404.533892 97.572642 \r\nL 406.099549 176.50446 \r\nL 407.665205 114.731733 \r\nL 409.230862 138.75446 \r\nL 410.796518 114.731733 \r\nL 412.362175 97.572642 \r\nL 413.927831 135.322642 \r\nL 415.493488 131.890824 \r\nL 418.624801 131.890824 \r\nL 420.190458 114.731733 \r\nL 421.756114 101.00446 \r\nL 423.321771 142.186278 \r\nL 424.887427 159.345369 \r\nL 426.453084 128.459006 \r\nL 428.018741 152.481733 \r\nL 429.584397 101.00446 \r\nL 431.150054 128.459006 \r\nL 432.71571 159.345369 \r\nL 434.281367 152.481733 \r\nL 435.847023 87.277187 \r\nL 437.41268 121.595369 \r\nL 438.978336 104.436278 \r\nL 440.543993 66.686278 \r\nL 442.10965 142.186278 \r\nL 443.675306 121.595369 \r\nL 445.240963 217.686278 \r\nL 446.806619 149.049915 \r\nL 448.372276 114.731733 \r\nL 449.937932 128.459006 \r\nL 451.503589 90.709006 \r\nL 453.069246 155.913551 \r\nL 454.634902 73.549915 \r\nL 456.200559 121.595369 \r\nL 457.766215 142.186278 \r\nL 459.331872 73.549915 \r\nL 460.897528 128.459006 \r\nL 462.463185 193.663551 \r\nL 464.028842 186.799915 \r\nL 465.594498 166.209006 \r\nL 467.160155 149.049915 \r\nL 468.725811 135.322642 \r\nL 470.291468 76.981733 \r\nL 471.857124 114.731733 \r\nL 473.422781 121.595369 \r\nL 474.988438 121.595369 \r\nL 476.554094 107.868097 \r\nL 478.119751 159.345369 \r\nL 479.685407 107.868097 \r\nL 481.251064 159.345369 \r\nL 482.81672 104.436278 \r\nL 484.382377 142.186278 \r\nL 485.948033 101.00446 \r\nL 487.51369 152.481733 \r\nL 489.079347 94.140824 \r\nL 490.645003 73.549915 \r\nL 492.21066 101.00446 \r\nL 493.776316 111.299915 \r\nL 495.341973 114.731733 \r\nL 496.907629 90.709006 \r\nL 498.473286 135.322642 \r\nL 500.038943 59.822642 \r\nL 501.604599 128.459006 \r\nL 503.170256 94.140824 \r\nL 504.735912 114.731733 \r\nL 506.301569 111.299915 \r\nL 507.867225 94.140824 \r\nL 509.432882 87.277187 \r\nL 510.998539 138.75446 \r\nL 512.564195 101.00446 \r\nL 514.129852 87.277187 \r\nL 515.695508 138.75446 \r\nL 517.261165 166.209006 \r\nL 518.826821 111.299915 \r\nL 520.392478 101.00446 \r\nL 521.958134 145.618097 \r\nL 523.523791 111.299915 \r\nL 525.089448 121.595369 \r\nL 526.655104 46.095369 \r\nL 528.220761 114.731733 \r\nL 529.786417 104.436278 \r\nL 531.352074 46.095369 \r\nL 532.91773 63.25446 \r\nL 534.483387 118.163551 \r\nL 536.049044 83.845369 \r\nL 537.6147 135.322642 \r\nL 539.180357 107.868097 \r\nL 540.746013 131.890824 \r\nL 542.31167 107.868097 \r\nL 543.877326 121.595369 \r\nL 545.442983 87.277187 \r\nL 547.00864 114.731733 \r\nL 548.574296 118.163551 \r\nL 550.139953 87.277187 \r\nL 553.271266 39.231733 \r\nL 554.836922 73.549915 \r\nL 556.402579 80.413551 \r\nL 557.968235 80.413551 \r\nL 559.533892 118.163551 \r\nL 561.099549 107.868097 \r\nL 562.665205 107.868097 \r\nL 564.230862 70.118097 \r\nL 565.796518 49.527187 \r\nL 567.362175 87.277187 \r\nL 568.927831 83.845369 \r\nL 570.493488 46.095369 \r\nL 572.059145 83.845369 \r\nL 573.624801 73.549915 \r\nL 573.624801 73.549915 \r\n\" style=\"fill:none;stroke:#1f77b4;stroke-linecap:square;stroke-width:1.5;\"/>\r\n   </g>\r\n   <g id=\"patch_3\">\r\n    <path d=\"M 40.988437 298.677187 \r\nL 40.988437 26.877187 \r\n\" style=\"fill:none;stroke:#000000;stroke-linecap:square;stroke-linejoin:miter;stroke-width:0.8;\"/>\r\n   </g>\r\n   <g id=\"patch_4\">\r\n    <path d=\"M 598.988438 298.677187 \r\nL 598.988438 26.877187 \r\n\" style=\"fill:none;stroke:#000000;stroke-linecap:square;stroke-linejoin:miter;stroke-width:0.8;\"/>\r\n   </g>\r\n   <g id=\"patch_5\">\r\n    <path d=\"M 40.988438 298.677188 \r\nL 598.988438 298.677188 \r\n\" style=\"fill:none;stroke:#000000;stroke-linecap:square;stroke-linejoin:miter;stroke-width:0.8;\"/>\r\n   </g>\r\n   <g id=\"patch_6\">\r\n    <path d=\"M 40.988438 26.877187 \r\nL 598.988438 26.877187 \r\n\" style=\"fill:none;stroke:#000000;stroke-linecap:square;stroke-linejoin:miter;stroke-width:0.8;\"/>\r\n   </g>\r\n   <g id=\"text_18\">\r\n    <!-- Learning curve: Double DQN with a limit of 325 episodes -->\r\n    <g transform=\"translate(64.138125 20.877187)scale(0.18 -0.18)\">\r\n     <defs>\r\n      <path d=\"M 9.8125 72.90625 \r\nL 19.671875 72.90625 \r\nL 19.671875 8.296875 \r\nL 55.171875 8.296875 \r\nL 55.171875 0 \r\nL 9.8125 0 \r\nz\r\n\" id=\"DejaVuSans-76\"/>\r\n      <path d=\"M 34.28125 27.484375 \r\nQ 23.390625 27.484375 19.1875 25 \r\nQ 14.984375 22.515625 14.984375 16.5 \r\nQ 14.984375 11.71875 18.140625 8.90625 \r\nQ 21.296875 6.109375 26.703125 6.109375 \r\nQ 34.1875 6.109375 38.703125 11.40625 \r\nQ 43.21875 16.703125 43.21875 25.484375 \r\nL 43.21875 27.484375 \r\nz\r\nM 52.203125 31.203125 \r\nL 52.203125 0 \r\nL 43.21875 0 \r\nL 43.21875 8.296875 \r\nQ 40.140625 3.328125 35.546875 0.953125 \r\nQ 30.953125 -1.421875 24.3125 -1.421875 \r\nQ 15.921875 -1.421875 10.953125 3.296875 \r\nQ 6 8.015625 6 15.921875 \r\nQ 6 25.140625 12.171875 29.828125 \r\nQ 18.359375 34.515625 30.609375 34.515625 \r\nL 43.21875 34.515625 \r\nL 43.21875 35.40625 \r\nQ 43.21875 41.609375 39.140625 45 \r\nQ 35.0625 48.390625 27.6875 48.390625 \r\nQ 23 48.390625 18.546875 47.265625 \r\nQ 14.109375 46.140625 10.015625 43.890625 \r\nL 10.015625 52.203125 \r\nQ 14.9375 54.109375 19.578125 55.046875 \r\nQ 24.21875 56 28.609375 56 \r\nQ 40.484375 56 46.34375 49.84375 \r\nQ 52.203125 43.703125 52.203125 31.203125 \r\nz\r\n\" id=\"DejaVuSans-97\"/>\r\n      <path d=\"M 54.890625 33.015625 \r\nL 54.890625 0 \r\nL 45.90625 0 \r\nL 45.90625 32.71875 \r\nQ 45.90625 40.484375 42.875 44.328125 \r\nQ 39.84375 48.1875 33.796875 48.1875 \r\nQ 26.515625 48.1875 22.3125 43.546875 \r\nQ 18.109375 38.921875 18.109375 30.90625 \r\nL 18.109375 0 \r\nL 9.078125 0 \r\nL 9.078125 54.6875 \r\nL 18.109375 54.6875 \r\nL 18.109375 46.1875 \r\nQ 21.34375 51.125 25.703125 53.5625 \r\nQ 30.078125 56 35.796875 56 \r\nQ 45.21875 56 50.046875 50.171875 \r\nQ 54.890625 44.34375 54.890625 33.015625 \r\nz\r\n\" id=\"DejaVuSans-110\"/>\r\n      <path d=\"M 45.40625 27.984375 \r\nQ 45.40625 37.75 41.375 43.109375 \r\nQ 37.359375 48.484375 30.078125 48.484375 \r\nQ 22.859375 48.484375 18.828125 43.109375 \r\nQ 14.796875 37.75 14.796875 27.984375 \r\nQ 14.796875 18.265625 18.828125 12.890625 \r\nQ 22.859375 7.515625 30.078125 7.515625 \r\nQ 37.359375 7.515625 41.375 12.890625 \r\nQ 45.40625 18.265625 45.40625 27.984375 \r\nz\r\nM 54.390625 6.78125 \r\nQ 54.390625 -7.171875 48.1875 -13.984375 \r\nQ 42 -20.796875 29.203125 -20.796875 \r\nQ 24.46875 -20.796875 20.265625 -20.09375 \r\nQ 16.0625 -19.390625 12.109375 -17.921875 \r\nL 12.109375 -9.1875 \r\nQ 16.0625 -11.328125 19.921875 -12.34375 \r\nQ 23.78125 -13.375 27.78125 -13.375 \r\nQ 36.625 -13.375 41.015625 -8.765625 \r\nQ 45.40625 -4.15625 45.40625 5.171875 \r\nL 45.40625 9.625 \r\nQ 42.625 4.78125 38.28125 2.390625 \r\nQ 33.9375 0 27.875 0 \r\nQ 17.828125 0 11.671875 7.65625 \r\nQ 5.515625 15.328125 5.515625 27.984375 \r\nQ 5.515625 40.671875 11.671875 48.328125 \r\nQ 17.828125 56 27.875 56 \r\nQ 33.9375 56 38.28125 53.609375 \r\nQ 42.625 51.21875 45.40625 46.390625 \r\nL 45.40625 54.6875 \r\nL 54.390625 54.6875 \r\nz\r\n\" id=\"DejaVuSans-103\"/>\r\n      <path id=\"DejaVuSans-32\"/>\r\n      <path d=\"M 8.5 21.578125 \r\nL 8.5 54.6875 \r\nL 17.484375 54.6875 \r\nL 17.484375 21.921875 \r\nQ 17.484375 14.15625 20.5 10.265625 \r\nQ 23.53125 6.390625 29.59375 6.390625 \r\nQ 36.859375 6.390625 41.078125 11.03125 \r\nQ 45.3125 15.671875 45.3125 23.6875 \r\nL 45.3125 54.6875 \r\nL 54.296875 54.6875 \r\nL 54.296875 0 \r\nL 45.3125 0 \r\nL 45.3125 8.40625 \r\nQ 42.046875 3.421875 37.71875 1 \r\nQ 33.40625 -1.421875 27.6875 -1.421875 \r\nQ 18.265625 -1.421875 13.375 4.4375 \r\nQ 8.5 10.296875 8.5 21.578125 \r\nz\r\nM 31.109375 56 \r\nz\r\n\" id=\"DejaVuSans-117\"/>\r\n      <path d=\"M 2.984375 54.6875 \r\nL 12.5 54.6875 \r\nL 29.59375 8.796875 \r\nL 46.6875 54.6875 \r\nL 56.203125 54.6875 \r\nL 35.6875 0 \r\nL 23.484375 0 \r\nz\r\n\" id=\"DejaVuSans-118\"/>\r\n      <path d=\"M 11.71875 12.40625 \r\nL 22.015625 12.40625 \r\nL 22.015625 0 \r\nL 11.71875 0 \r\nz\r\nM 11.71875 51.703125 \r\nL 22.015625 51.703125 \r\nL 22.015625 39.3125 \r\nL 11.71875 39.3125 \r\nz\r\n\" id=\"DejaVuSans-58\"/>\r\n      <path d=\"M 19.671875 64.796875 \r\nL 19.671875 8.109375 \r\nL 31.59375 8.109375 \r\nQ 46.6875 8.109375 53.6875 14.9375 \r\nQ 60.6875 21.78125 60.6875 36.53125 \r\nQ 60.6875 51.171875 53.6875 57.984375 \r\nQ 46.6875 64.796875 31.59375 64.796875 \r\nz\r\nM 9.8125 72.90625 \r\nL 30.078125 72.90625 \r\nQ 51.265625 72.90625 61.171875 64.09375 \r\nQ 71.09375 55.28125 71.09375 36.53125 \r\nQ 71.09375 17.671875 61.125 8.828125 \r\nQ 51.171875 0 30.078125 0 \r\nL 9.8125 0 \r\nz\r\n\" id=\"DejaVuSans-68\"/>\r\n      <path d=\"M 48.6875 27.296875 \r\nQ 48.6875 37.203125 44.609375 42.84375 \r\nQ 40.53125 48.484375 33.40625 48.484375 \r\nQ 26.265625 48.484375 22.1875 42.84375 \r\nQ 18.109375 37.203125 18.109375 27.296875 \r\nQ 18.109375 17.390625 22.1875 11.75 \r\nQ 26.265625 6.109375 33.40625 6.109375 \r\nQ 40.53125 6.109375 44.609375 11.75 \r\nQ 48.6875 17.390625 48.6875 27.296875 \r\nz\r\nM 18.109375 46.390625 \r\nQ 20.953125 51.265625 25.265625 53.625 \r\nQ 29.59375 56 35.59375 56 \r\nQ 45.5625 56 51.78125 48.09375 \r\nQ 58.015625 40.1875 58.015625 27.296875 \r\nQ 58.015625 14.40625 51.78125 6.484375 \r\nQ 45.5625 -1.421875 35.59375 -1.421875 \r\nQ 29.59375 -1.421875 25.265625 0.953125 \r\nQ 20.953125 3.328125 18.109375 8.203125 \r\nL 18.109375 0 \r\nL 9.078125 0 \r\nL 9.078125 75.984375 \r\nL 18.109375 75.984375 \r\nz\r\n\" id=\"DejaVuSans-98\"/>\r\n      <path d=\"M 9.421875 75.984375 \r\nL 18.40625 75.984375 \r\nL 18.40625 0 \r\nL 9.421875 0 \r\nz\r\n\" id=\"DejaVuSans-108\"/>\r\n      <path d=\"M 39.40625 66.21875 \r\nQ 28.65625 66.21875 22.328125 58.203125 \r\nQ 16.015625 50.203125 16.015625 36.375 \r\nQ 16.015625 22.609375 22.328125 14.59375 \r\nQ 28.65625 6.59375 39.40625 6.59375 \r\nQ 50.140625 6.59375 56.421875 14.59375 \r\nQ 62.703125 22.609375 62.703125 36.375 \r\nQ 62.703125 50.203125 56.421875 58.203125 \r\nQ 50.140625 66.21875 39.40625 66.21875 \r\nz\r\nM 53.21875 1.3125 \r\nL 66.21875 -12.890625 \r\nL 54.296875 -12.890625 \r\nL 43.5 -1.21875 \r\nQ 41.890625 -1.3125 41.03125 -1.359375 \r\nQ 40.1875 -1.421875 39.40625 -1.421875 \r\nQ 24.03125 -1.421875 14.8125 8.859375 \r\nQ 5.609375 19.140625 5.609375 36.375 \r\nQ 5.609375 53.65625 14.8125 63.9375 \r\nQ 24.03125 74.21875 39.40625 74.21875 \r\nQ 54.734375 74.21875 63.90625 63.9375 \r\nQ 73.09375 53.65625 73.09375 36.375 \r\nQ 73.09375 23.6875 67.984375 14.640625 \r\nQ 62.890625 5.609375 53.21875 1.3125 \r\nz\r\n\" id=\"DejaVuSans-81\"/>\r\n      <path d=\"M 9.8125 72.90625 \r\nL 23.09375 72.90625 \r\nL 55.421875 11.921875 \r\nL 55.421875 72.90625 \r\nL 64.984375 72.90625 \r\nL 64.984375 0 \r\nL 51.703125 0 \r\nL 19.390625 60.984375 \r\nL 19.390625 0 \r\nL 9.8125 0 \r\nz\r\n\" id=\"DejaVuSans-78\"/>\r\n      <path d=\"M 4.203125 54.6875 \r\nL 13.1875 54.6875 \r\nL 24.421875 12.015625 \r\nL 35.59375 54.6875 \r\nL 46.1875 54.6875 \r\nL 57.421875 12.015625 \r\nL 68.609375 54.6875 \r\nL 77.59375 54.6875 \r\nL 63.28125 0 \r\nL 52.6875 0 \r\nL 40.921875 44.828125 \r\nL 29.109375 0 \r\nL 18.5 0 \r\nz\r\n\" id=\"DejaVuSans-119\"/>\r\n      <path d=\"M 18.3125 70.21875 \r\nL 18.3125 54.6875 \r\nL 36.8125 54.6875 \r\nL 36.8125 47.703125 \r\nL 18.3125 47.703125 \r\nL 18.3125 18.015625 \r\nQ 18.3125 11.328125 20.140625 9.421875 \r\nQ 21.96875 7.515625 27.59375 7.515625 \r\nL 36.8125 7.515625 \r\nL 36.8125 0 \r\nL 27.59375 0 \r\nQ 17.1875 0 13.234375 3.875 \r\nQ 9.28125 7.765625 9.28125 18.015625 \r\nL 9.28125 47.703125 \r\nL 2.6875 47.703125 \r\nL 2.6875 54.6875 \r\nL 9.28125 54.6875 \r\nL 9.28125 70.21875 \r\nz\r\n\" id=\"DejaVuSans-116\"/>\r\n      <path d=\"M 54.890625 33.015625 \r\nL 54.890625 0 \r\nL 45.90625 0 \r\nL 45.90625 32.71875 \r\nQ 45.90625 40.484375 42.875 44.328125 \r\nQ 39.84375 48.1875 33.796875 48.1875 \r\nQ 26.515625 48.1875 22.3125 43.546875 \r\nQ 18.109375 38.921875 18.109375 30.90625 \r\nL 18.109375 0 \r\nL 9.078125 0 \r\nL 9.078125 75.984375 \r\nL 18.109375 75.984375 \r\nL 18.109375 46.1875 \r\nQ 21.34375 51.125 25.703125 53.5625 \r\nQ 30.078125 56 35.796875 56 \r\nQ 45.21875 56 50.046875 50.171875 \r\nQ 54.890625 44.34375 54.890625 33.015625 \r\nz\r\n\" id=\"DejaVuSans-104\"/>\r\n      <path d=\"M 52 44.1875 \r\nQ 55.375 50.25 60.0625 53.125 \r\nQ 64.75 56 71.09375 56 \r\nQ 79.640625 56 84.28125 50.015625 \r\nQ 88.921875 44.046875 88.921875 33.015625 \r\nL 88.921875 0 \r\nL 79.890625 0 \r\nL 79.890625 32.71875 \r\nQ 79.890625 40.578125 77.09375 44.375 \r\nQ 74.3125 48.1875 68.609375 48.1875 \r\nQ 61.625 48.1875 57.5625 43.546875 \r\nQ 53.515625 38.921875 53.515625 30.90625 \r\nL 53.515625 0 \r\nL 44.484375 0 \r\nL 44.484375 32.71875 \r\nQ 44.484375 40.625 41.703125 44.40625 \r\nQ 38.921875 48.1875 33.109375 48.1875 \r\nQ 26.21875 48.1875 22.15625 43.53125 \r\nQ 18.109375 38.875 18.109375 30.90625 \r\nL 18.109375 0 \r\nL 9.078125 0 \r\nL 9.078125 54.6875 \r\nL 18.109375 54.6875 \r\nL 18.109375 46.1875 \r\nQ 21.1875 51.21875 25.484375 53.609375 \r\nQ 29.78125 56 35.6875 56 \r\nQ 41.65625 56 45.828125 52.96875 \r\nQ 50 49.953125 52 44.1875 \r\nz\r\n\" id=\"DejaVuSans-109\"/>\r\n      <path d=\"M 37.109375 75.984375 \r\nL 37.109375 68.5 \r\nL 28.515625 68.5 \r\nQ 23.6875 68.5 21.796875 66.546875 \r\nQ 19.921875 64.59375 19.921875 59.515625 \r\nL 19.921875 54.6875 \r\nL 34.71875 54.6875 \r\nL 34.71875 47.703125 \r\nL 19.921875 47.703125 \r\nL 19.921875 0 \r\nL 10.890625 0 \r\nL 10.890625 47.703125 \r\nL 2.296875 47.703125 \r\nL 2.296875 54.6875 \r\nL 10.890625 54.6875 \r\nL 10.890625 58.5 \r\nQ 10.890625 67.625 15.140625 71.796875 \r\nQ 19.390625 75.984375 28.609375 75.984375 \r\nz\r\n\" id=\"DejaVuSans-102\"/>\r\n     </defs>\r\n     <use xlink:href=\"#DejaVuSans-76\"/>\r\n     <use x=\"53.962891\" xlink:href=\"#DejaVuSans-101\"/>\r\n     <use x=\"115.486328\" xlink:href=\"#DejaVuSans-97\"/>\r\n     <use x=\"176.765625\" xlink:href=\"#DejaVuSans-114\"/>\r\n     <use x=\"216.128906\" xlink:href=\"#DejaVuSans-110\"/>\r\n     <use x=\"279.507812\" xlink:href=\"#DejaVuSans-105\"/>\r\n     <use x=\"307.291016\" xlink:href=\"#DejaVuSans-110\"/>\r\n     <use x=\"370.669922\" xlink:href=\"#DejaVuSans-103\"/>\r\n     <use x=\"434.146484\" xlink:href=\"#DejaVuSans-32\"/>\r\n     <use x=\"465.933594\" xlink:href=\"#DejaVuSans-99\"/>\r\n     <use x=\"520.914062\" xlink:href=\"#DejaVuSans-117\"/>\r\n     <use x=\"584.292969\" xlink:href=\"#DejaVuSans-114\"/>\r\n     <use x=\"625.40625\" xlink:href=\"#DejaVuSans-118\"/>\r\n     <use x=\"684.585938\" xlink:href=\"#DejaVuSans-101\"/>\r\n     <use x=\"746.109375\" xlink:href=\"#DejaVuSans-58\"/>\r\n     <use x=\"779.800781\" xlink:href=\"#DejaVuSans-32\"/>\r\n     <use x=\"811.587891\" xlink:href=\"#DejaVuSans-68\"/>\r\n     <use x=\"888.589844\" xlink:href=\"#DejaVuSans-111\"/>\r\n     <use x=\"949.771484\" xlink:href=\"#DejaVuSans-117\"/>\r\n     <use x=\"1013.150391\" xlink:href=\"#DejaVuSans-98\"/>\r\n     <use x=\"1076.626953\" xlink:href=\"#DejaVuSans-108\"/>\r\n     <use x=\"1104.410156\" xlink:href=\"#DejaVuSans-101\"/>\r\n     <use x=\"1165.933594\" xlink:href=\"#DejaVuSans-32\"/>\r\n     <use x=\"1197.720703\" xlink:href=\"#DejaVuSans-68\"/>\r\n     <use x=\"1274.722656\" xlink:href=\"#DejaVuSans-81\"/>\r\n     <use x=\"1353.433594\" xlink:href=\"#DejaVuSans-78\"/>\r\n     <use x=\"1428.238281\" xlink:href=\"#DejaVuSans-32\"/>\r\n     <use x=\"1460.025391\" xlink:href=\"#DejaVuSans-119\"/>\r\n     <use x=\"1541.8125\" xlink:href=\"#DejaVuSans-105\"/>\r\n     <use x=\"1569.595703\" xlink:href=\"#DejaVuSans-116\"/>\r\n     <use x=\"1608.804688\" xlink:href=\"#DejaVuSans-104\"/>\r\n     <use x=\"1672.183594\" xlink:href=\"#DejaVuSans-32\"/>\r\n     <use x=\"1703.970703\" xlink:href=\"#DejaVuSans-97\"/>\r\n     <use x=\"1765.25\" xlink:href=\"#DejaVuSans-32\"/>\r\n     <use x=\"1797.037109\" xlink:href=\"#DejaVuSans-108\"/>\r\n     <use x=\"1824.820312\" xlink:href=\"#DejaVuSans-105\"/>\r\n     <use x=\"1852.603516\" xlink:href=\"#DejaVuSans-109\"/>\r\n     <use x=\"1950.015625\" xlink:href=\"#DejaVuSans-105\"/>\r\n     <use x=\"1977.798828\" xlink:href=\"#DejaVuSans-116\"/>\r\n     <use x=\"2017.007812\" xlink:href=\"#DejaVuSans-32\"/>\r\n     <use x=\"2048.794922\" xlink:href=\"#DejaVuSans-111\"/>\r\n     <use x=\"2109.976562\" xlink:href=\"#DejaVuSans-102\"/>\r\n     <use x=\"2145.181641\" xlink:href=\"#DejaVuSans-32\"/>\r\n     <use x=\"2176.96875\" xlink:href=\"#DejaVuSans-51\"/>\r\n     <use x=\"2240.591797\" xlink:href=\"#DejaVuSans-50\"/>\r\n     <use x=\"2304.214844\" xlink:href=\"#DejaVuSans-53\"/>\r\n     <use x=\"2367.837891\" xlink:href=\"#DejaVuSans-32\"/>\r\n     <use x=\"2399.625\" xlink:href=\"#DejaVuSans-101\"/>\r\n     <use x=\"2461.148438\" xlink:href=\"#DejaVuSans-112\"/>\r\n     <use x=\"2524.625\" xlink:href=\"#DejaVuSans-105\"/>\r\n     <use x=\"2552.408203\" xlink:href=\"#DejaVuSans-115\"/>\r\n     <use x=\"2604.507812\" xlink:href=\"#DejaVuSans-111\"/>\r\n     <use x=\"2665.689453\" xlink:href=\"#DejaVuSans-100\"/>\r\n     <use x=\"2729.166016\" xlink:href=\"#DejaVuSans-101\"/>\r\n     <use x=\"2790.689453\" xlink:href=\"#DejaVuSans-115\"/>\r\n    </g>\r\n   </g>\r\n  </g>\r\n </g>\r\n <defs>\r\n  <clipPath id=\"p3b8f3a7fd5\">\r\n   <rect height=\"271.8\" width=\"558\" x=\"40.988437\" y=\"26.877187\"/>\r\n  </clipPath>\r\n </defs>\r\n</svg>\r\n",
      "text/plain": [
       "<Figure size 720x360 with 1 Axes>"
      ]
     },
     "metadata": {
      "needs_background": "light"
     },
     "output_type": "display_data"
    }
   ],
   "source": [
    "# get the smallest size to make it fit into the plot\n",
    "smallest_list_len = min([len(data) for data in learning_data])\n",
    "\n",
    "processed_learning_data = [(learning_data[i][:smallest_list_len]) for i in range(len(learning_data))]\n",
    "processed_learning_data_array = np.array(processed_learning_data)\n",
    "# Calculate the average over the n_learning_process curves\n",
    "output = np.average(processed_learning_data_array, axis=0)\n",
    "\n",
    "\n",
    "#Plotting the learning curve\n",
    "plt.plot(output)\n",
    "plt.xlabel(\"Episodes\")\n",
    "plt.ylabel(\"Score\")\n",
    "plt.title(f\"Learning curve: Double DQN with a limit of {smallest_list_len} episodes\")\n",
    "# show! montadas as funções"
   ]
  }
 ],
 "metadata": {
  "kernelspec": {
   "display_name": "drlnd",
   "language": "python",
   "name": "python3"
  },
  "language_info": {
   "codemirror_mode": {
    "name": "ipython",
    "version": 3
   },
   "file_extension": ".py",
   "mimetype": "text/x-python",
   "name": "python",
   "nbconvert_exporter": "python",
   "pygments_lexer": "ipython3",
   "version": "3.6.13"
  },
  "vscode": {
   "interpreter": {
    "hash": "7d5a6eb37eab106ee73255bf6977e218158eca1d7d01f034983b95ae0d576c4b"
   }
  }
 },
 "nbformat": 4,
 "nbformat_minor": 2
}
