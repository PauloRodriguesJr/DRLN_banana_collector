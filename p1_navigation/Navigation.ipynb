{
 "cells": [
  {
   "cell_type": "markdown",
   "metadata": {},
   "source": []
  },
  {
   "cell_type": "markdown",
   "metadata": {},
   "source": [
    "# Navigation\n",
    "\n",
    "---\n",
    "\n",
    "In this notebook, you will learn how to use the Unity ML-Agents environment for the first project of the [Deep Reinforcement Learning Nanodegree](https://www.udacity.com/course/deep-reinforcement-learning-nanodegree--nd893).\n",
    "\n",
    "### 1. Start the Environment\n",
    "\n",
    "We begin by importing some necessary packages.  If the code cell below returns an error, please revisit the project instructions to double-check that you have installed [Unity ML-Agents](https://github.com/Unity-Technologies/ml-agents/blob/master/docs/Installation.md) and [NumPy](http://www.numpy.org/)."
   ]
  },
  {
   "cell_type": "code",
   "execution_count": 1,
   "metadata": {
    "scrolled": true
   },
   "outputs": [
    {
     "name": "stdout",
     "output_type": "stream",
     "text": [
      "Using GPU\n"
     ]
    }
   ],
   "source": [
    "from unityagents import UnityEnvironment\n",
    "import numpy as np\n",
    "import matplotlib.pyplot as plt\n",
    "import pickle\n",
    "\n",
    "from dqn_agent import Agent\n",
    "from collections import namedtuple, deque\n",
    "\n",
    "import torch\n",
    "import torchvision \n",
    "\n",
    "#Defining parameters for better plots\n",
    "%matplotlib inline\n",
    "%config InlineBackend.figure_format = 'svg'\n",
    "params = {'figure.figsize': [10, 5],\n",
    "          'axes.labelsize': 15,\n",
    "          'axes.titlesize':18,\n",
    "          'font.size': 15,\n",
    "          'legend.fontsize': 15,\n",
    "          'xtick.labelsize': 13,\n",
    "          'ytick.labelsize': 13\n",
    "         }\n",
    "plt.rcParams.update(params)\n",
    "\n",
    "if torch.cuda.is_available():\n",
    "    print(\"Using GPU\")\n",
    "else:\n",
    "    print(\"Using CPU\")\n"
   ]
  },
  {
   "cell_type": "markdown",
   "metadata": {},
   "source": [
    "Next, we will start the environment!  **_Before running the code cell below_**, change the `file_name` parameter to match the location of the Unity environment that you downloaded.\n",
    "\n",
    "- **Mac**: `\"path/to/Banana.app\"`\n",
    "- **Windows** (x86): `\"path/to/Banana_Windows_x86/Banana.exe\"`\n",
    "- **Windows** (x86_64): `\"path/to/Banana_Windows_x86_64/Banana.exe\"`\n",
    "- **Linux** (x86): `\"path/to/Banana_Linux/Banana.x86\"`\n",
    "- **Linux** (x86_64): `\"path/to/Banana_Linux/Banana.x86_64\"`\n",
    "- **Linux** (x86, headless): `\"path/to/Banana_Linux_NoVis/Banana.x86\"`\n",
    "- **Linux** (x86_64, headless): `\"path/to/Banana_Linux_NoVis/Banana.x86_64\"`\n",
    "\n",
    "For instance, if you are using a Mac, then you downloaded `Banana.app`.  If this file is in the same folder as the notebook, then the line below should appear as follows:\n",
    "```\n",
    "env = UnityEnvironment(file_name=\"Banana.app\")\n",
    "```"
   ]
  },
  {
   "cell_type": "code",
   "execution_count": 2,
   "metadata": {
    "scrolled": false
   },
   "outputs": [
    {
     "name": "stderr",
     "output_type": "stream",
     "text": [
      "INFO:unityagents:\n",
      "'Academy' started successfully!\n",
      "Unity Academy name: Academy\n",
      "        Number of Brains: 1\n",
      "        Number of External Brains : 1\n",
      "        Lesson number : 0\n",
      "        Reset Parameters :\n",
      "\t\t\n",
      "Unity brain name: BananaBrain\n",
      "        Number of Visual Observations (per agent): 0\n",
      "        Vector Observation space type: continuous\n",
      "        Vector Observation space size (per agent): 37\n",
      "        Number of stacked Vector Observation: 1\n",
      "        Vector Action space type: discrete\n",
      "        Vector Action space size (per agent): 4\n",
      "        Vector Action descriptions: , , , \n"
     ]
    }
   ],
   "source": [
    "env = UnityEnvironment(file_name=\"Banana_Windows_x86_64/Banana.exe\")"
   ]
  },
  {
   "cell_type": "markdown",
   "metadata": {},
   "source": [
    "Environments contain **_brains_** which are responsible for deciding the actions of their associated agents. Here we check for the first brain available, and set it as the default brain we will be controlling from Python."
   ]
  },
  {
   "cell_type": "code",
   "execution_count": 3,
   "metadata": {},
   "outputs": [],
   "source": [
    "# get the default brain\n",
    "brain_name = env.brain_names[0]\n",
    "brain = env.brains[brain_name]"
   ]
  },
  {
   "cell_type": "markdown",
   "metadata": {},
   "source": [
    "### 2. Examine the State and Action Spaces\n",
    "\n",
    "The simulation contains a single agent that navigates a large environment.  At each time step, it has four actions at its disposal:\n",
    "- `0` - walk forward \n",
    "- `1` - walk backward\n",
    "- `2` - turn left\n",
    "- `3` - turn right\n",
    "\n",
    "The state space has `37` dimensions and contains the agent's velocity, along with ray-based perception of objects around agent's forward direction.  A reward of `+1` is provided for collecting a yellow banana, and a reward of `-1` is provided for collecting a blue banana. \n",
    "\n",
    "Run the code cell below to print some information about the environment."
   ]
  },
  {
   "cell_type": "code",
   "execution_count": 4,
   "metadata": {},
   "outputs": [
    {
     "name": "stdout",
     "output_type": "stream",
     "text": [
      "Number of agents: 1\n",
      "Number of actions: 4\n",
      "States look like: [1.         0.         0.         0.         0.84408134 0.\n",
      " 0.         1.         0.         0.0748472  0.         1.\n",
      " 0.         0.         0.25755    1.         0.         0.\n",
      " 0.         0.74177343 0.         1.         0.         0.\n",
      " 0.25854847 0.         0.         1.         0.         0.09355672\n",
      " 0.         1.         0.         0.         0.31969345 0.\n",
      " 0.        ]\n",
      "States have length: 37\n"
     ]
    }
   ],
   "source": [
    "# reset the environment\n",
    "env_info = env.reset(train_mode=False)[brain_name]\n",
    "\n",
    "# number of agents in the environment\n",
    "print('Number of agents:', len(env_info.agents))\n",
    "\n",
    "# number of actions\n",
    "action_size = brain.vector_action_space_size\n",
    "print('Number of actions:', action_size)\n",
    "\n",
    "# examine the state space \n",
    "state = env_info.vector_observations[0]\n",
    "print('States look like:', state)\n",
    "state_size = len(state)\n",
    "print('States have length:', state_size)"
   ]
  },
  {
   "cell_type": "markdown",
   "metadata": {},
   "source": [
    "### 3. Take Random Actions in the Environment\n",
    "\n",
    "In the next code cell, you will learn how to use the Python API to control the agent and receive feedback from the environment.\n",
    "\n",
    "Once this cell is executed, you will watch the agent's performance, if it selects an action (uniformly) at random with each time step.  A window should pop up that allows you to observe the agent, as it moves through the environment.  \n",
    "\n",
    "Of course, as part of the project, you'll have to change the code so that the agent is able to use its experience to gradually choose better actions when interacting with the environment!"
   ]
  },
  {
   "cell_type": "code",
   "execution_count": 5,
   "metadata": {},
   "outputs": [],
   "source": [
    "# env_info = env.reset(train_mode=False)[brain_name] # reset the environment\n",
    "# state = env_info.vector_observations[0]            # get the current state\n",
    "# score = 0                                          # initialize the score\n",
    "# while True:\n",
    "#     action = np.random.randint(action_size)        # select an action\n",
    "#     env_info = env.step(action)[brain_name]        # send the action to the environment\n",
    "#     next_state = env_info.vector_observations[0]   # get the next state\n",
    "#     reward = env_info.rewards[0]                   # get the reward\n",
    "#     done = env_info.local_done[0]                  # see if episode has finished\n",
    "    \n",
    "    \n",
    "#     score += reward                                # update the score\n",
    "#     state = next_state                             # roll over the state to next time step\n",
    "#     if done:                                       # exit loop if episode finished\n",
    "#         break\n",
    "    \n",
    "# print(\"Score: {}\".format(score))\n",
    "\n",
    "# env_info = env.reset(train_mode=True)[brain_name]\n"
   ]
  },
  {
   "attachments": {},
   "cell_type": "markdown",
   "metadata": {},
   "source": [
    "Now it's your turn to train your own agent to solve the environment!  When training the environment, set `train_mode=True`, so that the line for resetting the environment looks like the following:\n",
    "```python\n",
    "env_info = env.reset(train_mode=True)[brain_name]\n",
    "```"
   ]
  },
  {
   "cell_type": "code",
   "execution_count": 6,
   "metadata": {},
   "outputs": [],
   "source": [
    "agent = Agent(state_size, action_size, seed=0)"
   ]
  },
  {
   "attachments": {},
   "cell_type": "markdown",
   "metadata": {},
   "source": [
    "## Training the Agent\n"
   ]
  },
  {
   "cell_type": "code",
   "execution_count": 7,
   "metadata": {},
   "outputs": [],
   "source": [
    "eps_start = 1.0\n",
    "eps_end = 0.01\n",
    "eps_decay=0.995\n",
    "n_episodes = 1000\n",
    "t_max = 300                        #  a limitation of the environment\n",
    "SCORE_STOP_CONDITION = 13\n",
    "WINDOW_SIZE = 100\n",
    "def agent_learning(env, agent, score_stop_condition):\n",
    "    scores = []                        # list containing scores from each episode\n",
    "    scores_window = deque(maxlen=WINDOW_SIZE)  # last 100 scores\n",
    "\n",
    "    eps = eps_start                    # initialize epsilon\n",
    "    for i_episode in range(1,n_episodes+1):\n",
    "        # action = np.random.randint(action_size)          # select an action\n",
    "        score = 0                                          # initialize the score\n",
    "        env_info = env.reset(train_mode=True)[brain_name]\n",
    "        state = env_info.vector_observations[0]            # get the current state\n",
    "        # reset environment\n",
    "        for t in range(t_max):\n",
    "            action = agent.act(state).astype(int)          # select an action\n",
    "            # print(f\"action selection:{action}\")\n",
    "            env_info = env.step(action)[brain_name]        # send the action to the environment\n",
    "            next_state = env_info.vector_observations[0]   # get the next state\n",
    "            reward = int(env_info.rewards[0])              # get the reward\n",
    "            # if reward != 0.0:\n",
    "                # print(reward, flush = True)\n",
    "            done = env_info.local_done[0]                  # see if episode has finished\n",
    "            agent.step(state, action, reward, next_state, done)\n",
    "\n",
    "            score += reward                                # update the score\n",
    "            state = next_state                             # roll over the state to next time step\n",
    "            if done:                                       # exit loop if episode finished\n",
    "                break\n",
    "\n",
    "        scores_window.append(score)\n",
    "        scores.append(score)                              # save most recent score\n",
    "        eps = max(eps_end, eps_decay*eps)                 # decrease epsilon\n",
    "\n",
    "        # print('\\rEpisode {}\\tAverage Score: {:.1f}'.format(i_episode, np.mean(scores_window)), end=\"\", flush=True)\n",
    "        if i_episode % 100 == 0:\n",
    "            print('\\rEpisode {}\\tAverage Score: {:.2f}'.format(i_episode, np.mean(scores_window)))\n",
    "        if np.mean(scores_window)>score_stop_condition:\n",
    "            print('\\nEnvironment solved in {:d} episodes!\\tAverage Score: {:.2f}'.format(i_episode-100, np.mean(scores_window)))\n",
    "            print(f\"Last scores batch:\\n{scores_window}\")\n",
    "            break\n",
    "\n",
    "        elif(i_episode == n_episodes):\n",
    "            print('\\Episodes horizon exceeded!\\tAverage Score: {:.2f}'.format(np.mean(scores_window)))\n",
    "            print(f\"Last scores batch:\\n{scores_window}\")            \n",
    "\n",
    "    return scores, agent.qnetwork_local.state_dict()"
   ]
  },
  {
   "cell_type": "code",
   "execution_count": 8,
   "metadata": {},
   "outputs": [
    {
     "name": "stdout",
     "output_type": "stream",
     "text": [
      "Episode 100\tAverage Score: 0.74\n",
      "Episode 200\tAverage Score: 5.71\n",
      "Episode 300\tAverage Score: 9.30\n",
      "Episode 400\tAverage Score: 8.81\n",
      "Episode 500\tAverage Score: 12.57\n",
      "Episode 600\tAverage Score: 11.14\n",
      "Episode 700\tAverage Score: 12.57\n",
      "\n",
      "Environment solved in 630 episodes!\tAverage Score: 13.02\n",
      "Last scores batch:\n",
      "deque([6, 9, 14, 15, 16, 10, 15, 10, 11, 12, 13, 12, 20, 8, 16, 17, 16, 13, 12, 10, 17, 13, 15, 15, 19, 17, 18, 17, 15, 15, 7, 12, 12, 16, 13, 8, 15, 9, 19, 15, 8, 10, 10, 13, 12, 10, 9, 9, 14, 17, 9, 13, 15, 4, 4, 17, 16, 16, 21, 17, 9, 11, 18, 10, 14, 15, 19, 13, 12, 19, 6, 15, 9, 11, 12, 13, 11, 4, 16, 15, 20, 13, 18, 9, 14, 14, 13, 13, 10, 11, 15, 13, 12, 12, 14, 11, 7, 11, 15, 19], maxlen=100)\n"
     ]
    }
   ],
   "source": [
    "learning_curve, agent_weights = agent_learning(env, agent, SCORE_STOP_CONDITION)\n",
    "torch.save(agent_weights, 'checkpoint.pth')"
   ]
  },
  {
   "cell_type": "code",
   "execution_count": 9,
   "metadata": {},
   "outputs": [],
   "source": [
    "# algoritmo: rodar learning_process\n",
    "# retornar de cada learning process o histórico;\n",
    "# deixar como está esse, mas definir como uma função a parte de learning\n",
    "# retornar scores\n",
    "\n",
    "# para cada iteração, dar append do scores\n",
    "# fazer alguma função para entrar uma lista de listas e sair uma média de listas\n",
    "\n",
    "#plotar a \"lista média\""
   ]
  },
  {
   "cell_type": "code",
   "execution_count": 10,
   "metadata": {},
   "outputs": [
    {
     "name": "stdout",
     "output_type": "stream",
     "text": [
      "Using GPU\n"
     ]
    },
    {
     "data": {
      "text/plain": [
       "<All keys matched successfully>"
      ]
     },
     "execution_count": 10,
     "metadata": {},
     "output_type": "execute_result"
    }
   ],
   "source": [
    "\n",
    "if torch.cuda.is_available():\n",
    "    map_location=lambda storage, loc: storage.cuda()\n",
    "    print(\"Using GPU\")\n",
    "else:\n",
    "    map_location='cpu'\n",
    "    print(\"Using CPU\")\n",
    "\n",
    "checkpoint = torch.load('checkpoint.pth', map_location=map_location)\n",
    "agent.qnetwork_local.load_state_dict(checkpoint)\n",
    "\n"
   ]
  },
  {
   "attachments": {},
   "cell_type": "markdown",
   "metadata": {
    "slideshow": {
     "slide_type": "slide"
    }
   },
   "source": [
    "##  Evaluation of the learned policy"
   ]
  },
  {
   "cell_type": "code",
   "execution_count": 11,
   "metadata": {},
   "outputs": [
    {
     "name": "stdout",
     "output_type": "stream",
     "text": [
      "number of steps until finish the episode: 300\n",
      "Score: 13.0\n"
     ]
    }
   ],
   "source": [
    "# env_info = env.reset(train_mode=False)[brain_name] # reset the environment\n",
    "env_info = env.reset(train_mode=False)[brain_name]\n",
    "state = env_info.vector_observations[0]            # get the current state\n",
    "score = 0                                          # initialize the score\n",
    "i = 0\n",
    "while True:\n",
    "\n",
    "    action = agent.act(state).astype(int)          # select an action\n",
    "    env_info = env.step(action)[brain_name]        # send the action to the environment\n",
    "    next_state = env_info.vector_observations[0]   # get the next state\n",
    "    reward = env_info.rewards[0]                   # get the reward\n",
    "    done = env_info.local_done[0]                  # see if episode has finished\n",
    "\n",
    "    score += reward                                # update the score\n",
    "    state = next_state                             # roll over the state to next time step\n",
    "    i+=1\n",
    "    if done:                                       # exit loop if episode finished\n",
    "        break\n",
    "print(f\"number of steps until finish the episode: {i}\")\n",
    "print(\"Score: {}\".format(score))"
   ]
  },
  {
   "cell_type": "code",
   "execution_count": 12,
   "metadata": {},
   "outputs": [
    {
     "name": "stdout",
     "output_type": "stream",
     "text": [
      "Using GPU\n"
     ]
    }
   ],
   "source": [
    "from unityagents import UnityEnvironment\n",
    "import numpy as np\n",
    "import matplotlib.pyplot as plt\n",
    "import pickle\n",
    "\n",
    "from dqn_agent import Agent\n",
    "from collections import namedtuple, deque\n",
    "\n",
    "import torch\n",
    "import torchvision \n",
    "\n",
    "#DEFININDO ALGUNS PARÂMETROS PARA PLOTAR GRÁFICOS\n",
    "%matplotlib inline\n",
    "%config InlineBackend.figure_format = 'svg'\n",
    "params = {'figure.figsize': [10, 5],\n",
    "          'axes.labelsize': 15,\n",
    "          'axes.titlesize':18,\n",
    "          'font.size': 15,\n",
    "          'legend.fontsize': 15,\n",
    "          'xtick.labelsize': 13,\n",
    "          'ytick.labelsize': 13\n",
    "         }\n",
    "plt.rcParams.update(params)\n",
    "\n",
    "if torch.cuda.is_available():\n",
    "    print(\"Using GPU\")\n",
    "else:\n",
    "    print(\"Using CPU\")\n"
   ]
  },
  {
   "cell_type": "code",
   "execution_count": 13,
   "metadata": {},
   "outputs": [
    {
     "name": "stdout",
     "output_type": "stream",
     "text": [
      "Episode 100\tAverage Score: -0.03\n",
      "Episode 200\tAverage Score: -0.04\n",
      "Episode 300\tAverage Score: -0.07\n",
      "Episode 400\tAverage Score: 1.03\n",
      "Episode 500\tAverage Score: 5.84\n",
      "Episode 600\tAverage Score: 9.33\n",
      "Episode 700\tAverage Score: 10.59\n",
      "Episode 800\tAverage Score: 11.81\n",
      "Episode 900\tAverage Score: 11.68\n",
      "Episode 1000\tAverage Score: 13.23\n",
      "\\Episodes horizon exceeded!\tAverage Score: 13.23\n",
      "Last scores batch:\n",
      "deque([11, 13, 12, 11, 12, 12, 12, 16, 13, 12, 11, 9, 15, 8, 16, 16, 12, 12, 16, 14, 20, 18, 8, 14, 14, 13, 12, 14, 16, 14, 12, 16, 17, 12, 10, 9, 17, 15, 12, 11, 19, 15, 14, 14, 18, 18, 16, 14, 11, 16, 12, 16, 10, 12, 12, 12, 6, 13, 12, 10, 12, 12, 16, 14, 20, 15, 13, 11, 12, 11, 15, 13, 12, 16, 4, 11, 17, 15, 13, 14, 12, 9, 12, 15, 21, 15, 18, 14, 17, 9, 15, 13, 13, 6, 9, 13, 12, 14, 11, 12], maxlen=100)\n",
      "Episode 100\tAverage Score: 0.21\n",
      "Episode 200\tAverage Score: 3.22\n",
      "Episode 300\tAverage Score: 9.89\n",
      "Episode 400\tAverage Score: 11.17\n",
      "Episode 500\tAverage Score: 12.33\n",
      "Episode 600\tAverage Score: 12.23\n",
      "Episode 700\tAverage Score: 11.93\n",
      "Episode 800\tAverage Score: 12.40\n",
      "Episode 900\tAverage Score: 12.83\n",
      "Episode 1000\tAverage Score: 12.71\n",
      "\\Episodes horizon exceeded!\tAverage Score: 12.71\n",
      "Last scores batch:\n",
      "deque([14, 13, 14, 2, 13, 18, 15, 12, 14, 13, 10, 16, 12, 17, 11, 20, 17, 3, 16, 13, 14, 14, 12, 16, 12, 12, 11, 14, 5, 10, 15, 12, 8, 14, 12, 10, 17, 14, 19, 9, 17, 12, 8, 7, 15, 19, 11, 13, 11, 14, 14, 11, 9, 10, 13, 12, 16, 18, 15, 13, 11, 19, 13, 12, 15, 11, 10, 10, 17, 14, 12, 20, 9, 12, 0, 10, 15, 15, 14, 16, 11, 11, 17, 8, 10, 8, 14, 18, 13, 10, 15, 7, 2, 9, 10, 16, 17, 16, 20, 13], maxlen=100)\n",
      "Episode 100\tAverage Score: 1.57\n",
      "Episode 200\tAverage Score: 5.69\n",
      "Episode 300\tAverage Score: 9.35\n",
      "Episode 400\tAverage Score: 10.55\n",
      "Episode 500\tAverage Score: 12.52\n",
      "Episode 600\tAverage Score: 12.88\n",
      "Episode 700\tAverage Score: 13.14\n",
      "Episode 800\tAverage Score: 13.26\n",
      "Episode 900\tAverage Score: 13.33\n",
      "Episode 1000\tAverage Score: 12.79\n",
      "\\Episodes horizon exceeded!\tAverage Score: 12.79\n",
      "Last scores batch:\n",
      "deque([12, 11, 3, 12, 18, 13, 16, 15, 6, 15, 11, 12, 16, 7, 12, 16, 19, 13, 16, 11, 19, 11, 6, 16, 15, 17, 11, 15, 14, 11, 7, 17, 16, 11, 15, 5, 15, 7, 13, 12, 15, 13, 14, 10, 11, 12, 15, 11, 15, 16, 17, 11, 12, 14, 16, 7, 11, 13, 15, 11, 16, 10, 8, 18, 9, 13, 10, 7, 10, 16, 15, 12, 15, 9, 16, 9, 13, 18, 12, 13, 15, 10, 20, 15, 13, 6, 14, 16, 11, 16, 14, 13, 11, 12, 15, 12, 9, 18, 10, 14], maxlen=100)\n",
      "Episode 100\tAverage Score: -0.16\n",
      "Episode 200\tAverage Score: 1.31\n",
      "Episode 300\tAverage Score: 6.02\n",
      "Episode 400\tAverage Score: 9.36\n",
      "Episode 500\tAverage Score: 11.97\n",
      "Episode 600\tAverage Score: 12.59\n",
      "Episode 700\tAverage Score: 13.88\n",
      "Episode 800\tAverage Score: 14.62\n",
      "Episode 900\tAverage Score: 15.53\n",
      "Episode 1000\tAverage Score: 15.88\n",
      "\\Episodes horizon exceeded!\tAverage Score: 15.88\n",
      "Last scores batch:\n",
      "deque([15, 17, 19, 14, 16, 16, 17, 18, 16, 17, 12, 14, 14, 15, 22, 21, 15, 10, 14, 17, 17, 0, 19, 21, 9, 20, 15, 12, 15, 14, 21, 18, 21, 15, 18, 11, 16, 22, 15, 10, 20, 19, 16, 15, 15, 16, 4, 21, 16, 21, 17, 18, 17, 10, 19, 17, 16, 14, 12, 19, 21, 10, 19, 17, 14, 17, 15, 22, 18, 21, 13, 13, 18, 13, 9, 12, 16, 20, 18, 17, 20, 14, 18, 20, 14, 18, 10, 12, 20, 19, 10, 13, 18, 17, 12, 20, 13, 18, 11, 18], maxlen=100)\n",
      "Episode 100\tAverage Score: 0.08\n",
      "Episode 200\tAverage Score: -0.03\n",
      "Episode 300\tAverage Score: -0.05\n",
      "Episode 400\tAverage Score: 0.08\n",
      "Episode 500\tAverage Score: 0.04\n",
      "Episode 600\tAverage Score: 2.57\n",
      "Episode 700\tAverage Score: 8.73\n",
      "Episode 800\tAverage Score: 11.72\n",
      "Episode 900\tAverage Score: 8.78\n",
      "Episode 1000\tAverage Score: 8.64\n",
      "\\Episodes horizon exceeded!\tAverage Score: 8.64\n",
      "Last scores batch:\n",
      "deque([9, 8, 3, 0, 10, 5, 2, 4, 9, 9, 3, 11, 2, 6, 0, 5, 4, 2, 12, 11, 19, 3, 17, 16, 5, 1, 8, 4, 1, 10, 10, 16, 14, 6, 9, 5, 11, 12, 1, 12, 10, 10, 10, 1, 7, 4, 4, 6, 7, 6, 0, 2, 10, 3, 15, 6, 15, 12, 5, 10, 12, 5, 12, 11, 14, 6, 9, 2, 13, 7, 12, 21, 10, 0, 15, 12, 2, 8, 11, 13, 9, 15, 9, 14, 15, 15, 10, 10, 1, 16, 16, 10, 12, 14, 7, 6, 12, 12, 15, 13], maxlen=100)\n",
      "Episode 100\tAverage Score: 2.81\n",
      "Episode 200\tAverage Score: 3.74\n",
      "Episode 300\tAverage Score: 5.20\n",
      "Episode 400\tAverage Score: 10.63\n",
      "Episode 500\tAverage Score: 14.62\n",
      "Episode 600\tAverage Score: 14.86\n",
      "Episode 700\tAverage Score: 12.95\n",
      "Episode 800\tAverage Score: 14.83\n",
      "Episode 900\tAverage Score: 16.03\n",
      "Episode 1000\tAverage Score: 16.64\n",
      "\\Episodes horizon exceeded!\tAverage Score: 16.64\n",
      "Last scores batch:\n",
      "deque([18, 17, 25, 23, 15, 16, 17, 0, 14, 10, 12, 19, 16, 19, 17, 11, 18, 17, 19, 15, 18, 21, 11, 14, 21, 15, 16, 22, 11, 14, 15, 20, 23, 17, 18, 21, 15, 16, 12, 13, 12, 19, 17, 13, 20, 18, 17, 23, 17, 18, 14, 22, 22, 16, 14, 17, 16, 18, 23, 16, 24, 21, 20, 17, 16, 19, 22, 16, 8, 20, 22, 11, 15, 15, 19, 17, 19, 20, 17, 16, 8, 13, 18, 23, 18, 14, 12, 17, 15, 14, 13, 11, 17, 18, 15, 15, 11, 18, 15, 22], maxlen=100)\n",
      "Episode 100\tAverage Score: -0.06\n",
      "Episode 200\tAverage Score: -0.05\n",
      "Episode 300\tAverage Score: 0.02\n",
      "Episode 400\tAverage Score: 0.03\n",
      "Episode 500\tAverage Score: 0.04\n",
      "Episode 600\tAverage Score: -0.02\n",
      "Episode 700\tAverage Score: -0.06\n",
      "Episode 800\tAverage Score: -0.01\n",
      "Episode 900\tAverage Score: 0.09\n",
      "Episode 1000\tAverage Score: -0.06\n",
      "\\Episodes horizon exceeded!\tAverage Score: -0.06\n",
      "Last scores batch:\n",
      "deque([0, 0, 0, 0, 0, 0, 0, 0, 0, 0, 0, -1, 0, 0, 0, 0, 0, 0, 0, 0, 0, 0, 0, 0, 0, 0, 0, 0, 0, 0, 0, 0, 0, 0, 0, 0, 0, 0, 0, 0, 0, 1, 0, 0, 0, 0, 0, 0, -1, 0, 1, 0, 0, 0, -1, 0, 0, 0, 0, 0, 0, 1, 0, 0, -1, 0, 0, -2, 0, 0, 0, 0, 0, -1, 0, 0, 0, 0, 0, 0, 1, 0, -1, 0, 0, 0, -1, 0, 0, 0, 0, 0, 0, 0, 0, 0, 0, 0, -1, 0], maxlen=100)\n",
      "Episode 100\tAverage Score: -0.22\n",
      "Episode 200\tAverage Score: 2.59\n",
      "Episode 300\tAverage Score: 7.50\n",
      "Episode 400\tAverage Score: 10.10\n",
      "Episode 500\tAverage Score: 12.36\n",
      "Episode 600\tAverage Score: 12.54\n",
      "Episode 700\tAverage Score: 12.17\n",
      "Episode 800\tAverage Score: 11.97\n",
      "Episode 900\tAverage Score: 11.25\n",
      "Episode 1000\tAverage Score: 13.61\n",
      "\\Episodes horizon exceeded!\tAverage Score: 13.61\n",
      "Last scores batch:\n",
      "deque([9, 12, 11, 18, 15, 9, 18, 10, 12, 14, 9, 7, 11, 10, 15, 11, 11, 18, 15, 15, 16, 14, 18, 9, 15, 12, 20, 9, 15, 5, 2, 18, 12, 20, 14, 19, 6, 13, 10, 14, 18, 13, 14, 14, 13, 14, 5, 17, 16, 13, 16, 10, 17, 6, 14, 14, 12, 16, 7, 10, 13, 10, 16, 21, 8, 20, 17, 21, 18, 17, 9, 14, 15, 19, 16, 18, 12, 8, 16, 15, 17, 16, 12, 13, 10, 14, 18, 17, 14, 15, 16, 10, 16, 11, 14, 15, 14, 13, 15, 18], maxlen=100)\n",
      "Episode 100\tAverage Score: 0.00\n",
      "Episode 200\tAverage Score: 0.03\n",
      "Episode 300\tAverage Score: 0.04\n",
      "Episode 400\tAverage Score: 0.01\n",
      "Episode 500\tAverage Score: 0.00\n",
      "Episode 600\tAverage Score: -0.02\n",
      "Episode 700\tAverage Score: -0.01\n",
      "Episode 800\tAverage Score: 0.08\n",
      "Episode 900\tAverage Score: -0.02\n",
      "Episode 1000\tAverage Score: 0.01\n",
      "\\Episodes horizon exceeded!\tAverage Score: 0.01\n",
      "Last scores batch:\n",
      "deque([1, 0, 0, 0, 0, 0, 0, 0, 1, 0, 0, 0, 0, 0, 1, 0, 1, 0, 0, 0, 0, 0, 0, 0, 0, 0, 0, 0, 1, -1, 1, 0, 1, 0, 0, 0, 0, 0, 0, 1, 1, 0, 0, -1, 0, 0, 1, 0, -1, 0, 0, 0, 0, 0, 0, 0, 0, 0, 0, -1, 0, 0, 0, 0, 0, 0, -1, 0, 0, -1, 0, 0, 0, 0, 0, 0, 0, 0, 0, 0, -1, 0, 0, 0, 0, 0, 0, -1, -1, 0, 0, 0, 0, 0, 0, 0, 0, 0, 0, 0], maxlen=100)\n",
      "Episode 100\tAverage Score: 0.01\n",
      "Episode 200\tAverage Score: 0.01\n",
      "Episode 300\tAverage Score: 0.03\n",
      "Episode 400\tAverage Score: -0.03\n",
      "Episode 500\tAverage Score: 0.15\n",
      "Episode 600\tAverage Score: -0.18\n",
      "Episode 700\tAverage Score: -0.14\n",
      "Episode 800\tAverage Score: 0.02\n",
      "Episode 900\tAverage Score: 0.08\n",
      "Episode 1000\tAverage Score: 0.26\n",
      "\\Episodes horizon exceeded!\tAverage Score: 0.26\n",
      "Last scores batch:\n",
      "deque([5, 0, 1, 1, 1, 4, -2, 0, 0, 1, -1, 0, 0, -1, 2, 0, 1, 2, 4, -2, 0, -1, 0, 1, 0, 1, -1, 2, -1, 0, 2, 3, 1, 0, 1, 1, 0, -3, -1, -3, 0, 1, 1, 0, 4, -2, 0, 0, 0, -1, 0, -1, 2, 0, 1, -1, -1, 0, 0, -1, 0, 1, 1, 0, -1, 0, -3, 0, 4, 1, 0, -1, 0, 0, -2, 0, 2, -2, 0, 0, 0, 2, -1, 1, -1, 3, -1, 1, 0, 0, -1, 0, 0, 0, 0, 0, 0, 0, 3, 0], maxlen=100)\n",
      "Episode 100\tAverage Score: 1.67\n",
      "Episode 200\tAverage Score: 7.82\n",
      "Episode 300\tAverage Score: 10.32\n",
      "Episode 400\tAverage Score: 12.22\n",
      "Episode 500\tAverage Score: 12.17\n",
      "Episode 600\tAverage Score: 12.63\n",
      "Episode 700\tAverage Score: 12.66\n",
      "Episode 800\tAverage Score: 13.42\n",
      "Episode 900\tAverage Score: 13.03\n",
      "Episode 1000\tAverage Score: 11.68\n",
      "\\Episodes horizon exceeded!\tAverage Score: 11.68\n",
      "Last scores batch:\n",
      "deque([12, 10, 11, 14, 9, 11, 9, 21, 10, 2, 19, 17, 14, 11, 14, 12, 9, 18, 15, 14, 7, 12, 12, 15, 7, 14, 10, 16, 16, 5, 1, 10, 14, 11, 5, 13, 8, 14, 10, 10, 9, 12, 20, 13, 11, 17, 8, 14, 12, 10, 14, 8, 13, 8, 10, 13, 12, 14, 13, 12, 10, 11, 17, 6, 9, 19, 14, 11, 12, 15, 8, 10, 11, 11, 15, 12, 12, 7, 8, 10, 13, 8, 16, 16, 9, 18, 13, 14, 1, 9, 11, 11, 10, 13, 14, 14, 12, 10, 13, 10], maxlen=100)\n",
      "Episode 100\tAverage Score: 2.03\n",
      "Episode 200\tAverage Score: 4.64\n",
      "Episode 300\tAverage Score: 8.76\n",
      "Episode 400\tAverage Score: 11.81\n",
      "Episode 500\tAverage Score: 13.81\n",
      "Episode 600\tAverage Score: 15.31\n",
      "Episode 700\tAverage Score: 15.22\n",
      "Episode 800\tAverage Score: 16.67\n",
      "Episode 900\tAverage Score: 16.50\n",
      "Episode 1000\tAverage Score: 16.52\n",
      "\\Episodes horizon exceeded!\tAverage Score: 16.52\n",
      "Last scores batch:\n",
      "deque([14, 19, 18, 20, 21, 16, 13, 20, 20, 11, 20, 23, 19, 18, 12, 12, 19, 13, 21, 15, 18, 16, 2, 8, 12, 8, 14, 14, 11, 17, 14, 14, 23, 8, 23, 14, 15, 24, 13, 9, 13, 15, 19, 22, 25, 19, 17, 17, 16, 17, 13, 13, 20, 12, 19, 18, 11, 12, 23, 15, 19, 15, 19, 20, 18, 12, 15, 18, 22, 17, 22, 21, 19, 16, 14, 20, 20, 18, 12, 22, 14, 18, 13, 21, 20, 13, 16, 22, 13, 16, 21, 19, 12, 18, 21, 15, 18, 12, 22, 12], maxlen=100)\n",
      "Episode 100\tAverage Score: 0.25\n",
      "Episode 200\tAverage Score: 0.21\n",
      "Episode 300\tAverage Score: 0.24\n",
      "Episode 400\tAverage Score: 0.07\n",
      "Episode 500\tAverage Score: 0.10\n",
      "Episode 600\tAverage Score: -0.14\n",
      "Episode 700\tAverage Score: -0.10\n",
      "Episode 800\tAverage Score: -0.49\n",
      "Episode 900\tAverage Score: 0.04\n",
      "Episode 1000\tAverage Score: -0.16\n",
      "\\Episodes horizon exceeded!\tAverage Score: -0.16\n",
      "Last scores batch:\n",
      "deque([-3, -1, 1, 0, 0, -1, 0, 0, 0, 0, 0, 0, 1, 0, 1, 0, -2, 1, -1, 0, 1, -1, 1, 1, 0, 1, -1, 0, -1, 2, 0, 0, 0, 0, -1, 0, 0, 0, 0, -1, 1, -1, 1, -2, 1, 1, 0, -2, 0, -1, 0, 0, 0, -1, -3, 0, -3, 0, 1, 1, 1, -2, -1, -2, 0, 0, 0, -1, 1, 0, 0, 0, 0, 0, 0, 0, 0, 0, 1, 0, 0, 0, 1, -2, -1, -1, 0, 1, -2, 2, 0, 0, 0, 0, -2, 0, 3, 1, -1, -2], maxlen=100)\n",
      "Episode 100\tAverage Score: 5.79\n",
      "Episode 200\tAverage Score: 9.75\n",
      "Episode 300\tAverage Score: 13.74\n",
      "Episode 400\tAverage Score: 15.49\n",
      "Episode 500\tAverage Score: 16.47\n",
      "Episode 600\tAverage Score: 16.35\n",
      "Episode 700\tAverage Score: 16.68\n",
      "Episode 800\tAverage Score: 17.30\n",
      "Episode 900\tAverage Score: 16.90\n",
      "Episode 1000\tAverage Score: 16.23\n",
      "\\Episodes horizon exceeded!\tAverage Score: 16.23\n",
      "Last scores batch:\n",
      "deque([18, 17, 12, 13, 20, 17, 18, 11, 21, 21, 13, 22, 15, 24, 16, 18, 18, 15, 10, 15, 22, 16, 18, 18, 18, 13, 18, 19, 12, 15, 15, 16, 14, 23, 21, 6, 16, 16, 22, 16, 20, 1, 17, 18, 19, 13, 14, 15, 19, 23, 18, 13, 18, 16, 11, 24, 14, 15, 20, 16, 12, 14, 18, 20, 22, 16, 16, 14, 18, 21, 14, 6, 20, 15, 19, 18, 17, 10, 14, 15, 15, 18, 13, 23, 18, 21, 16, 20, 1, 12, 9, 10, 19, 16, 12, 10, 20, 23, 19, 17], maxlen=100)\n",
      "Episode 100\tAverage Score: 1.47\n",
      "Episode 200\tAverage Score: 6.65\n",
      "Episode 300\tAverage Score: 10.76\n",
      "Episode 400\tAverage Score: 13.83\n",
      "Episode 500\tAverage Score: 16.23\n",
      "Episode 600\tAverage Score: 16.48\n",
      "Episode 700\tAverage Score: 16.46\n",
      "Episode 800\tAverage Score: 15.96\n",
      "Episode 900\tAverage Score: 17.39\n",
      "Episode 1000\tAverage Score: 17.10\n",
      "\\Episodes horizon exceeded!\tAverage Score: 17.10\n",
      "Last scores batch:\n",
      "deque([13, 21, 26, 18, 17, 19, 21, 14, 19, 21, 18, 16, 24, 19, 17, 13, 23, 23, 19, 14, 19, 19, 14, 20, 16, 9, 22, 18, 0, 8, 17, 12, 11, 17, 17, 19, 16, 14, 16, 19, 27, 16, 20, 17, 24, 17, 14, 14, 17, 18, 17, 18, 19, 19, 17, 18, 21, 16, 25, 16, 16, 18, 18, 19, 19, 14, 15, 19, 12, 24, 18, 6, 12, 21, 19, 13, 24, 17, 19, 15, 19, 16, 26, 17, 15, 20, 18, 18, 21, 15, 6, 5, 17, 12, 18, 15, 15, 20, 14, 17], maxlen=100)\n",
      "Episode 100\tAverage Score: -0.03\n",
      "Episode 200\tAverage Score: 0.22\n",
      "Episode 300\tAverage Score: 0.44\n",
      "Episode 400\tAverage Score: 0.26\n",
      "Episode 500\tAverage Score: 0.36\n",
      "Episode 600\tAverage Score: 0.31\n",
      "Episode 700\tAverage Score: 0.30\n",
      "Episode 800\tAverage Score: 0.33\n",
      "Episode 900\tAverage Score: 0.26\n",
      "Episode 1000\tAverage Score: 0.33\n",
      "\\Episodes horizon exceeded!\tAverage Score: 0.33\n",
      "Last scores batch:\n",
      "deque([1, -4, 1, 1, 3, 2, 0, -1, 0, 0, 0, 2, 1, 2, 1, -1, -2, 1, 0, 0, 0, 0, -1, 2, 1, 0, 0, 0, 0, 0, 0, 0, 0, 0, 0, 0, 0, 0, 1, -1, 1, 0, 0, -1, 0, -1, 1, 1, 0, 1, 2, 1, 0, 0, 0, 0, 0, 1, 1, -1, 0, 2, 0, 0, 1, 0, 0, 4, 1, 1, 2, 0, 0, -1, 0, 1, 0, 2, -1, 0, 1, 1, 0, 1, 0, 0, 0, 0, 0, 0, 0, 0, 1, 0, 0, 0, 1, 0, 0, 1], maxlen=100)\n",
      "Episode 100\tAverage Score: 2.63\n",
      "Episode 200\tAverage Score: 10.17\n",
      "Episode 300\tAverage Score: 12.23\n",
      "Episode 400\tAverage Score: 11.82\n",
      "Episode 500\tAverage Score: 14.29\n",
      "Episode 600\tAverage Score: 13.80\n",
      "Episode 700\tAverage Score: 13.82\n",
      "Episode 800\tAverage Score: 13.30\n",
      "Episode 900\tAverage Score: 12.37\n",
      "Episode 1000\tAverage Score: 13.60\n",
      "\\Episodes horizon exceeded!\tAverage Score: 13.60\n",
      "Last scores batch:\n",
      "deque([16, 13, 11, 10, 15, 11, 15, 11, 16, 11, 12, 14, 14, 17, 15, 17, 10, 13, 16, 16, 15, 15, 17, 17, 17, 20, 13, 11, 14, 8, 19, 6, 11, 11, 20, 12, 10, 19, 10, 17, 17, 18, 16, 13, 16, 9, 9, 12, 13, 13, 15, 11, 11, 14, 16, 9, 8, 12, 12, 13, 15, 12, 14, 16, 9, 18, 12, 11, 6, 12, 17, 14, 11, 12, 16, 14, 11, 8, 14, 19, 15, 12, 17, 13, 14, 14, 11, 11, 21, 9, 12, 16, 13, 13, 15, 17, 13, 17, 13, 21], maxlen=100)\n",
      "Episode 100\tAverage Score: 0.75\n",
      "Episode 200\tAverage Score: 4.56\n",
      "Episode 300\tAverage Score: 6.47\n",
      "Episode 400\tAverage Score: 10.04\n",
      "Episode 500\tAverage Score: 14.58\n",
      "Episode 600\tAverage Score: 15.44\n",
      "Episode 700\tAverage Score: 15.36\n",
      "Episode 800\tAverage Score: 15.81\n",
      "Episode 900\tAverage Score: 16.68\n",
      "Episode 1000\tAverage Score: 16.85\n",
      "\\Episodes horizon exceeded!\tAverage Score: 16.85\n",
      "Last scores batch:\n",
      "deque([17, 17, 3, 16, 15, 21, 20, 14, 17, 15, 17, 18, 19, 17, 16, 20, 19, 22, 14, 18, 16, 17, 13, 19, 19, 15, 15, 11, 21, 15, 17, 20, 18, 22, 20, 20, 15, 15, 0, 21, 16, 9, 17, 20, 14, 18, 21, 14, 18, 21, 15, 20, 23, 19, 22, 23, 13, 15, 15, 20, 20, 19, 25, 20, 13, 19, 21, 7, 12, 19, 17, 21, 21, 12, 13, 14, 11, 20, 14, 23, 21, 16, 19, 21, 16, 16, 11, 14, 18, 16, 18, 3, 17, 20, 17, 18, 19, 15, 16, 16], maxlen=100)\n",
      "Episode 100\tAverage Score: -0.13\n",
      "Episode 200\tAverage Score: 0.04\n",
      "Episode 300\tAverage Score: -0.02\n",
      "Episode 400\tAverage Score: -0.01\n",
      "Episode 500\tAverage Score: 0.11\n",
      "Episode 600\tAverage Score: 2.22\n",
      "Episode 700\tAverage Score: 6.93\n",
      "Episode 800\tAverage Score: 10.82\n",
      "Episode 900\tAverage Score: 11.55\n",
      "Episode 1000\tAverage Score: 12.59\n",
      "\\Episodes horizon exceeded!\tAverage Score: 12.59\n",
      "Last scores batch:\n",
      "deque([19, 9, 15, 9, 18, 9, 10, 13, 20, 4, 11, 14, 15, 16, 15, 10, 14, 14, 14, 16, 16, 11, 13, 14, 16, 11, 10, 3, 15, 14, 14, 18, 16, 8, 4, 10, 17, 17, 8, 6, 14, 15, 15, 8, 8, 16, 18, 10, 10, 9, 18, 16, 14, 12, 7, 10, 15, 6, 8, 9, 7, 20, 5, 17, 13, 14, 7, 11, 15, 17, 13, 20, 15, 10, 15, 9, 6, 14, 9, 18, 7, 16, 5, 14, 8, 14, 15, 9, 12, 15, 17, 13, 11, 20, 12, 13, 12, 15, 16, 16], maxlen=100)\n",
      "Episode 100\tAverage Score: -0.07\n",
      "Episode 200\tAverage Score: 0.05\n",
      "Episode 300\tAverage Score: -0.10\n",
      "Episode 400\tAverage Score: 0.00\n",
      "Episode 500\tAverage Score: -0.20\n",
      "Episode 600\tAverage Score: -0.06\n",
      "Episode 700\tAverage Score: -0.12\n",
      "Episode 800\tAverage Score: -0.06\n",
      "Episode 900\tAverage Score: -0.08\n",
      "Episode 1000\tAverage Score: -0.42\n",
      "\\Episodes horizon exceeded!\tAverage Score: -0.42\n",
      "Last scores batch:\n",
      "deque([-5, 2, -2, 0, 1, -6, 0, -2, -6, -2, 1, 1, 0, 0, -1, -2, -4, -2, -1, -1, -4, 2, 2, -1, -1, -4, 1, -2, 0, -1, -3, 1, 1, 0, -1, -2, 0, 1, 1, 1, 0, 0, 0, 0, -4, 1, -1, 0, 0, 3, -2, 0, 0, 0, 0, -1, -1, 1, 0, 0, 0, 0, 0, 1, 0, 0, 3, 0, 0, -1, -2, -1, 0, -2, 1, -1, -2, 1, -2, 0, 0, 3, -2, 0, -1, 3, 0, -1, -1, -1, -1, 0, -1, 2, 0, -1, 2, 2, 1, 1], maxlen=100)\n"
     ]
    }
   ],
   "source": [
    "# Evaluating the learning Curve:\n",
    "n_learning_process = 20\n",
    "learning_data = []\n",
    "\n",
    "# env = UnityEnvironment(file_name=\"Banana_Windows_x86_64/Banana.exe\")\n",
    "\n",
    "for i in range(n_learning_process):\n",
    "    brain_name = env.brain_names[0]\n",
    "    brain = env.brains[brain_name]\n",
    "\n",
    "    env_info = env.reset(train_mode=True)[brain_name]\n",
    "    action_size = brain.vector_action_space_size\n",
    "    state_size = len(env_info.vector_observations[0])\n",
    "\n",
    "    agent = Agent(state_size, action_size, seed=2*i)\n",
    "    learning_curve, _ = agent_learning(env, agent, 999)\n",
    "    learning_data.append(learning_curve)\n",
    "\n",
    "env.close()"
   ]
  },
  {
   "cell_type": "code",
   "execution_count": 14,
   "metadata": {},
   "outputs": [],
   "source": [
    "with open('learning_dynamics.txt', 'wb') as f:\n",
    "    pickle.dump(learning_data,f)"
   ]
  },
  {
   "cell_type": "code",
   "execution_count": 15,
   "metadata": {},
   "outputs": [],
   "source": [
    "# É com os dados carregados que devo trabalhar, pra evitar perda de tempo se quebrar o kernel novamente\n",
    "\n",
    "with open(\"learning_dynamics.txt\", \"rb\") as f:\n",
    "    loaded_data = pickle.load(f)\n"
   ]
  },
  {
   "cell_type": "code",
   "execution_count": 17,
   "metadata": {},
   "outputs": [
    {
     "data": {
      "text/plain": [
       "Text(0.5, 1.0, 'Learning curve: Double DQN with a limit of 1000 episodes')"
      ]
     },
     "execution_count": 17,
     "metadata": {},
     "output_type": "execute_result"
    },
    {
     "data": {
      "image/svg+xml": "<?xml version=\"1.0\" encoding=\"utf-8\" standalone=\"no\"?>\r\n<!DOCTYPE svg PUBLIC \"-//W3C//DTD SVG 1.1//EN\"\r\n  \"http://www.w3.org/Graphics/SVG/1.1/DTD/svg11.dtd\">\r\n<!-- Created with matplotlib (https://matplotlib.org/) -->\r\n<svg height=\"343.975937pt\" version=\"1.1\" viewBox=\"0 0 614.459687 343.975937\" width=\"614.459687pt\" xmlns=\"http://www.w3.org/2000/svg\" xmlns:xlink=\"http://www.w3.org/1999/xlink\">\r\n <metadata>\r\n  <rdf:RDF xmlns:cc=\"http://creativecommons.org/ns#\" xmlns:dc=\"http://purl.org/dc/elements/1.1/\" xmlns:rdf=\"http://www.w3.org/1999/02/22-rdf-syntax-ns#\">\r\n   <cc:Work>\r\n    <dc:type rdf:resource=\"http://purl.org/dc/dcmitype/StillImage\"/>\r\n    <dc:date>2023-02-22T08:34:33.880740</dc:date>\r\n    <dc:format>image/svg+xml</dc:format>\r\n    <dc:creator>\r\n     <cc:Agent>\r\n      <dc:title>Matplotlib v3.3.4, https://matplotlib.org/</dc:title>\r\n     </cc:Agent>\r\n    </dc:creator>\r\n   </cc:Work>\r\n  </rdf:RDF>\r\n </metadata>\r\n <defs>\r\n  <style type=\"text/css\">*{stroke-linecap:butt;stroke-linejoin:round;}</style>\r\n </defs>\r\n <g id=\"figure_1\">\r\n  <g id=\"patch_1\">\r\n   <path d=\"M 0 343.975937 \r\nL 614.459687 343.975937 \r\nL 614.459687 0 \r\nL 0 0 \r\nz\r\n\" style=\"fill:none;\"/>\r\n  </g>\r\n  <g id=\"axes_1\">\r\n   <g id=\"patch_2\">\r\n    <path d=\"M 49.259688 298.677188 \r\nL 607.259688 298.677188 \r\nL 607.259688 26.877187 \r\nL 49.259688 26.877187 \r\nz\r\n\" style=\"fill:#ffffff;\"/>\r\n   </g>\r\n   <g id=\"matplotlib.axis_1\">\r\n    <g id=\"xtick_1\">\r\n     <g id=\"line2d_1\">\r\n      <defs>\r\n       <path d=\"M 0 0 \r\nL 0 3.5 \r\n\" id=\"md246cb24d6\" style=\"stroke:#000000;stroke-width:0.8;\"/>\r\n      </defs>\r\n      <g>\r\n       <use style=\"stroke:#000000;stroke-width:0.8;\" x=\"74.623324\" xlink:href=\"#md246cb24d6\" y=\"298.677188\"/>\r\n      </g>\r\n     </g>\r\n     <g id=\"text_1\">\r\n      <!-- 0 -->\r\n      <g transform=\"translate(70.487699 315.555156)scale(0.13 -0.13)\">\r\n       <defs>\r\n        <path d=\"M 31.78125 66.40625 \r\nQ 24.171875 66.40625 20.328125 58.90625 \r\nQ 16.5 51.421875 16.5 36.375 \r\nQ 16.5 21.390625 20.328125 13.890625 \r\nQ 24.171875 6.390625 31.78125 6.390625 \r\nQ 39.453125 6.390625 43.28125 13.890625 \r\nQ 47.125 21.390625 47.125 36.375 \r\nQ 47.125 51.421875 43.28125 58.90625 \r\nQ 39.453125 66.40625 31.78125 66.40625 \r\nz\r\nM 31.78125 74.21875 \r\nQ 44.046875 74.21875 50.515625 64.515625 \r\nQ 56.984375 54.828125 56.984375 36.375 \r\nQ 56.984375 17.96875 50.515625 8.265625 \r\nQ 44.046875 -1.421875 31.78125 -1.421875 \r\nQ 19.53125 -1.421875 13.0625 8.265625 \r\nQ 6.59375 17.96875 6.59375 36.375 \r\nQ 6.59375 54.828125 13.0625 64.515625 \r\nQ 19.53125 74.21875 31.78125 74.21875 \r\nz\r\n\" id=\"DejaVuSans-48\"/>\r\n       </defs>\r\n       <use xlink:href=\"#DejaVuSans-48\"/>\r\n      </g>\r\n     </g>\r\n    </g>\r\n    <g id=\"xtick_2\">\r\n     <g id=\"line2d_2\">\r\n      <g>\r\n       <use style=\"stroke:#000000;stroke-width:0.8;\" x=\"176.179425\" xlink:href=\"#md246cb24d6\" y=\"298.677188\"/>\r\n      </g>\r\n     </g>\r\n     <g id=\"text_2\">\r\n      <!-- 200 -->\r\n      <g transform=\"translate(163.77255 315.555156)scale(0.13 -0.13)\">\r\n       <defs>\r\n        <path d=\"M 19.1875 8.296875 \r\nL 53.609375 8.296875 \r\nL 53.609375 0 \r\nL 7.328125 0 \r\nL 7.328125 8.296875 \r\nQ 12.9375 14.109375 22.625 23.890625 \r\nQ 32.328125 33.6875 34.8125 36.53125 \r\nQ 39.546875 41.84375 41.421875 45.53125 \r\nQ 43.3125 49.21875 43.3125 52.78125 \r\nQ 43.3125 58.59375 39.234375 62.25 \r\nQ 35.15625 65.921875 28.609375 65.921875 \r\nQ 23.96875 65.921875 18.8125 64.3125 \r\nQ 13.671875 62.703125 7.8125 59.421875 \r\nL 7.8125 69.390625 \r\nQ 13.765625 71.78125 18.9375 73 \r\nQ 24.125 74.21875 28.421875 74.21875 \r\nQ 39.75 74.21875 46.484375 68.546875 \r\nQ 53.21875 62.890625 53.21875 53.421875 \r\nQ 53.21875 48.921875 51.53125 44.890625 \r\nQ 49.859375 40.875 45.40625 35.40625 \r\nQ 44.1875 33.984375 37.640625 27.21875 \r\nQ 31.109375 20.453125 19.1875 8.296875 \r\nz\r\n\" id=\"DejaVuSans-50\"/>\r\n       </defs>\r\n       <use xlink:href=\"#DejaVuSans-50\"/>\r\n       <use x=\"63.623047\" xlink:href=\"#DejaVuSans-48\"/>\r\n       <use x=\"127.246094\" xlink:href=\"#DejaVuSans-48\"/>\r\n      </g>\r\n     </g>\r\n    </g>\r\n    <g id=\"xtick_3\">\r\n     <g id=\"line2d_3\">\r\n      <g>\r\n       <use style=\"stroke:#000000;stroke-width:0.8;\" x=\"277.735527\" xlink:href=\"#md246cb24d6\" y=\"298.677188\"/>\r\n      </g>\r\n     </g>\r\n     <g id=\"text_3\">\r\n      <!-- 400 -->\r\n      <g transform=\"translate(265.328652 315.555156)scale(0.13 -0.13)\">\r\n       <defs>\r\n        <path d=\"M 37.796875 64.3125 \r\nL 12.890625 25.390625 \r\nL 37.796875 25.390625 \r\nz\r\nM 35.203125 72.90625 \r\nL 47.609375 72.90625 \r\nL 47.609375 25.390625 \r\nL 58.015625 25.390625 \r\nL 58.015625 17.1875 \r\nL 47.609375 17.1875 \r\nL 47.609375 0 \r\nL 37.796875 0 \r\nL 37.796875 17.1875 \r\nL 4.890625 17.1875 \r\nL 4.890625 26.703125 \r\nz\r\n\" id=\"DejaVuSans-52\"/>\r\n       </defs>\r\n       <use xlink:href=\"#DejaVuSans-52\"/>\r\n       <use x=\"63.623047\" xlink:href=\"#DejaVuSans-48\"/>\r\n       <use x=\"127.246094\" xlink:href=\"#DejaVuSans-48\"/>\r\n      </g>\r\n     </g>\r\n    </g>\r\n    <g id=\"xtick_4\">\r\n     <g id=\"line2d_4\">\r\n      <g>\r\n       <use style=\"stroke:#000000;stroke-width:0.8;\" x=\"379.291629\" xlink:href=\"#md246cb24d6\" y=\"298.677188\"/>\r\n      </g>\r\n     </g>\r\n     <g id=\"text_4\">\r\n      <!-- 600 -->\r\n      <g transform=\"translate(366.884754 315.555156)scale(0.13 -0.13)\">\r\n       <defs>\r\n        <path d=\"M 33.015625 40.375 \r\nQ 26.375 40.375 22.484375 35.828125 \r\nQ 18.609375 31.296875 18.609375 23.390625 \r\nQ 18.609375 15.53125 22.484375 10.953125 \r\nQ 26.375 6.390625 33.015625 6.390625 \r\nQ 39.65625 6.390625 43.53125 10.953125 \r\nQ 47.40625 15.53125 47.40625 23.390625 \r\nQ 47.40625 31.296875 43.53125 35.828125 \r\nQ 39.65625 40.375 33.015625 40.375 \r\nz\r\nM 52.59375 71.296875 \r\nL 52.59375 62.3125 \r\nQ 48.875 64.0625 45.09375 64.984375 \r\nQ 41.3125 65.921875 37.59375 65.921875 \r\nQ 27.828125 65.921875 22.671875 59.328125 \r\nQ 17.53125 52.734375 16.796875 39.40625 \r\nQ 19.671875 43.65625 24.015625 45.921875 \r\nQ 28.375 48.1875 33.59375 48.1875 \r\nQ 44.578125 48.1875 50.953125 41.515625 \r\nQ 57.328125 34.859375 57.328125 23.390625 \r\nQ 57.328125 12.15625 50.6875 5.359375 \r\nQ 44.046875 -1.421875 33.015625 -1.421875 \r\nQ 20.359375 -1.421875 13.671875 8.265625 \r\nQ 6.984375 17.96875 6.984375 36.375 \r\nQ 6.984375 53.65625 15.1875 63.9375 \r\nQ 23.390625 74.21875 37.203125 74.21875 \r\nQ 40.921875 74.21875 44.703125 73.484375 \r\nQ 48.484375 72.75 52.59375 71.296875 \r\nz\r\n\" id=\"DejaVuSans-54\"/>\r\n       </defs>\r\n       <use xlink:href=\"#DejaVuSans-54\"/>\r\n       <use x=\"63.623047\" xlink:href=\"#DejaVuSans-48\"/>\r\n       <use x=\"127.246094\" xlink:href=\"#DejaVuSans-48\"/>\r\n      </g>\r\n     </g>\r\n    </g>\r\n    <g id=\"xtick_5\">\r\n     <g id=\"line2d_5\">\r\n      <g>\r\n       <use style=\"stroke:#000000;stroke-width:0.8;\" x=\"480.84773\" xlink:href=\"#md246cb24d6\" y=\"298.677188\"/>\r\n      </g>\r\n     </g>\r\n     <g id=\"text_5\">\r\n      <!-- 800 -->\r\n      <g transform=\"translate(468.440855 315.555156)scale(0.13 -0.13)\">\r\n       <defs>\r\n        <path d=\"M 31.78125 34.625 \r\nQ 24.75 34.625 20.71875 30.859375 \r\nQ 16.703125 27.09375 16.703125 20.515625 \r\nQ 16.703125 13.921875 20.71875 10.15625 \r\nQ 24.75 6.390625 31.78125 6.390625 \r\nQ 38.8125 6.390625 42.859375 10.171875 \r\nQ 46.921875 13.96875 46.921875 20.515625 \r\nQ 46.921875 27.09375 42.890625 30.859375 \r\nQ 38.875 34.625 31.78125 34.625 \r\nz\r\nM 21.921875 38.8125 \r\nQ 15.578125 40.375 12.03125 44.71875 \r\nQ 8.5 49.078125 8.5 55.328125 \r\nQ 8.5 64.0625 14.71875 69.140625 \r\nQ 20.953125 74.21875 31.78125 74.21875 \r\nQ 42.671875 74.21875 48.875 69.140625 \r\nQ 55.078125 64.0625 55.078125 55.328125 \r\nQ 55.078125 49.078125 51.53125 44.71875 \r\nQ 48 40.375 41.703125 38.8125 \r\nQ 48.828125 37.15625 52.796875 32.3125 \r\nQ 56.78125 27.484375 56.78125 20.515625 \r\nQ 56.78125 9.90625 50.3125 4.234375 \r\nQ 43.84375 -1.421875 31.78125 -1.421875 \r\nQ 19.734375 -1.421875 13.25 4.234375 \r\nQ 6.78125 9.90625 6.78125 20.515625 \r\nQ 6.78125 27.484375 10.78125 32.3125 \r\nQ 14.796875 37.15625 21.921875 38.8125 \r\nz\r\nM 18.3125 54.390625 \r\nQ 18.3125 48.734375 21.84375 45.5625 \r\nQ 25.390625 42.390625 31.78125 42.390625 \r\nQ 38.140625 42.390625 41.71875 45.5625 \r\nQ 45.3125 48.734375 45.3125 54.390625 \r\nQ 45.3125 60.0625 41.71875 63.234375 \r\nQ 38.140625 66.40625 31.78125 66.40625 \r\nQ 25.390625 66.40625 21.84375 63.234375 \r\nQ 18.3125 60.0625 18.3125 54.390625 \r\nz\r\n\" id=\"DejaVuSans-56\"/>\r\n       </defs>\r\n       <use xlink:href=\"#DejaVuSans-56\"/>\r\n       <use x=\"63.623047\" xlink:href=\"#DejaVuSans-48\"/>\r\n       <use x=\"127.246094\" xlink:href=\"#DejaVuSans-48\"/>\r\n      </g>\r\n     </g>\r\n    </g>\r\n    <g id=\"xtick_6\">\r\n     <g id=\"line2d_6\">\r\n      <g>\r\n       <use style=\"stroke:#000000;stroke-width:0.8;\" x=\"582.403832\" xlink:href=\"#md246cb24d6\" y=\"298.677188\"/>\r\n      </g>\r\n     </g>\r\n     <g id=\"text_6\">\r\n      <!-- 1000 -->\r\n      <g transform=\"translate(565.861332 315.555156)scale(0.13 -0.13)\">\r\n       <defs>\r\n        <path d=\"M 12.40625 8.296875 \r\nL 28.515625 8.296875 \r\nL 28.515625 63.921875 \r\nL 10.984375 60.40625 \r\nL 10.984375 69.390625 \r\nL 28.421875 72.90625 \r\nL 38.28125 72.90625 \r\nL 38.28125 8.296875 \r\nL 54.390625 8.296875 \r\nL 54.390625 0 \r\nL 12.40625 0 \r\nz\r\n\" id=\"DejaVuSans-49\"/>\r\n       </defs>\r\n       <use xlink:href=\"#DejaVuSans-49\"/>\r\n       <use x=\"63.623047\" xlink:href=\"#DejaVuSans-48\"/>\r\n       <use x=\"127.246094\" xlink:href=\"#DejaVuSans-48\"/>\r\n       <use x=\"190.869141\" xlink:href=\"#DejaVuSans-48\"/>\r\n      </g>\r\n     </g>\r\n    </g>\r\n    <g id=\"text_7\">\r\n     <!-- Episodes -->\r\n     <g transform=\"translate(294.896406 333.656406)scale(0.15 -0.15)\">\r\n      <defs>\r\n       <path d=\"M 9.8125 72.90625 \r\nL 55.90625 72.90625 \r\nL 55.90625 64.59375 \r\nL 19.671875 64.59375 \r\nL 19.671875 43.015625 \r\nL 54.390625 43.015625 \r\nL 54.390625 34.71875 \r\nL 19.671875 34.71875 \r\nL 19.671875 8.296875 \r\nL 56.78125 8.296875 \r\nL 56.78125 0 \r\nL 9.8125 0 \r\nz\r\n\" id=\"DejaVuSans-69\"/>\r\n       <path d=\"M 18.109375 8.203125 \r\nL 18.109375 -20.796875 \r\nL 9.078125 -20.796875 \r\nL 9.078125 54.6875 \r\nL 18.109375 54.6875 \r\nL 18.109375 46.390625 \r\nQ 20.953125 51.265625 25.265625 53.625 \r\nQ 29.59375 56 35.59375 56 \r\nQ 45.5625 56 51.78125 48.09375 \r\nQ 58.015625 40.1875 58.015625 27.296875 \r\nQ 58.015625 14.40625 51.78125 6.484375 \r\nQ 45.5625 -1.421875 35.59375 -1.421875 \r\nQ 29.59375 -1.421875 25.265625 0.953125 \r\nQ 20.953125 3.328125 18.109375 8.203125 \r\nz\r\nM 48.6875 27.296875 \r\nQ 48.6875 37.203125 44.609375 42.84375 \r\nQ 40.53125 48.484375 33.40625 48.484375 \r\nQ 26.265625 48.484375 22.1875 42.84375 \r\nQ 18.109375 37.203125 18.109375 27.296875 \r\nQ 18.109375 17.390625 22.1875 11.75 \r\nQ 26.265625 6.109375 33.40625 6.109375 \r\nQ 40.53125 6.109375 44.609375 11.75 \r\nQ 48.6875 17.390625 48.6875 27.296875 \r\nz\r\n\" id=\"DejaVuSans-112\"/>\r\n       <path d=\"M 9.421875 54.6875 \r\nL 18.40625 54.6875 \r\nL 18.40625 0 \r\nL 9.421875 0 \r\nz\r\nM 9.421875 75.984375 \r\nL 18.40625 75.984375 \r\nL 18.40625 64.59375 \r\nL 9.421875 64.59375 \r\nz\r\n\" id=\"DejaVuSans-105\"/>\r\n       <path d=\"M 44.28125 53.078125 \r\nL 44.28125 44.578125 \r\nQ 40.484375 46.53125 36.375 47.5 \r\nQ 32.28125 48.484375 27.875 48.484375 \r\nQ 21.1875 48.484375 17.84375 46.4375 \r\nQ 14.5 44.390625 14.5 40.28125 \r\nQ 14.5 37.15625 16.890625 35.375 \r\nQ 19.28125 33.59375 26.515625 31.984375 \r\nL 29.59375 31.296875 \r\nQ 39.15625 29.25 43.1875 25.515625 \r\nQ 47.21875 21.78125 47.21875 15.09375 \r\nQ 47.21875 7.46875 41.1875 3.015625 \r\nQ 35.15625 -1.421875 24.609375 -1.421875 \r\nQ 20.21875 -1.421875 15.453125 -0.5625 \r\nQ 10.6875 0.296875 5.421875 2 \r\nL 5.421875 11.28125 \r\nQ 10.40625 8.6875 15.234375 7.390625 \r\nQ 20.0625 6.109375 24.8125 6.109375 \r\nQ 31.15625 6.109375 34.5625 8.28125 \r\nQ 37.984375 10.453125 37.984375 14.40625 \r\nQ 37.984375 18.0625 35.515625 20.015625 \r\nQ 33.0625 21.96875 24.703125 23.78125 \r\nL 21.578125 24.515625 \r\nQ 13.234375 26.265625 9.515625 29.90625 \r\nQ 5.8125 33.546875 5.8125 39.890625 \r\nQ 5.8125 47.609375 11.28125 51.796875 \r\nQ 16.75 56 26.8125 56 \r\nQ 31.78125 56 36.171875 55.265625 \r\nQ 40.578125 54.546875 44.28125 53.078125 \r\nz\r\n\" id=\"DejaVuSans-115\"/>\r\n       <path d=\"M 30.609375 48.390625 \r\nQ 23.390625 48.390625 19.1875 42.75 \r\nQ 14.984375 37.109375 14.984375 27.296875 \r\nQ 14.984375 17.484375 19.15625 11.84375 \r\nQ 23.34375 6.203125 30.609375 6.203125 \r\nQ 37.796875 6.203125 41.984375 11.859375 \r\nQ 46.1875 17.53125 46.1875 27.296875 \r\nQ 46.1875 37.015625 41.984375 42.703125 \r\nQ 37.796875 48.390625 30.609375 48.390625 \r\nz\r\nM 30.609375 56 \r\nQ 42.328125 56 49.015625 48.375 \r\nQ 55.71875 40.765625 55.71875 27.296875 \r\nQ 55.71875 13.875 49.015625 6.21875 \r\nQ 42.328125 -1.421875 30.609375 -1.421875 \r\nQ 18.84375 -1.421875 12.171875 6.21875 \r\nQ 5.515625 13.875 5.515625 27.296875 \r\nQ 5.515625 40.765625 12.171875 48.375 \r\nQ 18.84375 56 30.609375 56 \r\nz\r\n\" id=\"DejaVuSans-111\"/>\r\n       <path d=\"M 45.40625 46.390625 \r\nL 45.40625 75.984375 \r\nL 54.390625 75.984375 \r\nL 54.390625 0 \r\nL 45.40625 0 \r\nL 45.40625 8.203125 \r\nQ 42.578125 3.328125 38.25 0.953125 \r\nQ 33.9375 -1.421875 27.875 -1.421875 \r\nQ 17.96875 -1.421875 11.734375 6.484375 \r\nQ 5.515625 14.40625 5.515625 27.296875 \r\nQ 5.515625 40.1875 11.734375 48.09375 \r\nQ 17.96875 56 27.875 56 \r\nQ 33.9375 56 38.25 53.625 \r\nQ 42.578125 51.265625 45.40625 46.390625 \r\nz\r\nM 14.796875 27.296875 \r\nQ 14.796875 17.390625 18.875 11.75 \r\nQ 22.953125 6.109375 30.078125 6.109375 \r\nQ 37.203125 6.109375 41.296875 11.75 \r\nQ 45.40625 17.390625 45.40625 27.296875 \r\nQ 45.40625 37.203125 41.296875 42.84375 \r\nQ 37.203125 48.484375 30.078125 48.484375 \r\nQ 22.953125 48.484375 18.875 42.84375 \r\nQ 14.796875 37.203125 14.796875 27.296875 \r\nz\r\n\" id=\"DejaVuSans-100\"/>\r\n       <path d=\"M 56.203125 29.59375 \r\nL 56.203125 25.203125 \r\nL 14.890625 25.203125 \r\nQ 15.484375 15.921875 20.484375 11.0625 \r\nQ 25.484375 6.203125 34.421875 6.203125 \r\nQ 39.59375 6.203125 44.453125 7.46875 \r\nQ 49.3125 8.734375 54.109375 11.28125 \r\nL 54.109375 2.78125 \r\nQ 49.265625 0.734375 44.1875 -0.34375 \r\nQ 39.109375 -1.421875 33.890625 -1.421875 \r\nQ 20.796875 -1.421875 13.15625 6.1875 \r\nQ 5.515625 13.8125 5.515625 26.8125 \r\nQ 5.515625 40.234375 12.765625 48.109375 \r\nQ 20.015625 56 32.328125 56 \r\nQ 43.359375 56 49.78125 48.890625 \r\nQ 56.203125 41.796875 56.203125 29.59375 \r\nz\r\nM 47.21875 32.234375 \r\nQ 47.125 39.59375 43.09375 43.984375 \r\nQ 39.0625 48.390625 32.421875 48.390625 \r\nQ 24.90625 48.390625 20.390625 44.140625 \r\nQ 15.875 39.890625 15.1875 32.171875 \r\nz\r\n\" id=\"DejaVuSans-101\"/>\r\n      </defs>\r\n      <use xlink:href=\"#DejaVuSans-69\"/>\r\n      <use x=\"63.183594\" xlink:href=\"#DejaVuSans-112\"/>\r\n      <use x=\"126.660156\" xlink:href=\"#DejaVuSans-105\"/>\r\n      <use x=\"154.443359\" xlink:href=\"#DejaVuSans-115\"/>\r\n      <use x=\"206.542969\" xlink:href=\"#DejaVuSans-111\"/>\r\n      <use x=\"267.724609\" xlink:href=\"#DejaVuSans-100\"/>\r\n      <use x=\"331.201172\" xlink:href=\"#DejaVuSans-101\"/>\r\n      <use x=\"392.724609\" xlink:href=\"#DejaVuSans-115\"/>\r\n     </g>\r\n    </g>\r\n   </g>\r\n   <g id=\"matplotlib.axis_2\">\r\n    <g id=\"ytick_1\">\r\n     <g id=\"line2d_7\">\r\n      <defs>\r\n       <path d=\"M 0 0 \r\nL -3.5 0 \r\n\" id=\"m34c7e5433e\" style=\"stroke:#000000;stroke-width:0.8;\"/>\r\n      </defs>\r\n      <g>\r\n       <use style=\"stroke:#000000;stroke-width:0.8;\" x=\"49.259688\" xlink:href=\"#m34c7e5433e\" y=\"274.22023\"/>\r\n      </g>\r\n     </g>\r\n     <g id=\"text_8\">\r\n      <!-- 0 -->\r\n      <g transform=\"translate(33.988438 279.159215)scale(0.13 -0.13)\">\r\n       <use xlink:href=\"#DejaVuSans-48\"/>\r\n      </g>\r\n     </g>\r\n    </g>\r\n    <g id=\"ytick_2\">\r\n     <g id=\"line2d_8\">\r\n      <g>\r\n       <use style=\"stroke:#000000;stroke-width:0.8;\" x=\"49.259688\" xlink:href=\"#m34c7e5433e\" y=\"233.878857\"/>\r\n      </g>\r\n     </g>\r\n     <g id=\"text_9\">\r\n      <!-- 2 -->\r\n      <g transform=\"translate(33.988438 238.817842)scale(0.13 -0.13)\">\r\n       <use xlink:href=\"#DejaVuSans-50\"/>\r\n      </g>\r\n     </g>\r\n    </g>\r\n    <g id=\"ytick_3\">\r\n     <g id=\"line2d_9\">\r\n      <g>\r\n       <use style=\"stroke:#000000;stroke-width:0.8;\" x=\"49.259688\" xlink:href=\"#m34c7e5433e\" y=\"193.537484\"/>\r\n      </g>\r\n     </g>\r\n     <g id=\"text_10\">\r\n      <!-- 4 -->\r\n      <g transform=\"translate(33.988438 198.476469)scale(0.13 -0.13)\">\r\n       <use xlink:href=\"#DejaVuSans-52\"/>\r\n      </g>\r\n     </g>\r\n    </g>\r\n    <g id=\"ytick_4\">\r\n     <g id=\"line2d_10\">\r\n      <g>\r\n       <use style=\"stroke:#000000;stroke-width:0.8;\" x=\"49.259688\" xlink:href=\"#m34c7e5433e\" y=\"153.196111\"/>\r\n      </g>\r\n     </g>\r\n     <g id=\"text_11\">\r\n      <!-- 6 -->\r\n      <g transform=\"translate(33.988438 158.135096)scale(0.13 -0.13)\">\r\n       <use xlink:href=\"#DejaVuSans-54\"/>\r\n      </g>\r\n     </g>\r\n    </g>\r\n    <g id=\"ytick_5\">\r\n     <g id=\"line2d_11\">\r\n      <g>\r\n       <use style=\"stroke:#000000;stroke-width:0.8;\" x=\"49.259688\" xlink:href=\"#m34c7e5433e\" y=\"112.854739\"/>\r\n      </g>\r\n     </g>\r\n     <g id=\"text_12\">\r\n      <!-- 8 -->\r\n      <g transform=\"translate(33.988438 117.793723)scale(0.13 -0.13)\">\r\n       <use xlink:href=\"#DejaVuSans-56\"/>\r\n      </g>\r\n     </g>\r\n    </g>\r\n    <g id=\"ytick_6\">\r\n     <g id=\"line2d_12\">\r\n      <g>\r\n       <use style=\"stroke:#000000;stroke-width:0.8;\" x=\"49.259688\" xlink:href=\"#m34c7e5433e\" y=\"72.513366\"/>\r\n      </g>\r\n     </g>\r\n     <g id=\"text_13\">\r\n      <!-- 10 -->\r\n      <g transform=\"translate(25.717188 77.45235)scale(0.13 -0.13)\">\r\n       <use xlink:href=\"#DejaVuSans-49\"/>\r\n       <use x=\"63.623047\" xlink:href=\"#DejaVuSans-48\"/>\r\n      </g>\r\n     </g>\r\n    </g>\r\n    <g id=\"ytick_7\">\r\n     <g id=\"line2d_13\">\r\n      <g>\r\n       <use style=\"stroke:#000000;stroke-width:0.8;\" x=\"49.259688\" xlink:href=\"#m34c7e5433e\" y=\"32.171993\"/>\r\n      </g>\r\n     </g>\r\n     <g id=\"text_14\">\r\n      <!-- 12 -->\r\n      <g transform=\"translate(25.717188 37.110977)scale(0.13 -0.13)\">\r\n       <use xlink:href=\"#DejaVuSans-49\"/>\r\n       <use x=\"63.623047\" xlink:href=\"#DejaVuSans-50\"/>\r\n      </g>\r\n     </g>\r\n    </g>\r\n    <g id=\"text_15\">\r\n     <!-- Score -->\r\n     <g transform=\"translate(18.597656 183.780703)rotate(-90)scale(0.15 -0.15)\">\r\n      <defs>\r\n       <path d=\"M 53.515625 70.515625 \r\nL 53.515625 60.890625 \r\nQ 47.90625 63.578125 42.921875 64.890625 \r\nQ 37.9375 66.21875 33.296875 66.21875 \r\nQ 25.25 66.21875 20.875 63.09375 \r\nQ 16.5 59.96875 16.5 54.203125 \r\nQ 16.5 49.359375 19.40625 46.890625 \r\nQ 22.3125 44.4375 30.421875 42.921875 \r\nL 36.375 41.703125 \r\nQ 47.40625 39.59375 52.65625 34.296875 \r\nQ 57.90625 29 57.90625 20.125 \r\nQ 57.90625 9.515625 50.796875 4.046875 \r\nQ 43.703125 -1.421875 29.984375 -1.421875 \r\nQ 24.8125 -1.421875 18.96875 -0.25 \r\nQ 13.140625 0.921875 6.890625 3.21875 \r\nL 6.890625 13.375 \r\nQ 12.890625 10.015625 18.65625 8.296875 \r\nQ 24.421875 6.59375 29.984375 6.59375 \r\nQ 38.421875 6.59375 43.015625 9.90625 \r\nQ 47.609375 13.234375 47.609375 19.390625 \r\nQ 47.609375 24.75 44.3125 27.78125 \r\nQ 41.015625 30.8125 33.5 32.328125 \r\nL 27.484375 33.5 \r\nQ 16.453125 35.6875 11.515625 40.375 \r\nQ 6.59375 45.0625 6.59375 53.421875 \r\nQ 6.59375 63.09375 13.40625 68.65625 \r\nQ 20.21875 74.21875 32.171875 74.21875 \r\nQ 37.3125 74.21875 42.625 73.28125 \r\nQ 47.953125 72.359375 53.515625 70.515625 \r\nz\r\n\" id=\"DejaVuSans-83\"/>\r\n       <path d=\"M 48.78125 52.59375 \r\nL 48.78125 44.1875 \r\nQ 44.96875 46.296875 41.140625 47.34375 \r\nQ 37.3125 48.390625 33.40625 48.390625 \r\nQ 24.65625 48.390625 19.8125 42.84375 \r\nQ 14.984375 37.3125 14.984375 27.296875 \r\nQ 14.984375 17.28125 19.8125 11.734375 \r\nQ 24.65625 6.203125 33.40625 6.203125 \r\nQ 37.3125 6.203125 41.140625 7.25 \r\nQ 44.96875 8.296875 48.78125 10.40625 \r\nL 48.78125 2.09375 \r\nQ 45.015625 0.34375 40.984375 -0.53125 \r\nQ 36.96875 -1.421875 32.421875 -1.421875 \r\nQ 20.0625 -1.421875 12.78125 6.34375 \r\nQ 5.515625 14.109375 5.515625 27.296875 \r\nQ 5.515625 40.671875 12.859375 48.328125 \r\nQ 20.21875 56 33.015625 56 \r\nQ 37.15625 56 41.109375 55.140625 \r\nQ 45.0625 54.296875 48.78125 52.59375 \r\nz\r\n\" id=\"DejaVuSans-99\"/>\r\n       <path d=\"M 41.109375 46.296875 \r\nQ 39.59375 47.171875 37.8125 47.578125 \r\nQ 36.03125 48 33.890625 48 \r\nQ 26.265625 48 22.1875 43.046875 \r\nQ 18.109375 38.09375 18.109375 28.8125 \r\nL 18.109375 0 \r\nL 9.078125 0 \r\nL 9.078125 54.6875 \r\nL 18.109375 54.6875 \r\nL 18.109375 46.1875 \r\nQ 20.953125 51.171875 25.484375 53.578125 \r\nQ 30.03125 56 36.53125 56 \r\nQ 37.453125 56 38.578125 55.875 \r\nQ 39.703125 55.765625 41.0625 55.515625 \r\nz\r\n\" id=\"DejaVuSans-114\"/>\r\n      </defs>\r\n      <use xlink:href=\"#DejaVuSans-83\"/>\r\n      <use x=\"63.476562\" xlink:href=\"#DejaVuSans-99\"/>\r\n      <use x=\"118.457031\" xlink:href=\"#DejaVuSans-111\"/>\r\n      <use x=\"179.638672\" xlink:href=\"#DejaVuSans-114\"/>\r\n      <use x=\"218.501953\" xlink:href=\"#DejaVuSans-101\"/>\r\n     </g>\r\n    </g>\r\n   </g>\r\n   <g id=\"line2d_14\">\r\n    <path clip-path=\"url(#pd10cfc2ab6)\" d=\"M 74.623324 284.305573 \r\nL 75.131104 282.288505 \r\nL 75.638885 286.322642 \r\nL 76.146665 264.134887 \r\nL 76.654446 271.194627 \r\nL 77.162226 276.237299 \r\nL 77.670007 276.237299 \r\nL 78.177787 274.22023 \r\nL 78.685568 265.143421 \r\nL 79.701129 277.245833 \r\nL 80.208909 268.169024 \r\nL 80.71669 263.126353 \r\nL 81.22447 277.245833 \r\nL 81.732251 271.194627 \r\nL 82.240031 271.194627 \r\nL 82.747812 268.169024 \r\nL 83.255592 272.203162 \r\nL 83.763373 263.126353 \r\nL 84.271154 262.117818 \r\nL 84.778934 264.134887 \r\nL 85.286715 270.186093 \r\nL 85.794495 274.22023 \r\nL 86.302276 271.194627 \r\nL 86.810056 271.194627 \r\nL 87.317837 275.228764 \r\nL 87.825617 274.22023 \r\nL 88.841178 253.041009 \r\nL 89.348959 273.211696 \r\nL 89.856739 267.16049 \r\nL 90.8723 265.143421 \r\nL 91.380081 265.143421 \r\nL 91.887861 258.083681 \r\nL 92.395642 262.117818 \r\nL 92.903422 251.023941 \r\nL 93.411203 268.169024 \r\nL 93.918983 271.194627 \r\nL 94.426764 265.143421 \r\nL 94.934544 262.117818 \r\nL 95.442325 265.143421 \r\nL 95.950105 257.075147 \r\nL 96.965666 259.092215 \r\nL 97.473447 257.075147 \r\nL 97.981227 259.092215 \r\nL 98.489008 263.126353 \r\nL 98.996788 253.041009 \r\nL 99.504569 259.092215 \r\nL 100.012349 251.023941 \r\nL 100.52013 264.134887 \r\nL 101.535691 260.10075 \r\nL 102.551252 250.015406 \r\nL 103.059032 250.015406 \r\nL 103.566813 262.117818 \r\nL 104.074593 249.006872 \r\nL 104.582374 256.066612 \r\nL 105.090154 268.169024 \r\nL 105.597935 273.211696 \r\nL 106.105715 252.032475 \r\nL 106.613496 247.998338 \r\nL 107.121276 245.981269 \r\nL 107.629057 249.006872 \r\nL 108.136837 247.998338 \r\nL 108.644618 255.058078 \r\nL 109.152398 240.938598 \r\nL 109.660179 251.023941 \r\nL 110.167959 233.878857 \r\nL 110.67574 225.810583 \r\nL 111.18352 239.930063 \r\nL 111.691301 240.938598 \r\nL 112.199081 242.955666 \r\nL 112.706862 230.853254 \r\nL 113.214642 253.041009 \r\nL 113.722423 235.895926 \r\nL 114.230203 250.015406 \r\nL 114.737984 243.9642 \r\nL 115.245764 240.938598 \r\nL 115.753545 236.90446 \r\nL 116.261326 239.930063 \r\nL 116.769106 218.750842 \r\nL 117.276887 243.9642 \r\nL 117.784667 227.827651 \r\nL 118.292448 244.972735 \r\nL 119.308009 235.895926 \r\nL 119.815789 245.981269 \r\nL 120.32357 234.887392 \r\nL 120.83135 236.90446 \r\nL 121.339131 223.793514 \r\nL 121.846911 229.84472 \r\nL 122.354692 219.759377 \r\nL 122.862472 222.78498 \r\nL 123.370253 250.015406 \r\nL 124.385814 223.793514 \r\nL 124.893594 239.930063 \r\nL 125.401375 241.947132 \r\nL 125.909155 237.912995 \r\nL 126.416936 240.938598 \r\nL 126.924716 240.938598 \r\nL 127.432497 236.90446 \r\nL 127.940277 253.041009 \r\nL 128.448058 220.767911 \r\nL 128.955838 225.810583 \r\nL 129.463619 250.015406 \r\nL 129.971399 237.912995 \r\nL 130.47918 218.750842 \r\nL 130.98696 232.870323 \r\nL 131.494741 228.836186 \r\nL 132.002521 217.742308 \r\nL 132.510302 213.708171 \r\nL 133.018082 219.759377 \r\nL 133.525863 235.895926 \r\nL 134.033643 222.78498 \r\nL 134.541424 235.895926 \r\nL 135.049204 226.819117 \r\nL 135.556985 226.819117 \r\nL 136.064765 225.810583 \r\nL 136.572546 223.793514 \r\nL 137.080326 218.750842 \r\nL 137.588107 221.776445 \r\nL 138.095887 213.708171 \r\nL 138.603668 211.691102 \r\nL 139.111448 208.665499 \r\nL 139.619229 206.648431 \r\nL 140.127009 239.930063 \r\nL 140.63479 215.725239 \r\nL 141.14257 207.656965 \r\nL 141.650351 232.870323 \r\nL 142.158131 215.725239 \r\nL 142.665912 243.9642 \r\nL 143.173692 200.597225 \r\nL 143.681473 220.767911 \r\nL 144.189253 202.614293 \r\nL 144.697034 222.78498 \r\nL 145.204814 227.827651 \r\nL 145.712595 211.691102 \r\nL 146.220375 207.656965 \r\nL 146.728156 196.563087 \r\nL 147.235936 232.870323 \r\nL 147.743717 234.887392 \r\nL 148.251497 208.665499 \r\nL 148.759278 222.78498 \r\nL 149.267059 217.742308 \r\nL 149.774839 207.656965 \r\nL 150.28262 229.84472 \r\nL 151.298181 193.537484 \r\nL 151.805961 211.691102 \r\nL 152.313742 215.725239 \r\nL 152.821522 240.938598 \r\nL 153.329303 211.691102 \r\nL 153.837083 212.699636 \r\nL 154.344864 209.674034 \r\nL 154.852644 218.750842 \r\nL 155.360425 219.759377 \r\nL 155.868205 182.443607 \r\nL 156.375986 210.682568 \r\nL 156.883766 210.682568 \r\nL 157.391547 199.58869 \r\nL 157.899327 217.742308 \r\nL 158.407108 209.674034 \r\nL 158.914888 206.648431 \r\nL 159.422669 196.563087 \r\nL 159.930449 190.511881 \r\nL 160.94601 225.810583 \r\nL 161.453791 215.725239 \r\nL 161.961571 212.699636 \r\nL 162.469352 201.605759 \r\nL 162.977132 194.546019 \r\nL 163.484913 201.605759 \r\nL 163.992693 201.605759 \r\nL 164.500474 178.40947 \r\nL 165.008254 197.571622 \r\nL 165.516035 211.691102 \r\nL 166.023815 176.392401 \r\nL 166.531596 189.503347 \r\nL 167.039376 189.503347 \r\nL 167.547157 207.656965 \r\nL 168.054937 198.580156 \r\nL 168.562718 193.537484 \r\nL 169.070498 190.511881 \r\nL 169.578279 228.836186 \r\nL 170.086059 214.716705 \r\nL 170.59384 183.452141 \r\nL 171.10162 174.375332 \r\nL 171.609401 189.503347 \r\nL 172.117181 186.477744 \r\nL 172.624962 206.648431 \r\nL 173.132742 188.494813 \r\nL 173.640523 212.699636 \r\nL 174.148303 204.631362 \r\nL 174.656084 172.358264 \r\nL 175.163864 178.40947 \r\nL 175.671645 209.674034 \r\nL 176.179425 202.614293 \r\nL 176.687206 182.443607 \r\nL 177.194986 181.435072 \r\nL 177.702767 196.563087 \r\nL 178.210547 217.742308 \r\nL 178.718328 186.477744 \r\nL 179.226108 209.674034 \r\nL 179.733889 175.383867 \r\nL 180.241669 190.511881 \r\nL 180.74945 211.691102 \r\nL 181.25723 199.58869 \r\nL 181.765011 174.375332 \r\nL 182.272792 186.477744 \r\nL 182.780572 221.776445 \r\nL 183.288353 206.648431 \r\nL 183.796133 177.400935 \r\nL 184.303914 215.725239 \r\nL 184.811694 188.494813 \r\nL 185.319475 194.546019 \r\nL 185.827255 196.563087 \r\nL 186.335036 188.494813 \r\nL 186.842816 190.511881 \r\nL 187.350597 174.375332 \r\nL 187.858377 183.452141 \r\nL 188.366158 165.298523 \r\nL 188.873938 195.554553 \r\nL 189.381719 170.341195 \r\nL 189.889499 192.52895 \r\nL 190.39728 159.247317 \r\nL 190.90506 179.418004 \r\nL 191.412841 163.281455 \r\nL 191.920621 180.426538 \r\nL 192.428402 176.392401 \r\nL 192.936182 183.452141 \r\nL 193.443963 173.366798 \r\nL 193.951743 194.546019 \r\nL 194.459524 192.52895 \r\nL 195.475085 153.196111 \r\nL 195.982865 179.418004 \r\nL 196.490646 182.443607 \r\nL 196.998426 206.648431 \r\nL 197.506207 171.349729 \r\nL 198.013987 170.341195 \r\nL 198.521768 152.187577 \r\nL 199.029548 164.289989 \r\nL 199.537329 163.281455 \r\nL 200.045109 174.375332 \r\nL 200.55289 171.349729 \r\nL 201.06067 169.332661 \r\nL 201.568451 155.21318 \r\nL 202.076231 159.247317 \r\nL 202.584012 183.452141 \r\nL 203.091792 148.15344 \r\nL 203.599573 172.358264 \r\nL 204.107353 160.255852 \r\nL 204.615134 164.289989 \r\nL 205.122914 148.15344 \r\nL 205.630695 159.247317 \r\nL 206.138475 177.400935 \r\nL 206.646256 158.238783 \r\nL 207.154036 165.298523 \r\nL 207.661817 162.27292 \r\nL 208.169597 160.255852 \r\nL 208.677378 168.324126 \r\nL 209.185158 150.170508 \r\nL 209.692939 181.435072 \r\nL 210.200719 155.21318 \r\nL 210.7085 179.418004 \r\nL 211.21628 142.102234 \r\nL 211.724061 162.27292 \r\nL 212.231841 172.358264 \r\nL 212.739622 165.298523 \r\nL 213.247402 174.375332 \r\nL 213.755183 178.40947 \r\nL 214.262964 151.179043 \r\nL 214.770744 159.247317 \r\nL 215.278525 182.443607 \r\nL 215.786305 156.221714 \r\nL 216.294086 153.196111 \r\nL 216.801866 144.119303 \r\nL 217.309647 170.341195 \r\nL 217.817427 166.307058 \r\nL 218.832988 185.46921 \r\nL 219.340769 161.264386 \r\nL 219.848549 162.27292 \r\nL 220.35633 167.315592 \r\nL 220.86411 148.15344 \r\nL 221.371891 168.324126 \r\nL 221.879671 161.264386 \r\nL 222.387452 141.0937 \r\nL 222.895232 135.042494 \r\nL 223.403013 147.144905 \r\nL 223.910793 139.076631 \r\nL 224.418574 139.076631 \r\nL 224.926354 146.136371 \r\nL 225.434135 164.289989 \r\nL 225.941915 172.358264 \r\nL 226.449696 149.161974 \r\nL 226.957476 157.230249 \r\nL 227.465257 181.435072 \r\nL 227.973037 169.332661 \r\nL 228.480818 135.042494 \r\nL 228.988598 151.179043 \r\nL 229.496379 173.366798 \r\nL 230.004159 140.085165 \r\nL 230.51194 166.307058 \r\nL 231.01972 173.366798 \r\nL 231.527501 169.332661 \r\nL 232.035281 160.255852 \r\nL 232.543062 172.358264 \r\nL 233.050842 156.221714 \r\nL 234.066403 137.059562 \r\nL 234.574184 128.991288 \r\nL 235.081964 160.255852 \r\nL 235.589745 150.170508 \r\nL 236.097525 181.435072 \r\nL 236.605306 193.537484 \r\nL 237.113086 158.238783 \r\nL 237.620867 157.230249 \r\nL 238.128647 184.460675 \r\nL 238.636428 155.21318 \r\nL 239.144208 133.025425 \r\nL 239.651989 154.204646 \r\nL 240.159769 138.068097 \r\nL 240.66755 146.136371 \r\nL 241.17533 142.102234 \r\nL 241.683111 165.298523 \r\nL 242.190891 156.221714 \r\nL 242.698672 139.076631 \r\nL 243.206452 156.221714 \r\nL 243.714233 182.443607 \r\nL 244.729794 137.059562 \r\nL 245.237574 157.230249 \r\nL 245.745355 154.204646 \r\nL 246.253135 139.076631 \r\nL 246.760916 139.076631 \r\nL 247.268697 143.110768 \r\nL 247.776477 155.21318 \r\nL 248.284258 134.033959 \r\nL 248.792038 149.161974 \r\nL 249.299819 104.786464 \r\nL 249.807599 133.025425 \r\nL 250.31538 182.443607 \r\nL 250.82316 125.965685 \r\nL 251.330941 144.119303 \r\nL 251.838721 137.059562 \r\nL 252.346502 143.110768 \r\nL 252.854282 163.281455 \r\nL 253.362063 129.999822 \r\nL 253.869843 179.418004 \r\nL 254.377624 148.15344 \r\nL 254.885404 127.982753 \r\nL 255.393185 138.068097 \r\nL 255.900965 176.392401 \r\nL 256.408746 124.95715 \r\nL 256.916526 176.392401 \r\nL 257.424307 150.170508 \r\nL 257.932087 173.366798 \r\nL 258.439868 146.136371 \r\nL 258.947648 134.033959 \r\nL 259.455429 136.051028 \r\nL 259.963209 129.999822 \r\nL 260.47099 146.136371 \r\nL 260.97877 140.085165 \r\nL 261.486551 147.144905 \r\nL 261.994331 136.051028 \r\nL 262.502112 129.999822 \r\nL 263.009892 149.161974 \r\nL 263.517673 144.119303 \r\nL 264.025453 154.204646 \r\nL 264.533234 118.905944 \r\nL 265.041014 141.0937 \r\nL 266.056575 125.965685 \r\nL 266.564356 126.974219 \r\nL 267.072136 101.760861 \r\nL 267.579917 135.042494 \r\nL 268.087697 129.999822 \r\nL 268.595478 128.991288 \r\nL 269.103258 102.769395 \r\nL 269.611039 144.119303 \r\nL 270.118819 116.888876 \r\nL 270.6266 107.812067 \r\nL 271.642161 124.95715 \r\nL 272.149941 124.95715 \r\nL 272.657722 109.829136 \r\nL 273.673283 136.051028 \r\nL 274.181063 127.982753 \r\nL 274.688844 115.880341 \r\nL 275.196624 129.999822 \r\nL 275.704405 140.085165 \r\nL 276.719966 140.085165 \r\nL 277.227746 132.016891 \r\nL 277.735527 145.127837 \r\nL 278.243307 111.846204 \r\nL 278.751088 116.888876 \r\nL 279.258868 117.89741 \r\nL 279.766649 111.846204 \r\nL 280.27443 149.161974 \r\nL 280.78221 154.204646 \r\nL 281.289991 128.991288 \r\nL 281.797771 119.914479 \r\nL 282.305552 124.95715 \r\nL 282.813332 124.95715 \r\nL 283.321113 133.025425 \r\nL 283.828893 106.803533 \r\nL 284.844454 125.965685 \r\nL 285.352235 111.846204 \r\nL 285.860015 132.016891 \r\nL 286.367796 125.965685 \r\nL 286.875576 104.786464 \r\nL 287.383357 93.692586 \r\nL 287.891137 126.974219 \r\nL 288.398918 108.820601 \r\nL 288.906698 116.888876 \r\nL 289.414479 121.931547 \r\nL 289.922259 140.085165 \r\nL 290.43004 107.812067 \r\nL 290.93782 108.820601 \r\nL 291.445601 108.820601 \r\nL 291.953381 115.880341 \r\nL 292.461162 83.607243 \r\nL 292.968942 109.829136 \r\nL 293.476723 118.905944 \r\nL 293.984503 117.89741 \r\nL 294.492284 113.863273 \r\nL 295.000064 134.033959 \r\nL 295.507845 137.059562 \r\nL 296.015625 109.829136 \r\nL 296.523406 139.076631 \r\nL 297.031186 129.999822 \r\nL 297.538967 103.77793 \r\nL 298.046747 127.982753 \r\nL 298.554528 106.803533 \r\nL 299.062308 135.042494 \r\nL 299.570089 111.846204 \r\nL 300.077869 110.83767 \r\nL 300.58565 104.786464 \r\nL 301.09343 94.701121 \r\nL 301.601211 129.999822 \r\nL 302.108991 119.914479 \r\nL 303.124552 90.666983 \r\nL 303.632333 149.161974 \r\nL 304.140113 113.863273 \r\nL 304.647894 91.675518 \r\nL 305.663455 113.863273 \r\nL 306.171235 112.854739 \r\nL 306.679016 115.880341 \r\nL 307.186796 127.982753 \r\nL 307.694577 118.905944 \r\nL 308.202357 93.692586 \r\nL 308.710138 116.888876 \r\nL 309.217918 108.820601 \r\nL 309.725699 129.999822 \r\nL 310.233479 112.854739 \r\nL 310.74126 108.820601 \r\nL 311.24904 121.931547 \r\nL 311.756821 121.931547 \r\nL 312.264602 114.871807 \r\nL 312.772382 117.89741 \r\nL 313.280163 97.726724 \r\nL 313.787943 108.820601 \r\nL 314.295724 136.051028 \r\nL 314.803504 105.794998 \r\nL 315.311285 104.786464 \r\nL 315.819065 100.752327 \r\nL 316.834626 131.008356 \r\nL 317.342407 125.965685 \r\nL 317.850187 135.042494 \r\nL 318.357968 84.615777 \r\nL 318.865748 117.89741 \r\nL 319.373529 119.914479 \r\nL 319.881309 119.914479 \r\nL 320.38909 109.829136 \r\nL 320.89687 114.871807 \r\nL 321.404651 125.965685 \r\nL 322.420212 76.547503 \r\nL 322.927992 123.948616 \r\nL 323.435773 93.692586 \r\nL 323.943553 118.905944 \r\nL 324.451334 90.666983 \r\nL 324.959114 123.948616 \r\nL 325.466895 89.658449 \r\nL 325.974675 85.624312 \r\nL 326.482456 104.786464 \r\nL 326.990236 112.854739 \r\nL 327.498017 90.666983 \r\nL 328.005797 96.718189 \r\nL 328.513578 113.863273 \r\nL 329.021358 120.923013 \r\nL 329.529139 93.692586 \r\nL 330.036919 106.803533 \r\nL 330.5447 113.863273 \r\nL 331.05248 104.786464 \r\nL 331.560261 127.982753 \r\nL 332.068041 104.786464 \r\nL 332.575822 123.948616 \r\nL 333.083602 110.83767 \r\nL 333.591383 113.863273 \r\nL 334.099163 117.89741 \r\nL 334.606944 98.735258 \r\nL 335.114724 91.675518 \r\nL 335.622505 107.812067 \r\nL 336.130285 104.786464 \r\nL 336.638066 108.820601 \r\nL 337.145846 84.615777 \r\nL 337.653627 129.999822 \r\nL 338.161407 90.666983 \r\nL 338.669188 89.658449 \r\nL 339.176968 79.573106 \r\nL 339.684749 118.905944 \r\nL 340.192529 98.735258 \r\nL 340.70031 92.684052 \r\nL 341.20809 132.016891 \r\nL 341.715871 99.743792 \r\nL 342.223651 110.83767 \r\nL 342.731432 104.786464 \r\nL 343.239212 131.008356 \r\nL 343.746993 128.991288 \r\nL 344.254773 106.803533 \r\nL 344.762554 116.888876 \r\nL 345.270335 103.77793 \r\nL 345.778115 114.871807 \r\nL 346.285896 99.743792 \r\nL 346.793676 92.684052 \r\nL 347.301457 114.871807 \r\nL 347.809237 100.752327 \r\nL 348.317018 114.871807 \r\nL 348.824798 101.760861 \r\nL 349.332579 123.948616 \r\nL 349.840359 113.863273 \r\nL 350.34814 117.89741 \r\nL 350.85592 140.085165 \r\nL 351.363701 110.83767 \r\nL 351.871481 97.726724 \r\nL 352.379262 89.658449 \r\nL 352.887042 85.624312 \r\nL 353.394823 89.658449 \r\nL 353.902603 95.709655 \r\nL 354.410384 109.829136 \r\nL 354.918164 95.709655 \r\nL 355.425945 77.556037 \r\nL 355.933725 137.059562 \r\nL 356.441506 103.77793 \r\nL 356.949286 134.033959 \r\nL 357.457067 81.590175 \r\nL 357.964847 89.658449 \r\nL 358.472628 99.743792 \r\nL 358.980408 126.974219 \r\nL 359.488189 120.923013 \r\nL 359.995969 92.684052 \r\nL 360.50375 136.051028 \r\nL 361.01153 95.709655 \r\nL 361.519311 104.786464 \r\nL 362.027091 108.820601 \r\nL 362.534872 94.701121 \r\nL 363.042652 139.076631 \r\nL 363.550433 99.743792 \r\nL 364.058213 99.743792 \r\nL 364.565994 76.547503 \r\nL 365.073774 80.58164 \r\nL 365.581555 77.556037 \r\nL 366.089335 84.615777 \r\nL 366.597116 94.701121 \r\nL 367.104896 98.735258 \r\nL 367.612677 77.556037 \r\nL 368.120457 93.692586 \r\nL 368.628238 96.718189 \r\nL 369.136018 85.624312 \r\nL 369.643799 71.504831 \r\nL 370.65936 110.83767 \r\nL 371.16714 90.666983 \r\nL 371.674921 96.718189 \r\nL 372.182701 108.820601 \r\nL 372.690482 87.64138 \r\nL 373.198262 88.649915 \r\nL 373.706043 124.95715 \r\nL 374.213823 88.649915 \r\nL 374.721604 97.726724 \r\nL 375.229384 133.025425 \r\nL 375.737165 108.820601 \r\nL 376.244945 111.846204 \r\nL 376.752726 93.692586 \r\nL 377.260507 105.794998 \r\nL 377.768287 101.760861 \r\nL 378.276068 44.274405 \r\nL 378.783848 105.794998 \r\nL 379.291629 106.803533 \r\nL 379.799409 96.718189 \r\nL 380.30719 95.709655 \r\nL 380.81497 120.923013 \r\nL 381.322751 100.752327 \r\nL 381.830531 98.735258 \r\nL 382.338312 123.948616 \r\nL 382.846092 93.692586 \r\nL 383.353873 133.025425 \r\nL 383.861653 99.743792 \r\nL 384.369434 121.931547 \r\nL 384.877214 87.64138 \r\nL 385.384995 81.590175 \r\nL 386.400556 96.718189 \r\nL 386.908336 89.658449 \r\nL 387.923897 114.871807 \r\nL 388.431678 109.829136 \r\nL 388.939458 87.64138 \r\nL 389.447239 114.871807 \r\nL 389.955019 93.692586 \r\nL 390.4628 104.786464 \r\nL 390.97058 83.607243 \r\nL 391.478361 74.530434 \r\nL 391.986141 106.803533 \r\nL 392.493922 103.77793 \r\nL 393.001702 72.513366 \r\nL 393.509483 127.982753 \r\nL 394.017263 80.58164 \r\nL 395.032824 70.496297 \r\nL 395.540605 83.607243 \r\nL 396.048385 101.760861 \r\nL 396.556166 101.760861 \r\nL 397.063946 94.701121 \r\nL 397.571727 124.95715 \r\nL 398.079507 127.982753 \r\nL 398.587288 87.64138 \r\nL 399.095068 109.829136 \r\nL 399.602849 88.649915 \r\nL 400.110629 111.846204 \r\nL 400.61841 92.684052 \r\nL 401.12619 89.658449 \r\nL 401.633971 92.684052 \r\nL 402.141751 74.530434 \r\nL 402.649532 116.888876 \r\nL 403.157312 99.743792 \r\nL 403.665093 129.999822 \r\nL 404.172873 98.735258 \r\nL 404.680654 87.64138 \r\nL 405.188434 65.453625 \r\nL 405.696215 88.649915 \r\nL 406.203995 92.684052 \r\nL 406.711776 98.735258 \r\nL 407.219556 100.752327 \r\nL 407.727337 87.64138 \r\nL 408.235117 91.675518 \r\nL 408.742898 79.573106 \r\nL 409.250678 89.658449 \r\nL 409.758459 90.666983 \r\nL 410.26624 116.888876 \r\nL 410.77402 91.675518 \r\nL 411.789581 103.77793 \r\nL 412.297362 88.649915 \r\nL 412.805142 93.692586 \r\nL 413.312923 65.453625 \r\nL 413.820703 66.46216 \r\nL 414.328484 93.692586 \r\nL 414.836264 84.615777 \r\nL 415.344045 83.607243 \r\nL 415.851825 74.530434 \r\nL 416.359606 82.598709 \r\nL 416.867386 72.513366 \r\nL 417.375167 76.547503 \r\nL 417.882947 103.77793 \r\nL 418.390728 75.538969 \r\nL 418.898508 76.547503 \r\nL 419.406289 101.760861 \r\nL 419.914069 58.393885 \r\nL 420.42185 87.64138 \r\nL 420.92963 82.598709 \r\nL 421.437411 83.607243 \r\nL 421.945191 97.726724 \r\nL 422.452972 72.513366 \r\nL 422.960752 80.58164 \r\nL 423.468533 68.479228 \r\nL 423.976313 75.538969 \r\nL 424.484094 93.692586 \r\nL 424.991874 103.77793 \r\nL 425.499655 85.624312 \r\nL 426.007435 75.538969 \r\nL 426.515216 74.530434 \r\nL 427.022996 76.547503 \r\nL 427.530777 75.538969 \r\nL 428.038557 90.666983 \r\nL 428.546338 61.419488 \r\nL 429.054118 90.666983 \r\nL 429.561899 82.598709 \r\nL 430.069679 113.863273 \r\nL 430.57746 73.5219 \r\nL 431.08524 87.64138 \r\nL 431.593021 83.607243 \r\nL 432.100801 77.556037 \r\nL 432.608582 87.64138 \r\nL 433.116362 108.820601 \r\nL 434.131923 83.607243 \r\nL 434.639704 79.573106 \r\nL 435.147484 66.46216 \r\nL 435.655265 73.5219 \r\nL 436.163045 66.46216 \r\nL 436.670826 99.743792 \r\nL 437.178606 95.709655 \r\nL 437.686387 111.846204 \r\nL 438.194167 96.718189 \r\nL 438.701948 92.684052 \r\nL 439.209728 83.607243 \r\nL 439.717509 65.453625 \r\nL 440.225289 96.718189 \r\nL 440.73307 62.428022 \r\nL 441.24085 77.556037 \r\nL 441.748631 73.5219 \r\nL 442.256411 79.573106 \r\nL 442.764192 92.684052 \r\nL 443.271973 110.83767 \r\nL 443.779753 88.649915 \r\nL 444.287534 81.590175 \r\nL 444.795314 91.675518 \r\nL 445.303095 69.487763 \r\nL 445.810875 79.573106 \r\nL 446.318656 77.556037 \r\nL 446.826436 84.615777 \r\nL 447.334217 83.607243 \r\nL 447.841997 54.359748 \r\nL 448.349778 98.735258 \r\nL 448.857558 59.402419 \r\nL 449.365339 83.607243 \r\nL 449.873119 65.453625 \r\nL 450.3809 77.556037 \r\nL 450.88868 93.692586 \r\nL 451.396461 66.46216 \r\nL 451.904241 104.786464 \r\nL 452.412022 68.479228 \r\nL 452.919802 58.393885 \r\nL 453.427583 81.590175 \r\nL 453.935363 65.453625 \r\nL 454.443144 72.513366 \r\nL 454.950924 77.556037 \r\nL 455.458705 80.58164 \r\nL 455.966485 62.428022 \r\nL 456.474266 63.436557 \r\nL 456.982046 81.590175 \r\nL 457.489827 69.487763 \r\nL 457.997607 71.504831 \r\nL 458.505388 53.351213 \r\nL 459.013168 82.598709 \r\nL 459.520949 85.624312 \r\nL 460.028729 59.402419 \r\nL 460.53651 76.547503 \r\nL 461.04429 75.538969 \r\nL 461.552071 67.470694 \r\nL 462.059851 88.649915 \r\nL 462.567632 89.658449 \r\nL 463.075412 63.436557 \r\nL 463.583193 73.5219 \r\nL 464.090973 96.718189 \r\nL 464.598754 97.726724 \r\nL 465.106534 69.487763 \r\nL 465.614315 101.760861 \r\nL 466.122095 83.607243 \r\nL 466.629876 86.632846 \r\nL 467.137656 84.615777 \r\nL 467.645437 76.547503 \r\nL 468.153217 102.769395 \r\nL 469.168778 65.453625 \r\nL 469.676559 64.445091 \r\nL 470.184339 49.317076 \r\nL 470.69212 88.649915 \r\nL 471.1999 94.701121 \r\nL 471.707681 78.564572 \r\nL 472.215461 58.393885 \r\nL 472.723242 60.410954 \r\nL 473.231022 64.445091 \r\nL 473.738803 71.504831 \r\nL 474.246583 53.351213 \r\nL 474.754364 91.675518 \r\nL 475.262145 71.504831 \r\nL 475.769925 81.590175 \r\nL 476.277706 69.487763 \r\nL 476.785486 63.436557 \r\nL 477.293267 80.58164 \r\nL 477.801047 47.300008 \r\nL 478.308828 82.598709 \r\nL 478.816608 64.445091 \r\nL 479.324389 65.453625 \r\nL 479.832169 86.632846 \r\nL 480.84773 70.496297 \r\nL 481.355511 67.470694 \r\nL 481.863291 111.846204 \r\nL 482.371072 83.607243 \r\nL 483.386633 49.317076 \r\nL 483.894413 60.410954 \r\nL 484.402194 83.607243 \r\nL 484.909974 100.752327 \r\nL 485.417755 66.46216 \r\nL 485.925535 67.470694 \r\nL 486.433316 95.709655 \r\nL 486.941096 71.504831 \r\nL 487.448877 100.752327 \r\nL 487.956657 97.726724 \r\nL 488.464438 58.393885 \r\nL 488.972218 70.496297 \r\nL 489.479999 62.428022 \r\nL 489.987779 92.684052 \r\nL 490.49556 78.564572 \r\nL 491.00334 56.376816 \r\nL 491.511121 52.342679 \r\nL 492.018901 80.58164 \r\nL 492.526682 76.547503 \r\nL 493.034462 79.573106 \r\nL 493.542243 80.58164 \r\nL 494.050023 68.479228 \r\nL 494.557804 40.240267 \r\nL 495.065584 69.487763 \r\nL 495.573365 82.598709 \r\nL 496.081145 98.735258 \r\nL 496.588926 61.419488 \r\nL 497.096706 54.359748 \r\nL 497.604487 109.829136 \r\nL 498.112267 62.428022 \r\nL 498.620048 73.5219 \r\nL 499.127828 92.684052 \r\nL 499.635609 93.692586 \r\nL 500.143389 75.538969 \r\nL 500.65117 109.829136 \r\nL 501.15895 68.479228 \r\nL 501.666731 75.538969 \r\nL 502.174511 64.445091 \r\nL 502.682292 69.487763 \r\nL 503.190072 113.863273 \r\nL 503.697853 73.5219 \r\nL 504.205633 80.58164 \r\nL 504.713414 63.436557 \r\nL 505.221194 74.530434 \r\nL 505.728975 60.410954 \r\nL 506.236755 70.496297 \r\nL 506.744536 94.701121 \r\nL 507.252316 63.436557 \r\nL 507.760097 87.64138 \r\nL 508.267878 89.658449 \r\nL 508.775658 72.513366 \r\nL 509.283439 70.496297 \r\nL 509.791219 81.590175 \r\nL 510.299 77.556037 \r\nL 510.80678 68.479228 \r\nL 511.314561 55.368282 \r\nL 511.822341 82.598709 \r\nL 512.330122 66.46216 \r\nL 512.837902 71.504831 \r\nL 513.345683 64.445091 \r\nL 513.853463 92.684052 \r\nL 514.361244 54.359748 \r\nL 514.869024 95.709655 \r\nL 515.376805 78.564572 \r\nL 516.392366 72.513366 \r\nL 516.900146 82.598709 \r\nL 517.407927 83.607243 \r\nL 517.915707 75.538969 \r\nL 518.423488 82.598709 \r\nL 518.931268 80.58164 \r\nL 519.439049 91.675518 \r\nL 519.946829 59.402419 \r\nL 520.96239 93.692586 \r\nL 521.470171 82.598709 \r\nL 521.977951 94.701121 \r\nL 522.485732 100.752327 \r\nL 522.993512 58.393885 \r\nL 523.501293 114.871807 \r\nL 524.516854 85.624312 \r\nL 525.024634 74.530434 \r\nL 525.532415 70.496297 \r\nL 526.040195 84.615777 \r\nL 526.547976 76.547503 \r\nL 527.055756 92.684052 \r\nL 527.563537 82.598709 \r\nL 528.071317 65.453625 \r\nL 528.579098 99.743792 \r\nL 529.086878 76.547503 \r\nL 529.594659 107.812067 \r\nL 530.102439 75.538969 \r\nL 530.61022 82.598709 \r\nL 531.118 76.547503 \r\nL 531.625781 76.547503 \r\nL 532.133561 78.564572 \r\nL 532.641342 88.649915 \r\nL 533.149122 90.666983 \r\nL 533.656903 53.351213 \r\nL 534.164683 80.58164 \r\nL 534.672464 71.504831 \r\nL 535.180244 96.718189 \r\nL 535.688025 70.496297 \r\nL 536.195805 98.735258 \r\nL 536.703586 94.701121 \r\nL 537.211366 58.393885 \r\nL 537.719147 64.445091 \r\nL 539.242488 73.5219 \r\nL 539.750269 70.496297 \r\nL 540.258049 77.556037 \r\nL 540.76583 53.351213 \r\nL 541.273611 71.504831 \r\nL 541.781391 39.231733 \r\nL 542.289172 85.624312 \r\nL 542.796952 90.666983 \r\nL 543.304733 52.342679 \r\nL 543.812513 76.547503 \r\nL 544.320294 94.701121 \r\nL 544.828074 78.564572 \r\nL 545.335855 90.666983 \r\nL 545.843635 107.812067 \r\nL 546.351416 112.854739 \r\nL 546.859196 93.692586 \r\nL 547.366977 55.368282 \r\nL 547.874757 51.334145 \r\nL 548.382538 77.556037 \r\nL 548.890318 67.470694 \r\nL 549.398099 99.743792 \r\nL 550.41366 56.376816 \r\nL 550.92144 110.83767 \r\nL 551.429221 96.718189 \r\nL 551.937001 42.257336 \r\nL 552.444782 84.615777 \r\nL 552.952562 53.351213 \r\nL 553.460343 91.675518 \r\nL 553.968123 55.368282 \r\nL 554.475904 63.436557 \r\nL 554.983684 98.735258 \r\nL 555.491465 72.513366 \r\nL 555.999245 76.547503 \r\nL 556.507026 55.368282 \r\nL 557.014806 71.504831 \r\nL 557.522587 83.607243 \r\nL 558.030367 55.368282 \r\nL 558.538148 102.769395 \r\nL 559.045928 70.496297 \r\nL 559.553709 74.530434 \r\nL 560.061489 91.675518 \r\nL 560.56927 76.547503 \r\nL 561.07705 65.453625 \r\nL 561.584831 84.615777 \r\nL 562.092611 63.436557 \r\nL 562.600392 74.530434 \r\nL 563.108172 52.342679 \r\nL 563.615953 45.282939 \r\nL 564.123733 74.530434 \r\nL 564.631514 59.402419 \r\nL 565.139294 77.556037 \r\nL 565.647075 91.675518 \r\nL 566.154855 73.5219 \r\nL 566.662636 41.248802 \r\nL 567.170416 65.453625 \r\nL 567.678197 72.513366 \r\nL 568.185977 69.487763 \r\nL 568.693758 95.709655 \r\nL 569.201538 83.607243 \r\nL 569.709319 83.607243 \r\nL 570.217099 77.556037 \r\nL 570.72488 73.5219 \r\nL 571.23266 83.607243 \r\nL 571.740441 46.291473 \r\nL 572.248221 75.538969 \r\nL 572.756002 74.530434 \r\nL 573.263783 60.410954 \r\nL 573.771563 39.231733 \r\nL 574.279344 74.530434 \r\nL 574.787124 61.419488 \r\nL 575.294905 78.564572 \r\nL 575.802685 60.410954 \r\nL 576.310466 98.735258 \r\nL 576.818246 80.58164 \r\nL 577.326027 81.590175 \r\nL 577.833807 118.905944 \r\nL 578.341588 84.615777 \r\nL 578.849368 71.504831 \r\nL 579.357149 83.607243 \r\nL 579.864929 74.530434 \r\nL 580.37271 69.487763 \r\nL 580.88049 48.308542 \r\nL 581.388271 60.410954 \r\nL 581.896051 53.351213 \r\nL 581.896051 53.351213 \r\n\" style=\"fill:none;stroke:#1f77b4;stroke-linecap:square;stroke-width:1.5;\"/>\r\n   </g>\r\n   <g id=\"patch_3\">\r\n    <path d=\"M 49.259688 298.677188 \r\nL 49.259688 26.877187 \r\n\" style=\"fill:none;stroke:#000000;stroke-linecap:square;stroke-linejoin:miter;stroke-width:0.8;\"/>\r\n   </g>\r\n   <g id=\"patch_4\">\r\n    <path d=\"M 607.259688 298.677188 \r\nL 607.259688 26.877187 \r\n\" style=\"fill:none;stroke:#000000;stroke-linecap:square;stroke-linejoin:miter;stroke-width:0.8;\"/>\r\n   </g>\r\n   <g id=\"patch_5\">\r\n    <path d=\"M 49.259688 298.677188 \r\nL 607.259688 298.677188 \r\n\" style=\"fill:none;stroke:#000000;stroke-linecap:square;stroke-linejoin:miter;stroke-width:0.8;\"/>\r\n   </g>\r\n   <g id=\"patch_6\">\r\n    <path d=\"M 49.259688 26.877187 \r\nL 607.259688 26.877187 \r\n\" style=\"fill:none;stroke:#000000;stroke-linecap:square;stroke-linejoin:miter;stroke-width:0.8;\"/>\r\n   </g>\r\n   <g id=\"text_16\">\r\n    <!-- Learning curve: Double DQN with a limit of 1000 episodes -->\r\n    <g transform=\"translate(66.683125 20.877187)scale(0.18 -0.18)\">\r\n     <defs>\r\n      <path d=\"M 9.8125 72.90625 \r\nL 19.671875 72.90625 \r\nL 19.671875 8.296875 \r\nL 55.171875 8.296875 \r\nL 55.171875 0 \r\nL 9.8125 0 \r\nz\r\n\" id=\"DejaVuSans-76\"/>\r\n      <path d=\"M 34.28125 27.484375 \r\nQ 23.390625 27.484375 19.1875 25 \r\nQ 14.984375 22.515625 14.984375 16.5 \r\nQ 14.984375 11.71875 18.140625 8.90625 \r\nQ 21.296875 6.109375 26.703125 6.109375 \r\nQ 34.1875 6.109375 38.703125 11.40625 \r\nQ 43.21875 16.703125 43.21875 25.484375 \r\nL 43.21875 27.484375 \r\nz\r\nM 52.203125 31.203125 \r\nL 52.203125 0 \r\nL 43.21875 0 \r\nL 43.21875 8.296875 \r\nQ 40.140625 3.328125 35.546875 0.953125 \r\nQ 30.953125 -1.421875 24.3125 -1.421875 \r\nQ 15.921875 -1.421875 10.953125 3.296875 \r\nQ 6 8.015625 6 15.921875 \r\nQ 6 25.140625 12.171875 29.828125 \r\nQ 18.359375 34.515625 30.609375 34.515625 \r\nL 43.21875 34.515625 \r\nL 43.21875 35.40625 \r\nQ 43.21875 41.609375 39.140625 45 \r\nQ 35.0625 48.390625 27.6875 48.390625 \r\nQ 23 48.390625 18.546875 47.265625 \r\nQ 14.109375 46.140625 10.015625 43.890625 \r\nL 10.015625 52.203125 \r\nQ 14.9375 54.109375 19.578125 55.046875 \r\nQ 24.21875 56 28.609375 56 \r\nQ 40.484375 56 46.34375 49.84375 \r\nQ 52.203125 43.703125 52.203125 31.203125 \r\nz\r\n\" id=\"DejaVuSans-97\"/>\r\n      <path d=\"M 54.890625 33.015625 \r\nL 54.890625 0 \r\nL 45.90625 0 \r\nL 45.90625 32.71875 \r\nQ 45.90625 40.484375 42.875 44.328125 \r\nQ 39.84375 48.1875 33.796875 48.1875 \r\nQ 26.515625 48.1875 22.3125 43.546875 \r\nQ 18.109375 38.921875 18.109375 30.90625 \r\nL 18.109375 0 \r\nL 9.078125 0 \r\nL 9.078125 54.6875 \r\nL 18.109375 54.6875 \r\nL 18.109375 46.1875 \r\nQ 21.34375 51.125 25.703125 53.5625 \r\nQ 30.078125 56 35.796875 56 \r\nQ 45.21875 56 50.046875 50.171875 \r\nQ 54.890625 44.34375 54.890625 33.015625 \r\nz\r\n\" id=\"DejaVuSans-110\"/>\r\n      <path d=\"M 45.40625 27.984375 \r\nQ 45.40625 37.75 41.375 43.109375 \r\nQ 37.359375 48.484375 30.078125 48.484375 \r\nQ 22.859375 48.484375 18.828125 43.109375 \r\nQ 14.796875 37.75 14.796875 27.984375 \r\nQ 14.796875 18.265625 18.828125 12.890625 \r\nQ 22.859375 7.515625 30.078125 7.515625 \r\nQ 37.359375 7.515625 41.375 12.890625 \r\nQ 45.40625 18.265625 45.40625 27.984375 \r\nz\r\nM 54.390625 6.78125 \r\nQ 54.390625 -7.171875 48.1875 -13.984375 \r\nQ 42 -20.796875 29.203125 -20.796875 \r\nQ 24.46875 -20.796875 20.265625 -20.09375 \r\nQ 16.0625 -19.390625 12.109375 -17.921875 \r\nL 12.109375 -9.1875 \r\nQ 16.0625 -11.328125 19.921875 -12.34375 \r\nQ 23.78125 -13.375 27.78125 -13.375 \r\nQ 36.625 -13.375 41.015625 -8.765625 \r\nQ 45.40625 -4.15625 45.40625 5.171875 \r\nL 45.40625 9.625 \r\nQ 42.625 4.78125 38.28125 2.390625 \r\nQ 33.9375 0 27.875 0 \r\nQ 17.828125 0 11.671875 7.65625 \r\nQ 5.515625 15.328125 5.515625 27.984375 \r\nQ 5.515625 40.671875 11.671875 48.328125 \r\nQ 17.828125 56 27.875 56 \r\nQ 33.9375 56 38.28125 53.609375 \r\nQ 42.625 51.21875 45.40625 46.390625 \r\nL 45.40625 54.6875 \r\nL 54.390625 54.6875 \r\nz\r\n\" id=\"DejaVuSans-103\"/>\r\n      <path id=\"DejaVuSans-32\"/>\r\n      <path d=\"M 8.5 21.578125 \r\nL 8.5 54.6875 \r\nL 17.484375 54.6875 \r\nL 17.484375 21.921875 \r\nQ 17.484375 14.15625 20.5 10.265625 \r\nQ 23.53125 6.390625 29.59375 6.390625 \r\nQ 36.859375 6.390625 41.078125 11.03125 \r\nQ 45.3125 15.671875 45.3125 23.6875 \r\nL 45.3125 54.6875 \r\nL 54.296875 54.6875 \r\nL 54.296875 0 \r\nL 45.3125 0 \r\nL 45.3125 8.40625 \r\nQ 42.046875 3.421875 37.71875 1 \r\nQ 33.40625 -1.421875 27.6875 -1.421875 \r\nQ 18.265625 -1.421875 13.375 4.4375 \r\nQ 8.5 10.296875 8.5 21.578125 \r\nz\r\nM 31.109375 56 \r\nz\r\n\" id=\"DejaVuSans-117\"/>\r\n      <path d=\"M 2.984375 54.6875 \r\nL 12.5 54.6875 \r\nL 29.59375 8.796875 \r\nL 46.6875 54.6875 \r\nL 56.203125 54.6875 \r\nL 35.6875 0 \r\nL 23.484375 0 \r\nz\r\n\" id=\"DejaVuSans-118\"/>\r\n      <path d=\"M 11.71875 12.40625 \r\nL 22.015625 12.40625 \r\nL 22.015625 0 \r\nL 11.71875 0 \r\nz\r\nM 11.71875 51.703125 \r\nL 22.015625 51.703125 \r\nL 22.015625 39.3125 \r\nL 11.71875 39.3125 \r\nz\r\n\" id=\"DejaVuSans-58\"/>\r\n      <path d=\"M 19.671875 64.796875 \r\nL 19.671875 8.109375 \r\nL 31.59375 8.109375 \r\nQ 46.6875 8.109375 53.6875 14.9375 \r\nQ 60.6875 21.78125 60.6875 36.53125 \r\nQ 60.6875 51.171875 53.6875 57.984375 \r\nQ 46.6875 64.796875 31.59375 64.796875 \r\nz\r\nM 9.8125 72.90625 \r\nL 30.078125 72.90625 \r\nQ 51.265625 72.90625 61.171875 64.09375 \r\nQ 71.09375 55.28125 71.09375 36.53125 \r\nQ 71.09375 17.671875 61.125 8.828125 \r\nQ 51.171875 0 30.078125 0 \r\nL 9.8125 0 \r\nz\r\n\" id=\"DejaVuSans-68\"/>\r\n      <path d=\"M 48.6875 27.296875 \r\nQ 48.6875 37.203125 44.609375 42.84375 \r\nQ 40.53125 48.484375 33.40625 48.484375 \r\nQ 26.265625 48.484375 22.1875 42.84375 \r\nQ 18.109375 37.203125 18.109375 27.296875 \r\nQ 18.109375 17.390625 22.1875 11.75 \r\nQ 26.265625 6.109375 33.40625 6.109375 \r\nQ 40.53125 6.109375 44.609375 11.75 \r\nQ 48.6875 17.390625 48.6875 27.296875 \r\nz\r\nM 18.109375 46.390625 \r\nQ 20.953125 51.265625 25.265625 53.625 \r\nQ 29.59375 56 35.59375 56 \r\nQ 45.5625 56 51.78125 48.09375 \r\nQ 58.015625 40.1875 58.015625 27.296875 \r\nQ 58.015625 14.40625 51.78125 6.484375 \r\nQ 45.5625 -1.421875 35.59375 -1.421875 \r\nQ 29.59375 -1.421875 25.265625 0.953125 \r\nQ 20.953125 3.328125 18.109375 8.203125 \r\nL 18.109375 0 \r\nL 9.078125 0 \r\nL 9.078125 75.984375 \r\nL 18.109375 75.984375 \r\nz\r\n\" id=\"DejaVuSans-98\"/>\r\n      <path d=\"M 9.421875 75.984375 \r\nL 18.40625 75.984375 \r\nL 18.40625 0 \r\nL 9.421875 0 \r\nz\r\n\" id=\"DejaVuSans-108\"/>\r\n      <path d=\"M 39.40625 66.21875 \r\nQ 28.65625 66.21875 22.328125 58.203125 \r\nQ 16.015625 50.203125 16.015625 36.375 \r\nQ 16.015625 22.609375 22.328125 14.59375 \r\nQ 28.65625 6.59375 39.40625 6.59375 \r\nQ 50.140625 6.59375 56.421875 14.59375 \r\nQ 62.703125 22.609375 62.703125 36.375 \r\nQ 62.703125 50.203125 56.421875 58.203125 \r\nQ 50.140625 66.21875 39.40625 66.21875 \r\nz\r\nM 53.21875 1.3125 \r\nL 66.21875 -12.890625 \r\nL 54.296875 -12.890625 \r\nL 43.5 -1.21875 \r\nQ 41.890625 -1.3125 41.03125 -1.359375 \r\nQ 40.1875 -1.421875 39.40625 -1.421875 \r\nQ 24.03125 -1.421875 14.8125 8.859375 \r\nQ 5.609375 19.140625 5.609375 36.375 \r\nQ 5.609375 53.65625 14.8125 63.9375 \r\nQ 24.03125 74.21875 39.40625 74.21875 \r\nQ 54.734375 74.21875 63.90625 63.9375 \r\nQ 73.09375 53.65625 73.09375 36.375 \r\nQ 73.09375 23.6875 67.984375 14.640625 \r\nQ 62.890625 5.609375 53.21875 1.3125 \r\nz\r\n\" id=\"DejaVuSans-81\"/>\r\n      <path d=\"M 9.8125 72.90625 \r\nL 23.09375 72.90625 \r\nL 55.421875 11.921875 \r\nL 55.421875 72.90625 \r\nL 64.984375 72.90625 \r\nL 64.984375 0 \r\nL 51.703125 0 \r\nL 19.390625 60.984375 \r\nL 19.390625 0 \r\nL 9.8125 0 \r\nz\r\n\" id=\"DejaVuSans-78\"/>\r\n      <path d=\"M 4.203125 54.6875 \r\nL 13.1875 54.6875 \r\nL 24.421875 12.015625 \r\nL 35.59375 54.6875 \r\nL 46.1875 54.6875 \r\nL 57.421875 12.015625 \r\nL 68.609375 54.6875 \r\nL 77.59375 54.6875 \r\nL 63.28125 0 \r\nL 52.6875 0 \r\nL 40.921875 44.828125 \r\nL 29.109375 0 \r\nL 18.5 0 \r\nz\r\n\" id=\"DejaVuSans-119\"/>\r\n      <path d=\"M 18.3125 70.21875 \r\nL 18.3125 54.6875 \r\nL 36.8125 54.6875 \r\nL 36.8125 47.703125 \r\nL 18.3125 47.703125 \r\nL 18.3125 18.015625 \r\nQ 18.3125 11.328125 20.140625 9.421875 \r\nQ 21.96875 7.515625 27.59375 7.515625 \r\nL 36.8125 7.515625 \r\nL 36.8125 0 \r\nL 27.59375 0 \r\nQ 17.1875 0 13.234375 3.875 \r\nQ 9.28125 7.765625 9.28125 18.015625 \r\nL 9.28125 47.703125 \r\nL 2.6875 47.703125 \r\nL 2.6875 54.6875 \r\nL 9.28125 54.6875 \r\nL 9.28125 70.21875 \r\nz\r\n\" id=\"DejaVuSans-116\"/>\r\n      <path d=\"M 54.890625 33.015625 \r\nL 54.890625 0 \r\nL 45.90625 0 \r\nL 45.90625 32.71875 \r\nQ 45.90625 40.484375 42.875 44.328125 \r\nQ 39.84375 48.1875 33.796875 48.1875 \r\nQ 26.515625 48.1875 22.3125 43.546875 \r\nQ 18.109375 38.921875 18.109375 30.90625 \r\nL 18.109375 0 \r\nL 9.078125 0 \r\nL 9.078125 75.984375 \r\nL 18.109375 75.984375 \r\nL 18.109375 46.1875 \r\nQ 21.34375 51.125 25.703125 53.5625 \r\nQ 30.078125 56 35.796875 56 \r\nQ 45.21875 56 50.046875 50.171875 \r\nQ 54.890625 44.34375 54.890625 33.015625 \r\nz\r\n\" id=\"DejaVuSans-104\"/>\r\n      <path d=\"M 52 44.1875 \r\nQ 55.375 50.25 60.0625 53.125 \r\nQ 64.75 56 71.09375 56 \r\nQ 79.640625 56 84.28125 50.015625 \r\nQ 88.921875 44.046875 88.921875 33.015625 \r\nL 88.921875 0 \r\nL 79.890625 0 \r\nL 79.890625 32.71875 \r\nQ 79.890625 40.578125 77.09375 44.375 \r\nQ 74.3125 48.1875 68.609375 48.1875 \r\nQ 61.625 48.1875 57.5625 43.546875 \r\nQ 53.515625 38.921875 53.515625 30.90625 \r\nL 53.515625 0 \r\nL 44.484375 0 \r\nL 44.484375 32.71875 \r\nQ 44.484375 40.625 41.703125 44.40625 \r\nQ 38.921875 48.1875 33.109375 48.1875 \r\nQ 26.21875 48.1875 22.15625 43.53125 \r\nQ 18.109375 38.875 18.109375 30.90625 \r\nL 18.109375 0 \r\nL 9.078125 0 \r\nL 9.078125 54.6875 \r\nL 18.109375 54.6875 \r\nL 18.109375 46.1875 \r\nQ 21.1875 51.21875 25.484375 53.609375 \r\nQ 29.78125 56 35.6875 56 \r\nQ 41.65625 56 45.828125 52.96875 \r\nQ 50 49.953125 52 44.1875 \r\nz\r\n\" id=\"DejaVuSans-109\"/>\r\n      <path d=\"M 37.109375 75.984375 \r\nL 37.109375 68.5 \r\nL 28.515625 68.5 \r\nQ 23.6875 68.5 21.796875 66.546875 \r\nQ 19.921875 64.59375 19.921875 59.515625 \r\nL 19.921875 54.6875 \r\nL 34.71875 54.6875 \r\nL 34.71875 47.703125 \r\nL 19.921875 47.703125 \r\nL 19.921875 0 \r\nL 10.890625 0 \r\nL 10.890625 47.703125 \r\nL 2.296875 47.703125 \r\nL 2.296875 54.6875 \r\nL 10.890625 54.6875 \r\nL 10.890625 58.5 \r\nQ 10.890625 67.625 15.140625 71.796875 \r\nQ 19.390625 75.984375 28.609375 75.984375 \r\nz\r\n\" id=\"DejaVuSans-102\"/>\r\n     </defs>\r\n     <use xlink:href=\"#DejaVuSans-76\"/>\r\n     <use x=\"53.962891\" xlink:href=\"#DejaVuSans-101\"/>\r\n     <use x=\"115.486328\" xlink:href=\"#DejaVuSans-97\"/>\r\n     <use x=\"176.765625\" xlink:href=\"#DejaVuSans-114\"/>\r\n     <use x=\"216.128906\" xlink:href=\"#DejaVuSans-110\"/>\r\n     <use x=\"279.507812\" xlink:href=\"#DejaVuSans-105\"/>\r\n     <use x=\"307.291016\" xlink:href=\"#DejaVuSans-110\"/>\r\n     <use x=\"370.669922\" xlink:href=\"#DejaVuSans-103\"/>\r\n     <use x=\"434.146484\" xlink:href=\"#DejaVuSans-32\"/>\r\n     <use x=\"465.933594\" xlink:href=\"#DejaVuSans-99\"/>\r\n     <use x=\"520.914062\" xlink:href=\"#DejaVuSans-117\"/>\r\n     <use x=\"584.292969\" xlink:href=\"#DejaVuSans-114\"/>\r\n     <use x=\"625.40625\" xlink:href=\"#DejaVuSans-118\"/>\r\n     <use x=\"684.585938\" xlink:href=\"#DejaVuSans-101\"/>\r\n     <use x=\"746.109375\" xlink:href=\"#DejaVuSans-58\"/>\r\n     <use x=\"779.800781\" xlink:href=\"#DejaVuSans-32\"/>\r\n     <use x=\"811.587891\" xlink:href=\"#DejaVuSans-68\"/>\r\n     <use x=\"888.589844\" xlink:href=\"#DejaVuSans-111\"/>\r\n     <use x=\"949.771484\" xlink:href=\"#DejaVuSans-117\"/>\r\n     <use x=\"1013.150391\" xlink:href=\"#DejaVuSans-98\"/>\r\n     <use x=\"1076.626953\" xlink:href=\"#DejaVuSans-108\"/>\r\n     <use x=\"1104.410156\" xlink:href=\"#DejaVuSans-101\"/>\r\n     <use x=\"1165.933594\" xlink:href=\"#DejaVuSans-32\"/>\r\n     <use x=\"1197.720703\" xlink:href=\"#DejaVuSans-68\"/>\r\n     <use x=\"1274.722656\" xlink:href=\"#DejaVuSans-81\"/>\r\n     <use x=\"1353.433594\" xlink:href=\"#DejaVuSans-78\"/>\r\n     <use x=\"1428.238281\" xlink:href=\"#DejaVuSans-32\"/>\r\n     <use x=\"1460.025391\" xlink:href=\"#DejaVuSans-119\"/>\r\n     <use x=\"1541.8125\" xlink:href=\"#DejaVuSans-105\"/>\r\n     <use x=\"1569.595703\" xlink:href=\"#DejaVuSans-116\"/>\r\n     <use x=\"1608.804688\" xlink:href=\"#DejaVuSans-104\"/>\r\n     <use x=\"1672.183594\" xlink:href=\"#DejaVuSans-32\"/>\r\n     <use x=\"1703.970703\" xlink:href=\"#DejaVuSans-97\"/>\r\n     <use x=\"1765.25\" xlink:href=\"#DejaVuSans-32\"/>\r\n     <use x=\"1797.037109\" xlink:href=\"#DejaVuSans-108\"/>\r\n     <use x=\"1824.820312\" xlink:href=\"#DejaVuSans-105\"/>\r\n     <use x=\"1852.603516\" xlink:href=\"#DejaVuSans-109\"/>\r\n     <use x=\"1950.015625\" xlink:href=\"#DejaVuSans-105\"/>\r\n     <use x=\"1977.798828\" xlink:href=\"#DejaVuSans-116\"/>\r\n     <use x=\"2017.007812\" xlink:href=\"#DejaVuSans-32\"/>\r\n     <use x=\"2048.794922\" xlink:href=\"#DejaVuSans-111\"/>\r\n     <use x=\"2109.976562\" xlink:href=\"#DejaVuSans-102\"/>\r\n     <use x=\"2145.181641\" xlink:href=\"#DejaVuSans-32\"/>\r\n     <use x=\"2176.96875\" xlink:href=\"#DejaVuSans-49\"/>\r\n     <use x=\"2240.591797\" xlink:href=\"#DejaVuSans-48\"/>\r\n     <use x=\"2304.214844\" xlink:href=\"#DejaVuSans-48\"/>\r\n     <use x=\"2367.837891\" xlink:href=\"#DejaVuSans-48\"/>\r\n     <use x=\"2431.460938\" xlink:href=\"#DejaVuSans-32\"/>\r\n     <use x=\"2463.248047\" xlink:href=\"#DejaVuSans-101\"/>\r\n     <use x=\"2524.771484\" xlink:href=\"#DejaVuSans-112\"/>\r\n     <use x=\"2588.248047\" xlink:href=\"#DejaVuSans-105\"/>\r\n     <use x=\"2616.03125\" xlink:href=\"#DejaVuSans-115\"/>\r\n     <use x=\"2668.130859\" xlink:href=\"#DejaVuSans-111\"/>\r\n     <use x=\"2729.3125\" xlink:href=\"#DejaVuSans-100\"/>\r\n     <use x=\"2792.789062\" xlink:href=\"#DejaVuSans-101\"/>\r\n     <use x=\"2854.3125\" xlink:href=\"#DejaVuSans-115\"/>\r\n    </g>\r\n   </g>\r\n  </g>\r\n </g>\r\n <defs>\r\n  <clipPath id=\"pd10cfc2ab6\">\r\n   <rect height=\"271.8\" width=\"558\" x=\"49.259688\" y=\"26.877187\"/>\r\n  </clipPath>\r\n </defs>\r\n</svg>\r\n",
      "text/plain": [
       "<Figure size 720x360 with 1 Axes>"
      ]
     },
     "metadata": {
      "needs_background": "light"
     },
     "output_type": "display_data"
    }
   ],
   "source": [
    "# get the smallest size to make it fit into the plot\n",
    "# smallest_list_len = min([len(data) for data in learning_data])\n",
    "\n",
    "# processed_learning_data = [(learning_data[i][:smallest_list_len]) for i in range(len(learning_data))]\n",
    "processed_learning_data_array = np.array(learning_data)\n",
    "# Calculate the average over the n_learning_process curves\n",
    "output = np.average(processed_learning_data_array, axis=0)\n",
    "\n",
    "\n",
    "#Plotting the learning curve\n",
    "plt.plot(output)\n",
    "plt.xlabel(\"Episodes\")\n",
    "plt.ylabel(\"Score\")\n",
    "plt.title(f\"Learning curve: Double DQN with a limit of {n_episodes} episodes\")\n",
    "# show! montadas as funções"
   ]
  }
 ],
 "metadata": {
  "kernelspec": {
   "display_name": "drlnd",
   "language": "python",
   "name": "python3"
  },
  "language_info": {
   "codemirror_mode": {
    "name": "ipython",
    "version": 3
   },
   "file_extension": ".py",
   "mimetype": "text/x-python",
   "name": "python",
   "nbconvert_exporter": "python",
   "pygments_lexer": "ipython3",
   "version": "3.6.13"
  },
  "vscode": {
   "interpreter": {
    "hash": "7d5a6eb37eab106ee73255bf6977e218158eca1d7d01f034983b95ae0d576c4b"
   }
  }
 },
 "nbformat": 4,
 "nbformat_minor": 2
}
